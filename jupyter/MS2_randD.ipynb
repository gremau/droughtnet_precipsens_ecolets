{
 "cells": [
  {
   "cell_type": "markdown",
   "metadata": {},
   "source": [
    "# Model selection 2 - Ecosystem sensitivity to precip and aridity\n",
    "\n",
    "Using domain as a random effect (NEON domain as fixed effect tried in [this notebook](sensitivity_fixedDomain.ipynb)).\n",
    "\n",
    "This model selection routing identifies the best linear mixed model for NDVIint as a function of precip, ZNDVIint as a function of precip, and ZNDVIint as a function of SPEI. There are a few problems with these models. \n",
    "\n",
    "1. The residuals are heavy tailed (see q-q plots), indicating that this is non-normal data. Some ways to approach this might be:\n",
    "\n",
    "    - transform the data (see here: https://stats.stackexchange.com/questions/283375/violated-normality-of-residuals-assumption-in-linear-mixed-model)\n",
    "    - use a glmm (glmer from lme4 library does this)\n",
    "\n",
    "2. Its difficult to get model uncertainties from lme objects. Other model packages (lmer in lme4) ay do this) but do not offer specification of an autoregressive correlation model. Options for this might be:\n",
    "\n",
    "    - Calculate RMSE from the residuals\n",
    "    - Use a lmer or glmer and ignore the autoregressive nature of the data.\n",
    "    \n",
    "The [MS3_randD.ipynb](MS3_randD.ipynb) notebook has some trials to try to fix these."
   ]
  },
  {
   "cell_type": "markdown",
   "metadata": {},
   "source": [
    "## Load packages and data"
   ]
  },
  {
   "cell_type": "code",
   "execution_count": 1,
   "metadata": {},
   "outputs": [
    {
     "name": "stderr",
     "output_type": "stream",
     "text": [
      "\n",
      "Attaching package: ‘dplyr’\n",
      "\n",
      "The following objects are masked from ‘package:stats’:\n",
      "\n",
      "    filter, lag\n",
      "\n",
      "The following objects are masked from ‘package:base’:\n",
      "\n",
      "    intersect, setdiff, setequal, union\n",
      "\n",
      "\n",
      "Attaching package: ‘nlme’\n",
      "\n",
      "The following object is masked from ‘package:dplyr’:\n",
      "\n",
      "    collapse\n",
      "\n",
      "Loading required package: sp\n",
      "rgdal: version: 1.4-7, (SVN revision 845)\n",
      " Geospatial Data Abstraction Library extensions to R successfully loaded\n",
      " Loaded GDAL runtime: GDAL 2.4.3, released 2019/10/28\n",
      " Path to GDAL shared files: /usr/share/gdal\n",
      " GDAL binary built with GEOS: TRUE \n",
      " Loaded PROJ.4 runtime: Rel. 6.2.1, November 1st, 2019, [PJ_VERSION: 620]\n",
      " Path to PROJ.4 shared files: (autodetected)\n",
      " Linking to sp version: 1.3-1 \n"
     ]
    },
    {
     "name": "stdout",
     "output_type": "stream",
     "text": [
      "OGR data source with driver: ESRI Shapefile \n",
      "Source: \"/home/greg/data/GD_gregmaurer/droughtnet_precipsens_data/NEONdomains\", layer: \"NEON_Domains\"\n",
      "with 22 features\n",
      "It has 6 fields\n"
     ]
    },
    {
     "name": "stderr",
     "output_type": "stream",
     "text": [
      "Regions defined for each Polygons\n"
     ]
    }
   ],
   "source": [
    "library('ggplot2')\n",
    "library('repr')\n",
    "library('dplyr')\n",
    "library('nlme')\n",
    "\n",
    "source('common_stats_functions.r')"
   ]
  },
  {
   "cell_type": "code",
   "execution_count": 2,
   "metadata": {},
   "outputs": [
    {
     "name": "stdout",
     "output_type": "stream",
     "text": [
      "[1] \"Loading ~/GD_gregmaurer/droughtnet_precipsens_data/MODIS/annual_ushcn_NDVI.csv\"\n"
     ]
    },
    {
     "name": "stderr",
     "output_type": "stream",
     "text": [
      "Parsed with column specification:\n",
      "cols(\n",
      "  stationid = \u001b[31mcol_character()\u001b[39m,\n",
      "  year = \u001b[32mcol_double()\u001b[39m,\n",
      "  ndvi_mean = \u001b[32mcol_double()\u001b[39m,\n",
      "  ndvi_max = \u001b[32mcol_double()\u001b[39m,\n",
      "  ndvi_min = \u001b[32mcol_double()\u001b[39m,\n",
      "  ndvi_sum = \u001b[32mcol_double()\u001b[39m,\n",
      "  zndvi_mean = \u001b[32mcol_double()\u001b[39m,\n",
      "  zndvi_max = \u001b[32mcol_double()\u001b[39m,\n",
      "  zndvi_min = \u001b[32mcol_double()\u001b[39m,\n",
      "  zndvi_sum = \u001b[32mcol_double()\u001b[39m,\n",
      "  ndvi_gsmean = \u001b[32mcol_double()\u001b[39m,\n",
      "  ndvi_gssum = \u001b[32mcol_double()\u001b[39m,\n",
      "  zndvi_gsmean = \u001b[32mcol_double()\u001b[39m,\n",
      "  zndvi_gssum = \u001b[32mcol_double()\u001b[39m\n",
      ")\n"
     ]
    },
    {
     "name": "stdout",
     "output_type": "stream",
     "text": [
      "[1] \"Loading ~/GD_gregmaurer/droughtnet_precipsens_data/USHCN_derived/annual_ushcn_spei_allstations.csv\"\n"
     ]
    },
    {
     "name": "stderr",
     "output_type": "stream",
     "text": [
      "Parsed with column specification:\n",
      "cols(\n",
      "  .default = col_double(),\n",
      "  stationid = \u001b[31mcol_character()\u001b[39m\n",
      ")\n",
      "See spec(...) for full column specifications.\n"
     ]
    },
    {
     "name": "stdout",
     "output_type": "stream",
     "text": [
      "[1] \"Loading ~/GD_gregmaurer/droughtnet_precipsens_data/USHCN_derived/allyr_ushcn_calcs_allstations.csv\"\n"
     ]
    },
    {
     "name": "stderr",
     "output_type": "stream",
     "text": [
      "Parsed with column specification:\n",
      "cols(\n",
      "  .default = col_double(),\n",
      "  stationid = \u001b[31mcol_character()\u001b[39m,\n",
      "  elev = \u001b[31mcol_character()\u001b[39m,\n",
      "  state = \u001b[31mcol_character()\u001b[39m,\n",
      "  name = \u001b[31mcol_character()\u001b[39m,\n",
      "  flag1 = \u001b[31mcol_character()\u001b[39m,\n",
      "  flag2 = \u001b[31mcol_character()\u001b[39m,\n",
      "  flag3 = \u001b[31mcol_character()\u001b[39m\n",
      ")\n",
      "See spec(...) for full column specifications.\n"
     ]
    },
    {
     "name": "stdout",
     "output_type": "stream",
     "text": [
      "[1] \"Assigning NEON domain names to locCalcs dataframe...\"\n",
      "OGR data source with driver: ESRI Shapefile \n",
      "Source: \"/home/greg/data/GD_gregmaurer/droughtnet_precipsens_data/NEONdomains\", layer: \"NEON_Domains\"\n",
      "with 22 features\n",
      "It has 6 fields\n",
      "[1] \"Loading ~/GD_gregmaurer/droughtnet_precipsens_data/MODIS/annual_ushcn_eeMODIS.csv\"\n"
     ]
    },
    {
     "name": "stderr",
     "output_type": "stream",
     "text": [
      "Parsed with column specification:\n",
      "cols(\n",
      "  .default = col_double(),\n",
      "  stationid = \u001b[31mcol_character()\u001b[39m,\n",
      "  date = \u001b[34mcol_datetime(format = \"\")\u001b[39m\n",
      ")\n",
      "See spec(...) for full column specifications.\n"
     ]
    },
    {
     "name": "stdout",
     "output_type": "stream",
     "text": [
      "[1] \"Subsetting SPEI (>1999) and merging three dataframes...\"\n",
      "[1] \"Removing 160 rows missing domain names...\"\n"
     ]
    },
    {
     "data": {
      "text/html": [
       "<ol class=list-inline>\n",
       "\t<li>19328</li>\n",
       "\t<li>94</li>\n",
       "</ol>\n"
      ],
      "text/latex": [
       "\\begin{enumerate*}\n",
       "\\item 19328\n",
       "\\item 94\n",
       "\\end{enumerate*}\n"
      ],
      "text/markdown": [
       "1. 19328\n",
       "2. 94\n",
       "\n",
       "\n"
      ],
      "text/plain": [
       "[1] 19328    94"
      ]
     },
     "metadata": {},
     "output_type": "display_data"
    },
    {
     "name": "stdout",
     "output_type": "stream",
     "text": [
      "[1] \"Loading ~/GD_gregmaurer/droughtnet_precipsens_data/USHCN_derived/annual_ushcn_spei_allstations.csv\"\n"
     ]
    },
    {
     "name": "stderr",
     "output_type": "stream",
     "text": [
      "Parsed with column specification:\n",
      "cols(\n",
      "  .default = col_double(),\n",
      "  stationid = \u001b[31mcol_character()\u001b[39m\n",
      ")\n",
      "See spec(...) for full column specifications.\n"
     ]
    },
    {
     "name": "stdout",
     "output_type": "stream",
     "text": [
      "[1] \"Loading ~/GD_gregmaurer/droughtnet_precipsens_data/USHCN_derived/allyr_ushcn_calcs_allstations.csv\"\n"
     ]
    },
    {
     "name": "stderr",
     "output_type": "stream",
     "text": [
      "Parsed with column specification:\n",
      "cols(\n",
      "  .default = col_double(),\n",
      "  stationid = \u001b[31mcol_character()\u001b[39m,\n",
      "  elev = \u001b[31mcol_character()\u001b[39m,\n",
      "  state = \u001b[31mcol_character()\u001b[39m,\n",
      "  name = \u001b[31mcol_character()\u001b[39m,\n",
      "  flag1 = \u001b[31mcol_character()\u001b[39m,\n",
      "  flag2 = \u001b[31mcol_character()\u001b[39m,\n",
      "  flag3 = \u001b[31mcol_character()\u001b[39m\n",
      ")\n",
      "See spec(...) for full column specifications.\n"
     ]
    },
    {
     "name": "stdout",
     "output_type": "stream",
     "text": [
      "[1] \"Assigning NEON domain names to locCalcs dataframe...\"\n",
      "OGR data source with driver: ESRI Shapefile \n",
      "Source: \"/home/greg/data/GD_gregmaurer/droughtnet_precipsens_data/NEONdomains\", layer: \"NEON_Domains\"\n",
      "with 22 features\n",
      "It has 6 fields\n",
      "[1] \"Merging two dataframes...\"\n",
      "[1] \"Removing 1300 rows missing domain names...\"\n"
     ]
    },
    {
     "data": {
      "text/html": [
       "<ol class=list-inline>\n",
       "\t<li>151542</li>\n",
       "\t<li>55</li>\n",
       "</ol>\n"
      ],
      "text/latex": [
       "\\begin{enumerate*}\n",
       "\\item 151542\n",
       "\\item 55\n",
       "\\end{enumerate*}\n"
      ],
      "text/markdown": [
       "1. 151542\n",
       "2. 55\n",
       "\n",
       "\n"
      ],
      "text/plain": [
       "[1] 151542     55"
      ]
     },
     "metadata": {},
     "output_type": "display_data"
    }
   ],
   "source": [
    "# Get the sensitivity statistics dataframe and\n",
    "# the long-term USHCN statistics datafame\n",
    "df <- sensitivity_stats_df()\n",
    "dim(df)\n",
    "df2 <- longterm_climate_df()\n",
    "dim(df2)"
   ]
  },
  {
   "cell_type": "markdown",
   "metadata": {},
   "source": [
    "## Models for annual summed ndvi (NDVIint) vs precip"
   ]
  },
  {
   "cell_type": "code",
   "execution_count": 3,
   "metadata": {},
   "outputs": [
    {
     "data": {
      "text/html": [
       "<table>\n",
       "<caption>A data.frame: 9 × 2</caption>\n",
       "<thead>\n",
       "\t<tr><th scope=col>AIC</th><th scope=col>BIC</th></tr>\n",
       "\t<tr><th scope=col>&lt;dbl&gt;</th><th scope=col>&lt;dbl&gt;</th></tr>\n",
       "</thead>\n",
       "<tbody>\n",
       "\t<tr><td>  325.2675</td><td>  372.2498</td></tr>\n",
       "\t<tr><td> -303.8147</td><td> -131.5653</td></tr>\n",
       "\t<tr><td>-1020.7909</td><td> -723.3019</td></tr>\n",
       "\t<tr><td>46125.8641</td><td>46172.8464</td></tr>\n",
       "\t<tr><td>46111.3210</td><td>46283.5704</td></tr>\n",
       "\t<tr><td>46295.1548</td><td>46592.6438</td></tr>\n",
       "\t<tr><td>-1241.2803</td><td>-1170.8069</td></tr>\n",
       "\t<tr><td>-1237.0576</td><td>-1041.3196</td></tr>\n",
       "\t<tr><td>-1014.7909</td><td> -693.8160</td></tr>\n",
       "</tbody>\n",
       "</table>\n"
      ],
      "text/latex": [
       "A data.frame: 9 × 2\n",
       "\\begin{tabular}{r|ll}\n",
       " AIC & BIC\\\\\n",
       " <dbl> & <dbl>\\\\\n",
       "\\hline\n",
       "\t   325.2675 &   372.2498\\\\\n",
       "\t  -303.8147 &  -131.5653\\\\\n",
       "\t -1020.7909 &  -723.3019\\\\\n",
       "\t 46125.8641 & 46172.8464\\\\\n",
       "\t 46111.3210 & 46283.5704\\\\\n",
       "\t 46295.1548 & 46592.6438\\\\\n",
       "\t -1241.2803 & -1170.8069\\\\\n",
       "\t -1237.0576 & -1041.3196\\\\\n",
       "\t -1014.7909 &  -693.8160\\\\\n",
       "\\end{tabular}\n"
      ],
      "text/markdown": [
       "\n",
       "A data.frame: 9 × 2\n",
       "\n",
       "| AIC &lt;dbl&gt; | BIC &lt;dbl&gt; |\n",
       "|---|---|\n",
       "|   325.2675 |   372.2498 |\n",
       "|  -303.8147 |  -131.5653 |\n",
       "| -1020.7909 |  -723.3019 |\n",
       "| 46125.8641 | 46172.8464 |\n",
       "| 46111.3210 | 46283.5704 |\n",
       "| 46295.1548 | 46592.6438 |\n",
       "| -1241.2803 | -1170.8069 |\n",
       "| -1237.0576 | -1041.3196 |\n",
       "| -1014.7909 |  -693.8160 |\n",
       "\n"
      ],
      "text/plain": [
       "  AIC        BIC       \n",
       "1   325.2675   372.2498\n",
       "2  -303.8147  -131.5653\n",
       "3 -1020.7909  -723.3019\n",
       "4 46125.8641 46172.8464\n",
       "5 46111.3210 46283.5704\n",
       "6 46295.1548 46592.6438\n",
       "7 -1241.2803 -1170.8069\n",
       "8 -1237.0576 -1041.3196\n",
       "9 -1014.7909  -693.8160"
      ]
     },
     "metadata": {},
     "output_type": "display_data"
    }
   ],
   "source": [
    "# Set an optimization parameter - not quite sure why\n",
    "ctrl <- lmeControl(opt='optim')\n",
    "# ndvi_sum ~ prcp_sum, random slope and intercept by statioon\n",
    "ndviprcp_StaRand <- lme(ndvi_sum ~ prcp_sum, random=~1+prcp_sum|stationid,\n",
    "                        data=df, na.action=na.omit)\n",
    "# ndvi_sum ~ prcp_sum + neonDomainName, random slope and intercept by stationid\n",
    "ndviprcp_DFixed_StaRand <- lme(ndvi_sum ~ prcp_sum + neonDomainName,\n",
    "                               random=~1+prcp_sum|stationid,\n",
    "                               data=df, na.action=na.omit)\n",
    "# ndvi_sum ~ prcp_sum * neonDomainName, random slope and intercept by stationid\n",
    "ndviprcp_DFixedInt_StaRand <- lme(ndvi_sum ~ prcp_sum * neonDomainName,\n",
    "                                  random=~1+prcp_sum|stationid,\n",
    "                                  data=df, na.action=na.omit)\n",
    "\n",
    "# ndvi_sum ~ prcp_sum, random slope and intercept by domain\n",
    "ndviprcp_DomRand <- lme(ndvi_sum ~ prcp_sum, random=~1+prcp_sum|neonDomainName,\n",
    "                        data=df, na.action=na.omit)\n",
    "# ndvi_sum ~ prcp_sum + neonDomainName, random slope and intercept by domain\n",
    "ndviprcp_DFixed_DomRand <- lme(ndvi_sum ~ prcp_sum + neonDomainName,\n",
    "                               random=~1+prcp_sum|neonDomainName,\n",
    "                               data=df, na.action=na.omit)\n",
    "# ndvi_sum ~ prcp_sum * neonDomainName, random slope and intercept by domain\n",
    "ndviprcp_DFixedInt_DomRand <- lme(ndvi_sum ~ prcp_sum * neonDomainName,\n",
    "                                  random=~1+prcp_sum|neonDomainName,\n",
    "                                  control=ctrl, data=df, na.action=na.omit)\n",
    "\n",
    "# ndvi_sum ~ prcp_sum, random slope and intercept by domain/stationid\n",
    "ndviprcp_DomStaRand <- lme(ndvi_sum ~ prcp_sum, random=~1+prcp_sum|neonDomainName/stationid,\n",
    "                           data=df, na.action=na.omit)\n",
    "# ndvi_sum ~ prcp_sum + neonDomainName, random slope and intercept by domain/stationid\n",
    "ndviprcp_DFixed_DomStaRand <- lme(ndvi_sum ~ prcp_sum + neonDomainName,\n",
    "                                  random=~1+prcp_sum|neonDomainName/stationid,\n",
    "                                  data=df, na.action=na.omit)\n",
    "# ndvi_sum ~ prcp_sum * neonDomainName, random slope and intercept by domain/stationid\n",
    "ndviprcp_DFixedInt_DomStaRand <- lme(ndvi_sum ~ prcp_sum * neonDomainName,\n",
    "                                     random=~1+prcp_sum|neonDomainName/stationid,\n",
    "                                     data=df, na.action=na.omit)\n",
    "\n",
    "data.frame(AIC=c(\n",
    "AIC(ndviprcp_StaRand),\n",
    "AIC(ndviprcp_DFixed_StaRand),\n",
    "AIC(ndviprcp_DFixedInt_StaRand),\n",
    "AIC(ndviprcp_DomRand),\n",
    "AIC(ndviprcp_DFixed_DomRand),\n",
    "AIC(ndviprcp_DFixedInt_DomRand),\n",
    "AIC(ndviprcp_DomStaRand),\n",
    "AIC(ndviprcp_DFixed_DomStaRand),\n",
    "AIC(ndviprcp_DFixedInt_DomStaRand)),\n",
    "BIC=c(\n",
    "BIC(ndviprcp_StaRand),\n",
    "BIC(ndviprcp_DFixed_StaRand),\n",
    "BIC(ndviprcp_DFixedInt_StaRand),\n",
    "BIC(ndviprcp_DomRand),\n",
    "BIC(ndviprcp_DFixed_DomRand),\n",
    "BIC(ndviprcp_DFixedInt_DomRand),\n",
    "BIC(ndviprcp_DomStaRand),# ***\n",
    "BIC(ndviprcp_DFixed_DomStaRand),\n",
    "BIC(ndviprcp_DFixedInt_DomStaRand)))"
   ]
  },
  {
   "cell_type": "code",
   "execution_count": 4,
   "metadata": {},
   "outputs": [
    {
     "data": {
      "text/html": [
       "<table>\n",
       "<caption>A data.frame: 9 × 2</caption>\n",
       "<thead>\n",
       "\t<tr><th scope=col>AIC</th><th scope=col>BIC</th></tr>\n",
       "\t<tr><th scope=col>&lt;dbl&gt;</th><th scope=col>&lt;dbl&gt;</th></tr>\n",
       "</thead>\n",
       "<tbody>\n",
       "\t<tr><td> -512.0663</td><td> -457.2537</td></tr>\n",
       "\t<tr><td>-1144.5291</td><td> -964.4502</td></tr>\n",
       "\t<tr><td>-1888.2794</td><td>-1582.9618</td></tr>\n",
       "\t<tr><td>16887.4243</td><td>16942.2370</td></tr>\n",
       "\t<tr><td>16885.4957</td><td>17065.5746</td></tr>\n",
       "\t<tr><td>17103.3308</td><td>17408.6484</td></tr>\n",
       "\t<tr><td>-2109.0787</td><td>-2030.7749</td></tr>\n",
       "\t<tr><td>-2106.6910</td><td>-1903.1235</td></tr>\n",
       "\t<tr><td>-1882.2794</td><td>-1553.4758</td></tr>\n",
       "</tbody>\n",
       "</table>\n"
      ],
      "text/latex": [
       "A data.frame: 9 × 2\n",
       "\\begin{tabular}{r|ll}\n",
       " AIC & BIC\\\\\n",
       " <dbl> & <dbl>\\\\\n",
       "\\hline\n",
       "\t  -512.0663 &  -457.2537\\\\\n",
       "\t -1144.5291 &  -964.4502\\\\\n",
       "\t -1888.2794 & -1582.9618\\\\\n",
       "\t 16887.4243 & 16942.2370\\\\\n",
       "\t 16885.4957 & 17065.5746\\\\\n",
       "\t 17103.3308 & 17408.6484\\\\\n",
       "\t -2109.0787 & -2030.7749\\\\\n",
       "\t -2106.6910 & -1903.1235\\\\\n",
       "\t -1882.2794 & -1553.4758\\\\\n",
       "\\end{tabular}\n"
      ],
      "text/markdown": [
       "\n",
       "A data.frame: 9 × 2\n",
       "\n",
       "| AIC &lt;dbl&gt; | BIC &lt;dbl&gt; |\n",
       "|---|---|\n",
       "|  -512.0663 |  -457.2537 |\n",
       "| -1144.5291 |  -964.4502 |\n",
       "| -1888.2794 | -1582.9618 |\n",
       "| 16887.4243 | 16942.2370 |\n",
       "| 16885.4957 | 17065.5746 |\n",
       "| 17103.3308 | 17408.6484 |\n",
       "| -2109.0787 | -2030.7749 |\n",
       "| -2106.6910 | -1903.1235 |\n",
       "| -1882.2794 | -1553.4758 |\n",
       "\n"
      ],
      "text/plain": [
       "  AIC        BIC       \n",
       "1  -512.0663  -457.2537\n",
       "2 -1144.5291  -964.4502\n",
       "3 -1888.2794 -1582.9618\n",
       "4 16887.4243 16942.2370\n",
       "5 16885.4957 17065.5746\n",
       "6 17103.3308 17408.6484\n",
       "7 -2109.0787 -2030.7749\n",
       "8 -2106.6910 -1903.1235\n",
       "9 -1882.2794 -1553.4758"
      ]
     },
     "metadata": {},
     "output_type": "display_data"
    }
   ],
   "source": [
    "# Same models but with AR1 correlation structure\n",
    "# ndvi_sum ~ prcp_sum, random slope and intercept by statioon\n",
    "ndviprcp_AR_StaRand <- lme(ndvi_sum ~ prcp_sum, random=~1+prcp_sum|stationid,\n",
    "                        correlation=corAR1(),\n",
    "                        data=df, na.action=na.omit)\n",
    "# ndvi_sum ~ prcp_sum + neonDomainName, random slope and intercept by stationid\n",
    "ndviprcp_AR_DFixed_StaRand <- lme(ndvi_sum ~ prcp_sum + neonDomainName,\n",
    "                               random=~1+prcp_sum|stationid,\n",
    "                               correlation=corAR1(),\n",
    "                               data=df, na.action=na.omit)\n",
    "# ndvi_sum ~ prcp_sum * neonDomainName, random slope and intercept by stationid\n",
    "ndviprcp_AR_DFixedInt_StaRand <- lme(ndvi_sum ~ prcp_sum * neonDomainName,\n",
    "                                  random=~1+prcp_sum|stationid,\n",
    "                                  correlation=corAR1(),\n",
    "                                  data=df, na.action=na.omit)\n",
    "\n",
    "# ndvi_sum ~ prcp_sum, random slope and intercept by domain\n",
    "ndviprcp_AR_DomRand <- lme(ndvi_sum ~ prcp_sum, random=~1+prcp_sum|neonDomainName,\n",
    "                        correlation=corAR1(),\n",
    "                        data=df, na.action=na.omit)\n",
    "# ndvi_sum ~ prcp_sum + neonDomainName, random slope and intercept by domain\n",
    "ndviprcp_AR_DFixed_DomRand <- lme(ndvi_sum ~ prcp_sum + neonDomainName,\n",
    "                               random=~1+prcp_sum|neonDomainName,\n",
    "                               correlation=corAR1(),\n",
    "                               data=df, na.action=na.omit)\n",
    "# ndvi_sum ~ prcp_sum * neonDomainName, random slope and intercept by domain\n",
    "ndviprcp_AR_DFixedInt_DomRand <- lme(ndvi_sum ~ prcp_sum * neonDomainName,\n",
    "                                  random=~1+prcp_sum|neonDomainName,\n",
    "                                  correlation=corAR1(),\n",
    "                                  data=df, na.action=na.omit)\n",
    "\n",
    "# ndvi_sum ~ prcp_sum, random slope and intercept by domain/stationid\n",
    "ndviprcp_AR_DomStaRand <- lme(ndvi_sum ~ prcp_sum, random=~1+prcp_sum|neonDomainName/stationid,\n",
    "                           correlation=corAR1(),\n",
    "                           data=df, na.action=na.omit)\n",
    "# ndvi_sum ~ prcp_sum + neonDomainName, random slope and intercept by domain/stationid\n",
    "ndviprcp_AR_DFixed_DomStaRand <- lme(ndvi_sum ~ prcp_sum + neonDomainName,\n",
    "                                  random=~1+prcp_sum|neonDomainName/stationid,\n",
    "                                  correlation=corAR1(),\n",
    "                                  data=df, na.action=na.omit)\n",
    "# ndvi_sum ~ prcp_sum * neonDomainName, random slope and intercept by domain/stationid\n",
    "ndviprcp_AR_DFixedInt_DomStaRand <- lme(ndvi_sum ~ prcp_sum * neonDomainName,\n",
    "                                     random=~1+prcp_sum|neonDomainName/stationid,\n",
    "                                     correlation=corAR1(),\n",
    "                                     data=df, na.action=na.omit)\n",
    "data.frame(AIC=c(\n",
    "AIC(ndviprcp_AR_StaRand),\n",
    "AIC(ndviprcp_AR_DFixed_StaRand),\n",
    "AIC(ndviprcp_AR_DFixedInt_StaRand),\n",
    "AIC(ndviprcp_AR_DomRand),\n",
    "AIC(ndviprcp_AR_DFixed_DomRand),\n",
    "AIC(ndviprcp_AR_DFixedInt_DomRand),\n",
    "AIC(ndviprcp_AR_DomStaRand),\n",
    "AIC(ndviprcp_AR_DFixed_DomStaRand),\n",
    "AIC(ndviprcp_AR_DFixedInt_DomStaRand)),\n",
    "BIC=c(\n",
    "BIC(ndviprcp_AR_StaRand),\n",
    "BIC(ndviprcp_AR_DFixed_StaRand),\n",
    "BIC(ndviprcp_AR_DFixedInt_StaRand),\n",
    "BIC(ndviprcp_AR_DomRand),\n",
    "BIC(ndviprcp_AR_DFixed_DomRand),\n",
    "BIC(ndviprcp_AR_DFixedInt_DomRand),\n",
    "BIC(ndviprcp_AR_DomStaRand),# ***\n",
    "BIC(ndviprcp_AR_DFixed_DomStaRand),\n",
    "BIC(ndviprcp_AR_DFixedInt_DomStaRand)))"
   ]
  },
  {
   "cell_type": "markdown",
   "metadata": {},
   "source": [
    "## Best NDVIint ~ Precip model"
   ]
  },
  {
   "cell_type": "code",
   "execution_count": 5,
   "metadata": {},
   "outputs": [
    {
     "data": {
      "text/plain": [
       "Linear mixed-effects model fit by REML\n",
       " Data: df \n",
       "        AIC       BIC   logLik\n",
       "  -2109.079 -2030.775 1064.539\n",
       "\n",
       "Random effects:\n",
       " Formula: ~1 + prcp_sum | neonDomainName\n",
       " Structure: General positive-definite, Log-Cholesky parametrization\n",
       "            StdDev       Corr  \n",
       "(Intercept) 1.5788839294 (Intr)\n",
       "prcp_sum    0.0005398293 -0.939\n",
       "\n",
       " Formula: ~1 + prcp_sum | stationid %in% neonDomainName\n",
       " Structure: General positive-definite, Log-Cholesky parametrization\n",
       "            StdDev       Corr  \n",
       "(Intercept) 0.9607603863 (Intr)\n",
       "prcp_sum    0.0002403693 -0.565\n",
       "Residual    0.1959650693       \n",
       "\n",
       "Correlation Structure: AR(1)\n",
       " Formula: ~1 | neonDomainName/stationid \n",
       " Parameter estimate(s):\n",
       "      Phi \n",
       "0.2531896 \n",
       "Fixed effects: ndvi_sum ~ prcp_sum \n",
       "               Value Std.Error    DF   t-value p-value\n",
       "(Intercept) 5.558747 0.3854807 17429 14.420297       0\n",
       "prcp_sum    0.000539 0.0001321 17429  4.081708       0\n",
       " Correlation: \n",
       "         (Intr)\n",
       "prcp_sum -0.933\n",
       "\n",
       "Standardized Within-Group Residuals:\n",
       "          Min            Q1           Med            Q3           Max \n",
       "-10.988701640  -0.541859638  -0.003864522   0.544179782  12.268040349 \n",
       "\n",
       "Number of Observations: 18592\n",
       "Number of Groups: \n",
       "               neonDomainName stationid %in% neonDomainName \n",
       "                           17                          1162 "
      ]
     },
     "metadata": {},
     "output_type": "display_data"
    }
   ],
   "source": [
    "# (ndviprcp_AR_DomStaRand) ndvi_sum ~ prcp_sum, random slope and intercept by domain/stationid\n",
    "ndviprcp_best <- lme(ndvi_sum ~ prcp_sum, random=~1+prcp_sum|neonDomainName/stationid,\n",
    "                           correlation=corAR1(),\n",
    "                           data=df, na.action=na.omit)\n",
    "summary(ndviprcp_best)"
   ]
  },
  {
   "cell_type": "code",
   "execution_count": 6,
   "metadata": {},
   "outputs": [
    {
     "data": {
      "image/png": "[encoded data removed]",
      "text/plain": [
       "Plot with title “Normal Q-Q Plot”"
      ]
     },
     "metadata": {},
     "output_type": "display_data"
    },
    {
     "data": {
      "image/png": "[encoded data removed]",
      "text/plain": [
       "plot without title"
      ]
     },
     "metadata": {},
     "output_type": "display_data"
    }
   ],
   "source": [
    "options(repr.plot.width=4, repr.plot.height=4)\n",
    "qqnorm(resid(ndviprcp_best))\n",
    "qqline(resid(ndviprcp_best))\n",
    "plot(ndviprcp_best)"
   ]
  },
  {
   "cell_type": "markdown",
   "metadata": {},
   "source": [
    "## Models for annual summed zndvi vs precip"
   ]
  },
  {
   "cell_type": "code",
   "execution_count": 7,
   "metadata": {},
   "outputs": [
    {
     "data": {
      "text/html": [
       "<table>\n",
       "<caption>A data.frame: 9 × 2</caption>\n",
       "<thead>\n",
       "\t<tr><th scope=col>AIC</th><th scope=col>BIC</th></tr>\n",
       "\t<tr><th scope=col>&lt;dbl&gt;</th><th scope=col>&lt;dbl&gt;</th></tr>\n",
       "</thead>\n",
       "<tbody>\n",
       "\t<tr><td>90889.88</td><td>90936.86</td></tr>\n",
       "\t<tr><td>90601.48</td><td>90773.73</td></tr>\n",
       "\t<tr><td>89673.13</td><td>89970.61</td></tr>\n",
       "\t<tr><td>89533.73</td><td>89580.71</td></tr>\n",
       "\t<tr><td>89510.97</td><td>89683.22</td></tr>\n",
       "\t<tr><td>89673.13</td><td>89970.61</td></tr>\n",
       "\t<tr><td>89540.66</td><td>89611.13</td></tr>\n",
       "\t<tr><td>89516.97</td><td>89712.70</td></tr>\n",
       "\t<tr><td>89679.13</td><td>90000.10</td></tr>\n",
       "</tbody>\n",
       "</table>\n"
      ],
      "text/latex": [
       "A data.frame: 9 × 2\n",
       "\\begin{tabular}{r|ll}\n",
       " AIC & BIC\\\\\n",
       " <dbl> & <dbl>\\\\\n",
       "\\hline\n",
       "\t 90889.88 & 90936.86\\\\\n",
       "\t 90601.48 & 90773.73\\\\\n",
       "\t 89673.13 & 89970.61\\\\\n",
       "\t 89533.73 & 89580.71\\\\\n",
       "\t 89510.97 & 89683.22\\\\\n",
       "\t 89673.13 & 89970.61\\\\\n",
       "\t 89540.66 & 89611.13\\\\\n",
       "\t 89516.97 & 89712.70\\\\\n",
       "\t 89679.13 & 90000.10\\\\\n",
       "\\end{tabular}\n"
      ],
      "text/markdown": [
       "\n",
       "A data.frame: 9 × 2\n",
       "\n",
       "| AIC &lt;dbl&gt; | BIC &lt;dbl&gt; |\n",
       "|---|---|\n",
       "| 90889.88 | 90936.86 |\n",
       "| 90601.48 | 90773.73 |\n",
       "| 89673.13 | 89970.61 |\n",
       "| 89533.73 | 89580.71 |\n",
       "| 89510.97 | 89683.22 |\n",
       "| 89673.13 | 89970.61 |\n",
       "| 89540.66 | 89611.13 |\n",
       "| 89516.97 | 89712.70 |\n",
       "| 89679.13 | 90000.10 |\n",
       "\n"
      ],
      "text/plain": [
       "  AIC      BIC     \n",
       "1 90889.88 90936.86\n",
       "2 90601.48 90773.73\n",
       "3 89673.13 89970.61\n",
       "4 89533.73 89580.71\n",
       "5 89510.97 89683.22\n",
       "6 89673.13 89970.61\n",
       "7 89540.66 89611.13\n",
       "8 89516.97 89712.70\n",
       "9 89679.13 90000.10"
      ]
     },
     "metadata": {},
     "output_type": "display_data"
    }
   ],
   "source": [
    "# Set an optimization parameter - not quite sure why\n",
    "ctrl <- lmeControl(opt='optim')\n",
    "\n",
    "# zndvi_sum ~ prcp_sum, random slope and intercept by statioon\n",
    "zndviprcp_StaRand <- lme(zndvi_sum ~ prcp_sum, random=~1+prcp_sum|stationid,\n",
    "                        data=df, na.action=na.omit)\n",
    "# zndvi_sum ~ prcp_sum + neonDomainName, random slope and intercept by stationid\n",
    "zndviprcp_DFixed_StaRand <- lme(zndvi_sum ~ prcp_sum + neonDomainName,\n",
    "                               random=~1+prcp_sum|stationid,\n",
    "                               data=df, na.action=na.omit)\n",
    "# zndvi_sum ~ prcp_sum * neonDomainName, random slope and intercept by stationid\n",
    "zndviprcp_DFixedInt_StaRand <- lme(zndvi_sum ~ prcp_sum * neonDomainName,\n",
    "                                  random=~1+prcp_sum|stationid,\n",
    "                                  data=df, na.action=na.omit)\n",
    "\n",
    "# zndvi_sum ~ prcp_sum, random slope and intercept by domain\n",
    "zndviprcp_DomRand <- lme(zndvi_sum ~ prcp_sum, random=~1+prcp_sum|neonDomainName,\n",
    "                         control=ctrl,data=df, na.action=na.omit)\n",
    "# zndvi_sum ~ prcp_sum + neonDomainName, random slope and intercept by domain\n",
    "zndviprcp_DFixed_DomRand <- lme(zndvi_sum ~ prcp_sum + neonDomainName,\n",
    "                                random=~1+prcp_sum|neonDomainName,\n",
    "                                control=ctrl, data=df, na.action=na.omit)\n",
    "# zndvi_sum ~ prcp_sum * neonDomainName, random slope and intercept by domain\n",
    "zndviprcp_DFixedInt_DomRand <- lme(zndvi_sum ~ prcp_sum * neonDomainName,\n",
    "                                   random=~1+prcp_sum|neonDomainName,\n",
    "                                   control=ctrl, data=df, na.action=na.omit)\n",
    "\n",
    "# zndvi_sum ~ prcp_sum, random slope and intercept by domain/stationid\n",
    "zndviprcp_DomStaRand <- lme(zndvi_sum ~ prcp_sum, random=~1+prcp_sum|neonDomainName/stationid,\n",
    "                            control=ctrl, data=df, na.action=na.omit)\n",
    "# zndvi_sum ~ prcp_sum + neonDomainName, random slope and intercept by domain/stationid\n",
    "zndviprcp_DFixed_DomStaRand <- lme(zndvi_sum ~ prcp_sum + neonDomainName,\n",
    "                                   random=~1+prcp_sum|neonDomainName/stationid,\n",
    "                                   control=ctrl, data=df, na.action=na.omit)\n",
    "# zndvi_sum ~ prcp_sum * neonDomainName, random slope and intercept by domain/stationid\n",
    "zndviprcp_DFixedInt_DomStaRand <- lme(zndvi_sum ~ prcp_sum * neonDomainName,\n",
    "                                      random=~1+prcp_sum|neonDomainName/stationid,\n",
    "                                      control=ctrl, data=df, na.action=na.omit)\n",
    "\n",
    "data.frame(AIC=c(\n",
    "AIC(zndviprcp_StaRand),\n",
    "AIC(zndviprcp_DFixed_StaRand),\n",
    "AIC(zndviprcp_DFixedInt_StaRand),\n",
    "AIC(zndviprcp_DomRand),\n",
    "AIC(zndviprcp_DFixed_DomRand),\n",
    "AIC(zndviprcp_DFixedInt_DomRand),\n",
    "AIC(zndviprcp_DomStaRand),\n",
    "AIC(zndviprcp_DFixed_DomStaRand),\n",
    "AIC(zndviprcp_DFixedInt_DomStaRand)),\n",
    "BIC=c(\n",
    "BIC(zndviprcp_StaRand),\n",
    "BIC(zndviprcp_DFixed_StaRand),\n",
    "BIC(zndviprcp_DFixedInt_StaRand),\n",
    "BIC(zndviprcp_DomRand),\n",
    "BIC(zndviprcp_DFixed_DomRand),\n",
    "BIC(zndviprcp_DFixedInt_DomRand),\n",
    "BIC(zndviprcp_DomStaRand),# ***\n",
    "BIC(zndviprcp_DFixed_DomStaRand),\n",
    "BIC(zndviprcp_DFixedInt_DomStaRand)))"
   ]
  },
  {
   "cell_type": "code",
   "execution_count": 8,
   "metadata": {},
   "outputs": [
    {
     "data": {
      "text/html": [
       "<table>\n",
       "<caption>A data.frame: 9 × 2</caption>\n",
       "<thead>\n",
       "\t<tr><th scope=col>AIC</th><th scope=col>BIC</th></tr>\n",
       "\t<tr><th scope=col>&lt;dbl&gt;</th><th scope=col>&lt;dbl&gt;</th></tr>\n",
       "</thead>\n",
       "<tbody>\n",
       "\t<tr><td>90064.78</td><td>90119.59</td></tr>\n",
       "\t<tr><td>89760.60</td><td>89940.68</td></tr>\n",
       "\t<tr><td>88526.10</td><td>88831.42</td></tr>\n",
       "\t<tr><td>88544.25</td><td>88599.06</td></tr>\n",
       "\t<tr><td>88516.11</td><td>88696.19</td></tr>\n",
       "\t<tr><td>88671.17</td><td>88976.49</td></tr>\n",
       "\t<tr><td>88405.03</td><td>88483.33</td></tr>\n",
       "\t<tr><td>88377.17</td><td>88580.74</td></tr>\n",
       "\t<tr><td>88532.12</td><td>88860.92</td></tr>\n",
       "</tbody>\n",
       "</table>\n"
      ],
      "text/latex": [
       "A data.frame: 9 × 2\n",
       "\\begin{tabular}{r|ll}\n",
       " AIC & BIC\\\\\n",
       " <dbl> & <dbl>\\\\\n",
       "\\hline\n",
       "\t 90064.78 & 90119.59\\\\\n",
       "\t 89760.60 & 89940.68\\\\\n",
       "\t 88526.10 & 88831.42\\\\\n",
       "\t 88544.25 & 88599.06\\\\\n",
       "\t 88516.11 & 88696.19\\\\\n",
       "\t 88671.17 & 88976.49\\\\\n",
       "\t 88405.03 & 88483.33\\\\\n",
       "\t 88377.17 & 88580.74\\\\\n",
       "\t 88532.12 & 88860.92\\\\\n",
       "\\end{tabular}\n"
      ],
      "text/markdown": [
       "\n",
       "A data.frame: 9 × 2\n",
       "\n",
       "| AIC &lt;dbl&gt; | BIC &lt;dbl&gt; |\n",
       "|---|---|\n",
       "| 90064.78 | 90119.59 |\n",
       "| 89760.60 | 89940.68 |\n",
       "| 88526.10 | 88831.42 |\n",
       "| 88544.25 | 88599.06 |\n",
       "| 88516.11 | 88696.19 |\n",
       "| 88671.17 | 88976.49 |\n",
       "| 88405.03 | 88483.33 |\n",
       "| 88377.17 | 88580.74 |\n",
       "| 88532.12 | 88860.92 |\n",
       "\n"
      ],
      "text/plain": [
       "  AIC      BIC     \n",
       "1 90064.78 90119.59\n",
       "2 89760.60 89940.68\n",
       "3 88526.10 88831.42\n",
       "4 88544.25 88599.06\n",
       "5 88516.11 88696.19\n",
       "6 88671.17 88976.49\n",
       "7 88405.03 88483.33\n",
       "8 88377.17 88580.74\n",
       "9 88532.12 88860.92"
      ]
     },
     "metadata": {},
     "output_type": "display_data"
    }
   ],
   "source": [
    "# Same as above but with AR1 correlation structure\n",
    "# zndvi_sum ~ prcp_sum, random slope and intercept by statioon\n",
    "zndviprcp_AR_StaRand <- lme(zndvi_sum ~ prcp_sum, random=~1+prcp_sum|stationid,\n",
    "                         correlation=corAR1(),\n",
    "                        data=df, na.action=na.omit)\n",
    "# zndvi_sum ~ prcp_sum + neonDomainName, random slope and intercept by stationid\n",
    "zndviprcp_AR_DFixed_StaRand <- lme(zndvi_sum ~ prcp_sum + neonDomainName,\n",
    "                                correlation=corAR1(),\n",
    "                               random=~1+prcp_sum|stationid,\n",
    "                               data=df, na.action=na.omit)\n",
    "# zndvi_sum ~ prcp_sum * neonDomainName, random slope and intercept by stationid\n",
    "zndviprcp_AR_DFixedInt_StaRand <- lme(zndvi_sum ~ prcp_sum * neonDomainName,\n",
    "                                   correlation=corAR1(),\n",
    "                                  random=~1+prcp_sum|stationid,\n",
    "                                  data=df, na.action=na.omit)\n",
    "\n",
    "# zndvi_sum ~ prcp_sum, random slope and intercept by domain\n",
    "zndviprcp_AR_DomRand <- lme(zndvi_sum ~ prcp_sum, random=~1+prcp_sum|neonDomainName,\n",
    "                         correlation=corAR1(),\n",
    "                         control=ctrl,data=df, na.action=na.omit)\n",
    "# zndvi_sum ~ prcp_sum + neonDomainName, random slope and intercept by domain\n",
    "zndviprcp_AR_DFixed_DomRand <- lme(zndvi_sum ~ prcp_sum + neonDomainName,\n",
    "                                correlation=corAR1(),\n",
    "                                random=~1+prcp_sum|neonDomainName,\n",
    "                                control=ctrl, data=df, na.action=na.omit)\n",
    "# zndvi_sum ~ prcp_sum * neonDomainName, random slope and intercept by domain\n",
    "zndviprcp_AR_DFixedInt_DomRand <- lme(zndvi_sum ~ prcp_sum * neonDomainName,\n",
    "                                   correlation=corAR1(),\n",
    "                                   random=~1+prcp_sum|neonDomainName,\n",
    "                                   control=ctrl, data=df, na.action=na.omit)\n",
    "\n",
    "# zndvi_sum ~ prcp_sum, random slope and intercept by domain/stationid\n",
    "zndviprcp_AR_DomStaRand <- lme(zndvi_sum ~ prcp_sum, random=~1+prcp_sum|neonDomainName/stationid,\n",
    "                            correlation=corAR1(),\n",
    "                            control=ctrl, data=df, na.action=na.omit)\n",
    "# zndvi_sum ~ prcp_sum + neonDomainName, random slope and intercept by domain/stationid\n",
    "zndviprcp_AR_DFixed_DomStaRand <- lme(zndvi_sum ~ prcp_sum + neonDomainName,\n",
    "                                   correlation=corAR1(),\n",
    "                                   random=~1+prcp_sum|neonDomainName/stationid,\n",
    "                                   control=ctrl, data=df, na.action=na.omit)\n",
    "# zndvi_sum ~ prcp_sum * neonDomainName, random slope and intercept by domain/stationid\n",
    "zndviprcp_AR_DFixedInt_DomStaRand <- lme(zndvi_sum ~ prcp_sum * neonDomainName,\n",
    "                                      correlation=corAR1(),\n",
    "                                      random=~1+prcp_sum|neonDomainName/stationid,\n",
    "                                      control=ctrl, data=df, na.action=na.omit)\n",
    "\n",
    "data.frame(AIC=c(\n",
    "AIC(zndviprcp_AR_StaRand),\n",
    "AIC(zndviprcp_AR_DFixed_StaRand),\n",
    "AIC(zndviprcp_AR_DFixedInt_StaRand),\n",
    "AIC(zndviprcp_AR_DomRand),\n",
    "AIC(zndviprcp_AR_DFixed_DomRand),\n",
    "AIC(zndviprcp_AR_DFixedInt_DomRand),\n",
    "AIC(zndviprcp_AR_DomStaRand),\n",
    "AIC(zndviprcp_AR_DFixed_DomStaRand),\n",
    "AIC(zndviprcp_AR_DFixedInt_DomStaRand)),\n",
    "BIC=c(\n",
    "BIC(zndviprcp_AR_StaRand),\n",
    "BIC(zndviprcp_AR_DFixed_StaRand),\n",
    "BIC(zndviprcp_AR_DFixedInt_StaRand),\n",
    "BIC(zndviprcp_AR_DomRand),\n",
    "BIC(zndviprcp_AR_DFixed_DomRand),\n",
    "BIC(zndviprcp_AR_DFixedInt_DomRand),\n",
    "BIC(zndviprcp_AR_DomStaRand),#***\n",
    "BIC(zndviprcp_AR_DFixed_DomStaRand),\n",
    "BIC(zndviprcp_AR_DFixedInt_DomStaRand)))"
   ]
  },
  {
   "cell_type": "markdown",
   "metadata": {},
   "source": [
    "## Best summed zNDVI ~ Precip model"
   ]
  },
  {
   "cell_type": "code",
   "execution_count": 9,
   "metadata": {},
   "outputs": [
    {
     "data": {
      "text/plain": [
       "Linear mixed-effects model fit by REML\n",
       " Data: df \n",
       "       AIC      BIC    logLik\n",
       "  88405.03 88483.33 -44192.51\n",
       "\n",
       "Random effects:\n",
       " Formula: ~1 + prcp_sum | neonDomainName\n",
       " Structure: General positive-definite, Log-Cholesky parametrization\n",
       "            StdDev      Corr  \n",
       "(Intercept) 2.118161482 (Intr)\n",
       "prcp_sum    0.004733229 -0.736\n",
       "\n",
       " Formula: ~1 + prcp_sum | stationid %in% neonDomainName\n",
       " Structure: General positive-definite, Log-Cholesky parametrization\n",
       "            StdDev       Corr  \n",
       "(Intercept) 9.269913e-03 (Intr)\n",
       "prcp_sum    1.548898e-05 -0.055\n",
       "Residual    2.681223e+00       \n",
       "\n",
       "Correlation Structure: AR(1)\n",
       " Formula: ~1 | neonDomainName/stationid \n",
       " Parameter estimate(s):\n",
       "      Phi \n",
       "0.2610559 \n",
       "Fixed effects: zndvi_sum ~ prcp_sum \n",
       "                 Value Std.Error    DF   t-value p-value\n",
       "(Intercept) -1.9477245 0.5260651 17429 -3.702440  0.0002\n",
       "prcp_sum     0.0037721 0.0011546 17429  3.267103  0.0011\n",
       " Correlation: \n",
       "         (Intr)\n",
       "prcp_sum -0.733\n",
       "\n",
       "Standardized Within-Group Residuals:\n",
       "         Min           Q1          Med           Q3          Max \n",
       "-10.99669992  -0.40343511  -0.01170334   0.36301278  11.72314004 \n",
       "\n",
       "Number of Observations: 18592\n",
       "Number of Groups: \n",
       "               neonDomainName stationid %in% neonDomainName \n",
       "                           17                          1162 "
      ]
     },
     "metadata": {},
     "output_type": "display_data"
    }
   ],
   "source": [
    "# Change optimizer - not quite sure why this works better\n",
    "ctrl <- lmeControl(opt='optim')\n",
    "\n",
    "# (zndviprcp_AR_DomStaRand) zndvi_sum ~ prcp_sum, random slope and intercept by domain/stationid\n",
    "zndviprcp_best <- lme(zndvi_sum ~ prcp_sum, random=~1+prcp_sum|neonDomainName/stationid,\n",
    "                      correlation=corAR1(),\n",
    "                      control=ctrl, \n",
    "                      data=df, na.action=na.omit)\n",
    "\n",
    "summary(zndviprcp_best)"
   ]
  },
  {
   "cell_type": "code",
   "execution_count": 10,
   "metadata": {},
   "outputs": [
    {
     "data": {
      "image/png": "[encoded data removed]",
      "text/plain": [
       "Plot with title “Normal Q-Q Plot”"
      ]
     },
     "metadata": {},
     "output_type": "display_data"
    },
    {
     "data": {
      "image/png": "[encoded data removed]",
      "text/plain": [
       "plot without title"
      ]
     },
     "metadata": {},
     "output_type": "display_data"
    }
   ],
   "source": [
    "qqnorm(resid(zndviprcp_best))\n",
    "plot(zndviprcp_best)"
   ]
  },
  {
   "cell_type": "code",
   "execution_count": 11,
   "metadata": {},
   "outputs": [
    {
     "data": {
      "text/html": [
       "<dl class=dl-horizontal>\n",
       "\t<dt>(Intercept)</dt>\n",
       "\t\t<dd>-1.94772449261568</dd>\n",
       "\t<dt>prcp_sum</dt>\n",
       "\t\t<dd>0.00377211835170014</dd>\n",
       "</dl>\n"
      ],
      "text/latex": [
       "\\begin{description*}\n",
       "\\item[(Intercept)] -1.94772449261568\n",
       "\\item[prcp\\textbackslash{}\\_sum] 0.00377211835170014\n",
       "\\end{description*}\n"
      ],
      "text/markdown": [
       "(Intercept)\n",
       ":   -1.94772449261568prcp_sum\n",
       ":   0.00377211835170014\n",
       "\n"
      ],
      "text/plain": [
       " (Intercept)     prcp_sum \n",
       "-1.947724493  0.003772118 "
      ]
     },
     "metadata": {},
     "output_type": "display_data"
    },
    {
     "data": {
      "text/html": [
       "0.0126031203385924"
      ],
      "text/latex": [
       "0.0126031203385924"
      ],
      "text/markdown": [
       "0.0126031203385924"
      ],
      "text/plain": [
       "[1] 0.01260312"
      ]
     },
     "metadata": {},
     "output_type": "display_data"
    },
    {
     "data": {
      "text/html": [
       "-0.00434431186592396"
      ],
      "text/latex": [
       "-0.00434431186592396"
      ],
      "text/markdown": [
       "-0.00434431186592396"
      ],
      "text/plain": [
       "[1] -0.004344312"
      ]
     },
     "metadata": {},
     "output_type": "display_data"
    },
    {
     "data": {
      "text/html": [
       "9.27297470317896e-07"
      ],
      "text/latex": [
       "9.27297470317896e-07"
      ],
      "text/markdown": [
       "9.27297470317896e-07"
      ],
      "text/plain": [
       "[1] 9.272975e-07"
      ]
     },
     "metadata": {},
     "output_type": "display_data"
    },
    {
     "data": {
      "text/html": [
       "-1.35260035193624e-06"
      ],
      "text/latex": [
       "-1.35260035193624e-06"
      ],
      "text/markdown": [
       "-1.35260035193624e-06"
      ],
      "text/plain": [
       "[1] -1.3526e-06"
      ]
     },
     "metadata": {},
     "output_type": "display_data"
    }
   ],
   "source": [
    "# Look how small the random stationid effects are here!!!\n",
    "zndviprcp_best$coefficients$fixed\n",
    "max(zndviprcp_best$coefficients$random$neonDomainName[,'prcp_sum'])\n",
    "min(zndviprcp_best$coefficients$random$neonDomainName[,'prcp_sum'])\n",
    "max(zndviprcp_best$coefficients$random$stationid[,'prcp_sum'])\n",
    "min(zndviprcp_best$coefficients$random$stationid[,'prcp_sum'])"
   ]
  },
  {
   "cell_type": "markdown",
   "metadata": {},
   "source": [
    "## Models for annual summed zndvi vs SPEI"
   ]
  },
  {
   "cell_type": "code",
   "execution_count": 12,
   "metadata": {},
   "outputs": [
    {
     "data": {
      "text/html": [
       "<table>\n",
       "<caption>A data.frame: 8 × 2</caption>\n",
       "<thead>\n",
       "\t<tr><th scope=col>AIC</th><th scope=col>BIC</th></tr>\n",
       "\t<tr><th scope=col>&lt;dbl&gt;</th><th scope=col>&lt;dbl&gt;</th></tr>\n",
       "</thead>\n",
       "<tbody>\n",
       "\t<tr><td>86351.87</td><td>86398.86</td></tr>\n",
       "\t<tr><td>84892.48</td><td>85189.97</td></tr>\n",
       "\t<tr><td>85753.67</td><td>85800.65</td></tr>\n",
       "\t<tr><td>85748.55</td><td>85920.80</td></tr>\n",
       "\t<tr><td>85717.25</td><td>86014.74</td></tr>\n",
       "\t<tr><td>84933.12</td><td>85003.59</td></tr>\n",
       "\t<tr><td>84929.74</td><td>85125.48</td></tr>\n",
       "\t<tr><td>84898.00</td><td>85218.97</td></tr>\n",
       "</tbody>\n",
       "</table>\n"
      ],
      "text/latex": [
       "A data.frame: 8 × 2\n",
       "\\begin{tabular}{r|ll}\n",
       " AIC & BIC\\\\\n",
       " <dbl> & <dbl>\\\\\n",
       "\\hline\n",
       "\t 86351.87 & 86398.86\\\\\n",
       "\t 84892.48 & 85189.97\\\\\n",
       "\t 85753.67 & 85800.65\\\\\n",
       "\t 85748.55 & 85920.80\\\\\n",
       "\t 85717.25 & 86014.74\\\\\n",
       "\t 84933.12 & 85003.59\\\\\n",
       "\t 84929.74 & 85125.48\\\\\n",
       "\t 84898.00 & 85218.97\\\\\n",
       "\\end{tabular}\n"
      ],
      "text/markdown": [
       "\n",
       "A data.frame: 8 × 2\n",
       "\n",
       "| AIC &lt;dbl&gt; | BIC &lt;dbl&gt; |\n",
       "|---|---|\n",
       "| 86351.87 | 86398.86 |\n",
       "| 84892.48 | 85189.97 |\n",
       "| 85753.67 | 85800.65 |\n",
       "| 85748.55 | 85920.80 |\n",
       "| 85717.25 | 86014.74 |\n",
       "| 84933.12 | 85003.59 |\n",
       "| 84929.74 | 85125.48 |\n",
       "| 84898.00 | 85218.97 |\n",
       "\n"
      ],
      "text/plain": [
       "  AIC      BIC     \n",
       "1 86351.87 86398.86\n",
       "2 84892.48 85189.97\n",
       "3 85753.67 85800.65\n",
       "4 85748.55 85920.80\n",
       "5 85717.25 86014.74\n",
       "6 84933.12 85003.59\n",
       "7 84929.74 85125.48\n",
       "8 84898.00 85218.97"
      ]
     },
     "metadata": {},
     "output_type": "display_data"
    }
   ],
   "source": [
    "# zndvi_sum ~ spei12mo_mean, random slope and intercept by statioon\n",
    "zndvispei_StaRand <- lme(zndvi_sum ~ spei12mo_mean, random=~1+spei12mo_mean|stationid,\n",
    "                        data=df, na.action=na.omit)\n",
    "# zndvi_sum ~ spei12mo_mean + neonDomainName, random slope and intercept by stationid\n",
    "# NOT WORKING!!!????\n",
    "#zndvispei_DFixed_StaRand <- lme(zndvi_sum ~ spei12mo_mean + neonDomainName,\n",
    "#                               random=~1+spei12mo_mean|stationid,control=ctrl,\n",
    "#                               data=df, na.action=na.omit)\n",
    "# zndvi_sum ~ spei12mo_mean * neonDomainName, random slope and intercept by stationid\n",
    "zndvispei_DFixedInt_StaRand <- lme(zndvi_sum ~ spei12mo_mean * neonDomainName,\n",
    "                                  random=~1+spei12mo_mean|stationid,control=ctrl,\n",
    "                                  data=df, na.action=na.omit)\n",
    "\n",
    "# zndvi_sum ~ spei12mo_mean, random slope and intercept by domain\n",
    "zndvispei_DomRand <- lme(zndvi_sum ~ spei12mo_mean, random=~1+spei12mo_mean|neonDomainName,\n",
    "                         control=ctrl,data=df, na.action=na.omit)\n",
    "# zndvi_sum ~ spei12mo_mean + neonDomainName, random slope and intercept by domain\n",
    "zndvispei_DFixed_DomRand <- lme(zndvi_sum ~ spei12mo_mean + neonDomainName,\n",
    "                                random=~1+spei12mo_mean|neonDomainName,\n",
    "                                control=ctrl, data=df, na.action=na.omit)\n",
    "# zndvi_sum ~ spei12mo_mean * neonDomainName, random slope and intercept by domain\n",
    "zndvispei_DFixedInt_DomRand <- lme(zndvi_sum ~ spei12mo_mean * neonDomainName,\n",
    "                                   random=~1+spei12mo_mean|neonDomainName,\n",
    "                                   control=ctrl, data=df, na.action=na.omit)\n",
    "\n",
    "# zndvi_sum ~ spei12mo_mean, random slope and intercept by domain/stationid\n",
    "zndvispei_DomStaRand <- lme(zndvi_sum ~ spei12mo_mean, random=~1+spei12mo_mean|neonDomainName/stationid,\n",
    "                            control=ctrl, data=df, na.action=na.omit)\n",
    "# zndvi_sum ~ spei12mo_mean + neonDomainName, random slope and intercept by domain/stationid\n",
    "zndvispei_DFixed_DomStaRand <- lme(zndvi_sum ~ spei12mo_mean + neonDomainName,\n",
    "                                   random=~1+spei12mo_mean|neonDomainName/stationid,\n",
    "                                   control=ctrl, data=df, na.action=na.omit)\n",
    "# zndvi_sum ~ spei12mo_mean * neonDomainName, random slope and intercept by domain/stationid\n",
    "zndvispei_DFixedInt_DomStaRand <- lme(zndvi_sum ~ spei12mo_mean * neonDomainName,\n",
    "                                      random=~1+spei12mo_mean|neonDomainName/stationid,\n",
    "                                      control=ctrl, data=df, na.action=na.omit)\n",
    "\n",
    "\n",
    "data.frame(AIC=c(\n",
    "AIC(zndvispei_StaRand),\n",
    "# Not working AIC(zndvispei_DFixed_StaRand),\n",
    "AIC(zndvispei_DFixedInt_StaRand),\n",
    "AIC(zndvispei_DomRand),\n",
    "AIC(zndvispei_DFixed_DomRand),\n",
    "AIC(zndvispei_DFixedInt_DomRand),\n",
    "AIC(zndvispei_DomStaRand),\n",
    "AIC(zndvispei_DFixed_DomStaRand),\n",
    "AIC(zndvispei_DFixedInt_DomStaRand)),\n",
    "BIC=c(\n",
    "BIC(zndvispei_StaRand),\n",
    "# Not working BIC(zndvispei_DFixed_StaRand),\n",
    "BIC(zndvispei_DFixedInt_StaRand),\n",
    "BIC(zndvispei_DomRand),\n",
    "BIC(zndvispei_DFixed_DomRand),\n",
    "BIC(zndvispei_DFixedInt_DomRand),\n",
    "BIC(zndvispei_DomStaRand),#***\n",
    "BIC(zndvispei_DFixed_DomStaRand),\n",
    "BIC(zndvispei_DFixedInt_DomStaRand)))"
   ]
  },
  {
   "cell_type": "code",
   "execution_count": 13,
   "metadata": {},
   "outputs": [
    {
     "data": {
      "text/html": [
       "<table>\n",
       "<caption>A data.frame: 7 × 2</caption>\n",
       "<thead>\n",
       "\t<tr><th scope=col>AIC</th><th scope=col>BIC</th></tr>\n",
       "\t<tr><th scope=col>&lt;dbl&gt;</th><th scope=col>&lt;dbl&gt;</th></tr>\n",
       "</thead>\n",
       "<tbody>\n",
       "\t<tr><td>84715.15</td><td>84769.97</td></tr>\n",
       "\t<tr><td>84334.78</td><td>84514.86</td></tr>\n",
       "\t<tr><td>84400.36</td><td>84455.17</td></tr>\n",
       "\t<tr><td>84391.60</td><td>84571.68</td></tr>\n",
       "\t<tr><td>84356.93</td><td>84662.25</td></tr>\n",
       "\t<tr><td>83302.32</td><td>83380.63</td></tr>\n",
       "\t<tr><td>83294.64</td><td>83498.21</td></tr>\n",
       "</tbody>\n",
       "</table>\n"
      ],
      "text/latex": [
       "A data.frame: 7 × 2\n",
       "\\begin{tabular}{r|ll}\n",
       " AIC & BIC\\\\\n",
       " <dbl> & <dbl>\\\\\n",
       "\\hline\n",
       "\t 84715.15 & 84769.97\\\\\n",
       "\t 84334.78 & 84514.86\\\\\n",
       "\t 84400.36 & 84455.17\\\\\n",
       "\t 84391.60 & 84571.68\\\\\n",
       "\t 84356.93 & 84662.25\\\\\n",
       "\t 83302.32 & 83380.63\\\\\n",
       "\t 83294.64 & 83498.21\\\\\n",
       "\\end{tabular}\n"
      ],
      "text/markdown": [
       "\n",
       "A data.frame: 7 × 2\n",
       "\n",
       "| AIC &lt;dbl&gt; | BIC &lt;dbl&gt; |\n",
       "|---|---|\n",
       "| 84715.15 | 84769.97 |\n",
       "| 84334.78 | 84514.86 |\n",
       "| 84400.36 | 84455.17 |\n",
       "| 84391.60 | 84571.68 |\n",
       "| 84356.93 | 84662.25 |\n",
       "| 83302.32 | 83380.63 |\n",
       "| 83294.64 | 83498.21 |\n",
       "\n"
      ],
      "text/plain": [
       "  AIC      BIC     \n",
       "1 84715.15 84769.97\n",
       "2 84334.78 84514.86\n",
       "3 84400.36 84455.17\n",
       "4 84391.60 84571.68\n",
       "5 84356.93 84662.25\n",
       "6 83302.32 83380.63\n",
       "7 83294.64 83498.21"
      ]
     },
     "metadata": {},
     "output_type": "display_data"
    }
   ],
   "source": [
    "# Same as above but with AR1 correlation\n",
    "# zndvi_sum ~ spei12mo_mean, random slope and intercept by statioon\n",
    "zndvispei_AR_StaRand <- lme(zndvi_sum ~ spei12mo_mean, random=~1+spei12mo_mean|stationid,\n",
    "                         control=ctrl, correlation=corAR1(),\n",
    "                         data=df, na.action=na.omit)\n",
    "# zndvi_sum ~ spei12mo_mean + neonDomainName, random slope and intercept by stationid\n",
    "zndvispei_AR_DFixed_StaRand <- lme(zndvi_sum ~ spei12mo_mean + neonDomainName,\n",
    "                                random=~1+spei12mo_mean|stationid,control=ctrl,\n",
    "                                correlation=corAR1(),\n",
    "                                data=df, na.action=na.omit)\n",
    "# zndvi_sum ~ spei12mo_mean * neonDomainName, random slope and intercept by stationid\n",
    "#zndvispei_AR_DFixedInt_StaRand <- lme(zndvi_sum ~ spei12mo_mean * neonDomainName,\n",
    "#                                  random=~1+spei12mo_mean|stationid,control=ctrl,\n",
    "#                                   correlation=corAR1(),\n",
    "#                                  data=df, na.action=na.omit)\n",
    "\n",
    "# zndvi_sum ~ spei12mo_mean, random slope and intercept by domain\n",
    "zndvispei_AR_DomRand <- lme(zndvi_sum ~ spei12mo_mean, random=~1+spei12mo_mean|neonDomainName,\n",
    "                         correlation=corAR1(),\n",
    "                         control=ctrl,data=df, na.action=na.omit)\n",
    "# zndvi_sum ~ spei12mo_mean + neonDomainName, random slope and intercept by domain\n",
    "zndvispei_AR_DFixed_DomRand <- lme(zndvi_sum ~ spei12mo_mean + neonDomainName,\n",
    "                                random=~1+spei12mo_mean|neonDomainName,\n",
    "                                correlation=corAR1(),\n",
    "                                control=ctrl, data=df, na.action=na.omit)\n",
    "# zndvi_sum ~ spei12mo_mean * neonDomainName, random slope and intercept by domain\n",
    "zndvispei_AR_DFixedInt_DomRand <- lme(zndvi_sum ~ spei12mo_mean * neonDomainName,\n",
    "                                   random=~1+spei12mo_mean|neonDomainName,\n",
    "                                   correlation=corAR1(),\n",
    "                                   control=ctrl, data=df, na.action=na.omit)\n",
    "\n",
    "# zndvi_sum ~ spei12mo_mean, random slope and intercept by domain/stationid\n",
    "zndvispei_AR_DomStaRand <- lme(zndvi_sum ~ spei12mo_mean, random=~1+spei12mo_mean|neonDomainName/stationid,\n",
    "                            correlation=corAR1(),\n",
    "                            control=ctrl, data=df, na.action=na.omit)\n",
    "# zndvi_sum ~ spei12mo_mean + neonDomainName, random slope and intercept by domain/stationid\n",
    "zndvispei_AR_DFixed_DomStaRand <- lme(zndvi_sum ~ spei12mo_mean + neonDomainName,\n",
    "                                   random=~1+spei12mo_mean|neonDomainName/stationid,\n",
    "                                   correlation=corAR1(),\n",
    "                                   control=ctrl, data=df, na.action=na.omit)\n",
    "# zndvi_sum ~ spei12mo_mean * neonDomainName, random slope and intercept by domain/stationid\n",
    "#zndvispei_AR_DFixedInt_DomStaRand <- lme(zndvi_sum ~ spei12mo_mean * neonDomainName,\n",
    "#                                      random=~1+spei12mo_mean|neonDomainName/stationid,\n",
    "#                                      correlation=corAR1(),\n",
    "#                                      control=ctrl, data=df, na.action=na.omit)\n",
    "\n",
    "data.frame(AIC=c(\n",
    "AIC(zndvispei_AR_StaRand),\n",
    "AIC(zndvispei_AR_DFixed_StaRand),\n",
    "# Not working AIC(zndvispei_AR_DFixedInt_StaRand)\n",
    "AIC(zndvispei_AR_DomRand),\n",
    "AIC(zndvispei_AR_DFixed_DomRand),\n",
    "AIC(zndvispei_AR_DFixedInt_DomRand),\n",
    "AIC(zndvispei_AR_DomStaRand),\n",
    "AIC(zndvispei_AR_DFixed_DomStaRand)\n",
    "# Not working AIC(zndvispei_AR_DFixedInt_DomStaRand)\n",
    "),\n",
    "BIC=c(\n",
    "BIC(zndvispei_AR_StaRand),\n",
    "BIC(zndvispei_AR_DFixed_StaRand),\n",
    "# Not working BIC(zndvispei_AR_DFixedInt_StaRand),\n",
    "BIC(zndvispei_AR_DomRand),\n",
    "BIC(zndvispei_AR_DFixed_DomRand),\n",
    "BIC(zndvispei_AR_DFixedInt_DomRand),\n",
    "BIC(zndvispei_AR_DomStaRand), # ***\n",
    "BIC(zndvispei_AR_DFixed_DomStaRand)\n",
    "# Not working BIC(zndvispei_AR_DFixedInt_DomStaRand)\n",
    "))"
   ]
  },
  {
   "cell_type": "markdown",
   "metadata": {},
   "source": [
    "## Best summed zNDVI ~ Mean 12mon SPEI  model"
   ]
  },
  {
   "cell_type": "code",
   "execution_count": 14,
   "metadata": {},
   "outputs": [
    {
     "data": {
      "text/plain": [
       "Linear mixed-effects model fit by REML\n",
       " Data: df \n",
       "       AIC      BIC    logLik\n",
       "  83302.32 83380.63 -41641.16\n",
       "\n",
       "Random effects:\n",
       " Formula: ~1 + spei12mo_mean | neonDomainName\n",
       " Structure: General positive-definite, Log-Cholesky parametrization\n",
       "              StdDev   Corr  \n",
       "(Intercept)   1.258772 (Intr)\n",
       "spei12mo_mean 1.764350 0.812 \n",
       "\n",
       " Formula: ~1 + spei12mo_mean | stationid %in% neonDomainName\n",
       " Structure: General positive-definite, Log-Cholesky parametrization\n",
       "              StdDev    Corr  \n",
       "(Intercept)   0.4369555 (Intr)\n",
       "spei12mo_mean 0.9612988 0.995 \n",
       "Residual      2.3058602       \n",
       "\n",
       "Correlation Structure: AR(1)\n",
       " Formula: ~1 | neonDomainName/stationid \n",
       " Parameter estimate(s):\n",
       "      Phi \n",
       "0.3291401 \n",
       "Fixed effects: zndvi_sum ~ spei12mo_mean \n",
       "                  Value Std.Error    DF  t-value p-value\n",
       "(Intercept)   0.7402265 0.3083357 17429 2.400716  0.0164\n",
       "spei12mo_mean 1.3858123 0.4315194 17429 3.211472  0.0013\n",
       " Correlation: \n",
       "              (Intr)\n",
       "spei12mo_mean 0.808 \n",
       "\n",
       "Standardized Within-Group Residuals:\n",
       "          Min            Q1           Med            Q3           Max \n",
       "-12.470952273  -0.427254559  -0.008709518   0.395676842  11.077228762 \n",
       "\n",
       "Number of Observations: 18592\n",
       "Number of Groups: \n",
       "               neonDomainName stationid %in% neonDomainName \n",
       "                           17                          1162 "
      ]
     },
     "metadata": {},
     "output_type": "display_data"
    }
   ],
   "source": [
    "# (zndvispei_AR_DomStaRand) zndvi_sum ~ spei12mo_mean, random slope and intercept by domain/stationid\n",
    "zndvispei_best <- lme(zndvi_sum ~ spei12mo_mean, random=~1+spei12mo_mean|neonDomainName/stationid,\n",
    "                            correlation=corAR1(),\n",
    "                            control=ctrl, data=df, na.action=na.omit)\n",
    "\n",
    "summary(zndvispei_best)"
   ]
  },
  {
   "cell_type": "code",
   "execution_count": 15,
   "metadata": {},
   "outputs": [
    {
     "data": {
      "image/png": "[encoded data removed]",
      "text/plain": [
       "Plot with title “Normal Q-Q Plot”"
      ]
     },
     "metadata": {},
     "output_type": "display_data"
    },
    {
     "data": {
      "image/png": "[encoded data removed]",
      "text/plain": [
       "plot without title"
      ]
     },
     "metadata": {},
     "output_type": "display_data"
    }
   ],
   "source": [
    "qqnorm(resid(zndvispei_best))\n",
    "plot(zndvispei_best)"
   ]
  },
  {
   "cell_type": "markdown",
   "metadata": {},
   "source": [
    "## Extract residuals and confidence intervals (just to see how)\n",
    "\n",
    "This paper:\n",
    "\n",
    "https://doi.org/10.1016/j.jml.2007.12.005\n",
    "\n",
    "May be of interest regarding confidence intervals"
   ]
  },
  {
   "cell_type": "code",
   "execution_count": 16,
   "metadata": {},
   "outputs": [
    {
     "data": {
      "text/html": [
       "<strong>$`Southeast/USH00011084`</strong> = <dl class=dl-horizontal>\n",
       "\t<dt>1</dt>\n",
       "\t\t<dd>2.30575904895938</dd>\n",
       "\t<dt>2</dt>\n",
       "\t\t<dd>1.40067007267432</dd>\n",
       "\t<dt>3</dt>\n",
       "\t\t<dd>2.12227403623986</dd>\n",
       "\t<dt>4</dt>\n",
       "\t\t<dd>3.06954066527327</dd>\n",
       "\t<dt>5</dt>\n",
       "\t\t<dd>0.551515236277517</dd>\n",
       "\t<dt>6</dt>\n",
       "\t\t<dd>-3.75978245635937</dd>\n",
       "\t<dt>7</dt>\n",
       "\t\t<dd>-3.57468827130284</dd>\n",
       "\t<dt>8</dt>\n",
       "\t\t<dd>-3.37918359188002</dd>\n",
       "\t<dt>9</dt>\n",
       "\t\t<dd>-1.86766618146322</dd>\n",
       "\t<dt>10</dt>\n",
       "\t\t<dd>-0.0850077398621185</dd>\n",
       "\t<dt>11</dt>\n",
       "\t\t<dd>-2.21302448515583</dd>\n",
       "\t<dt>12</dt>\n",
       "\t\t<dd>-1.13736021614645</dd>\n",
       "\t<dt>13</dt>\n",
       "\t\t<dd>2.16873475929172</dd>\n",
       "\t<dt>14</dt>\n",
       "\t\t<dd>2.88582857016794</dd>\n",
       "\t<dt>15</dt>\n",
       "\t\t<dd>0.0541471246838711</dd>\n",
       "\t<dt>16</dt>\n",
       "\t\t<dd>1.63222706110831</dd>\n",
       "</dl>\n"
      ],
      "text/latex": [
       "\\textbf{\\$`Southeast/USH00011084`} = \\begin{description*}\n",
       "\\item[1] 2.30575904895938\n",
       "\\item[2] 1.40067007267432\n",
       "\\item[3] 2.12227403623986\n",
       "\\item[4] 3.06954066527327\n",
       "\\item[5] 0.551515236277517\n",
       "\\item[6] -3.75978245635937\n",
       "\\item[7] -3.57468827130284\n",
       "\\item[8] -3.37918359188002\n",
       "\\item[9] -1.86766618146322\n",
       "\\item[10] -0.0850077398621185\n",
       "\\item[11] -2.21302448515583\n",
       "\\item[12] -1.13736021614645\n",
       "\\item[13] 2.16873475929172\n",
       "\\item[14] 2.88582857016794\n",
       "\\item[15] 0.0541471246838711\n",
       "\\item[16] 1.63222706110831\n",
       "\\end{description*}\n"
      ],
      "text/markdown": [
       "**$`Southeast/USH00011084`** = 1\n",
       ":   2.305759048959382\n",
       ":   1.400670072674323\n",
       ":   2.122274036239864\n",
       ":   3.069540665273275\n",
       ":   0.5515152362775176\n",
       ":   -3.759782456359377\n",
       ":   -3.574688271302848\n",
       ":   -3.379183591880029\n",
       ":   -1.8676661814632210\n",
       ":   -0.085007739862118511\n",
       ":   -2.2130244851558312\n",
       ":   -1.1373602161464513\n",
       ":   2.1687347592917214\n",
       ":   2.8858285701679415\n",
       ":   0.054147124683871116\n",
       ":   1.63222706110831\n",
       "\n"
      ],
      "text/plain": [
       "$`Southeast/USH00011084`\n",
       "          1           2           3           4           5           6 \n",
       " 2.30575905  1.40067007  2.12227404  3.06954067  0.55151524 -3.75978246 \n",
       "          7           8           9          10          11          12 \n",
       "-3.57468827 -3.37918359 -1.86766618 -0.08500774 -2.21302449 -1.13736022 \n",
       "         13          14          15          16 \n",
       " 2.16873476  2.88582857  0.05414712  1.63222706 \n"
      ]
     },
     "metadata": {},
     "output_type": "display_data"
    },
    {
     "data": {
      "text/plain": [
       "Approximate 95% confidence intervals\n",
       "\n",
       " Fixed effects:\n",
       "                  lower      est.    upper\n",
       "(Intercept)   0.1358576 0.7402265 1.344595\n",
       "spei12mo_mean 0.5399912 1.3858123 2.231634\n",
       "attr(,\"label\")\n",
       "[1] \"Fixed effects:\"\n",
       "\n",
       " Random Effects:\n",
       "  Level: neonDomainName \n",
       "                                   lower      est.    upper\n",
       "sd((Intercept))                0.7565249 1.2587718 2.094454\n",
       "sd(spei12mo_mean)              1.1329512 1.7643503 2.747631\n",
       "cor((Intercept),spei12mo_mean) 0.5134384 0.8121599 0.935321\n",
       "  Level: stationid \n",
       "                                   lower      est.     upper\n",
       "sd((Intercept))                0.3730125 0.4369555 0.5118599\n",
       "sd(spei12mo_mean)              0.8960685 0.9612988 1.0312776\n",
       "cor((Intercept),spei12mo_mean) 0.9371224 0.9950209 0.9996163\n",
       "\n",
       " Correlation structure:\n",
       "        lower      est.     upper\n",
       "Phi 0.3134779 0.3291401 0.3446232\n",
       "attr(,\"label\")\n",
       "[1] \"Correlation structure:\"\n",
       "\n",
       " Within-group standard error:\n",
       "   lower     est.    upper \n",
       "2.278905 2.305860 2.333135 "
      ]
     },
     "metadata": {},
     "output_type": "display_data"
    }
   ],
   "source": [
    "# Return residuals\n",
    "residuals(zndvispei_best, level=2, asList=T)[1]\n",
    "confint <- intervals(zndvispei_best)\n",
    "confint"
   ]
  },
  {
   "cell_type": "code",
   "execution_count": 17,
   "metadata": {},
   "outputs": [
    {
     "data": {
      "text/html": [
       "\n",
       "<table width=\"100%\" summary=\"page for intervals.lme {nlme}\"><tr><td>intervals.lme {nlme}</td><td style=\"text-align: right;\">R Documentation</td></tr></table>\n",
       "\n",
       "<h2>Confidence Intervals on lme Parameters</h2>\n",
       "\n",
       "<h3>Description</h3>\n",
       "\n",
       "<p>Approximate confidence intervals for the parameters in the linear\n",
       "mixed-effects model represented by <code>object</code> are obtained, using\n",
       "a normal approximation to the distribution of the (restricted)\n",
       "maximum likelihood estimators (the estimators are assumed to have a\n",
       "normal distribution centered at the true parameter values and with\n",
       "covariance matrix equal to the negative inverse Hessian matrix of the\n",
       "(restricted) log-likelihood evaluated at the estimated parameters).\n",
       "Confidence intervals are obtained in an unconstrained scale first,\n",
       "using the normal approximation, and, if necessary, transformed to the\n",
       "constrained scale. The <code>pdNatural</code> parametrization is used for\n",
       "general positive-definite matrices.\n",
       "</p>\n",
       "\n",
       "\n",
       "<h3>Usage</h3>\n",
       "\n",
       "<pre>\n",
       "## S3 method for class 'lme'\n",
       "intervals(object, level = 0.95,\n",
       "          which = c(\"all\", \"var-cov\", \"fixed\"), ...)\n",
       "</pre>\n",
       "\n",
       "\n",
       "<h3>Arguments</h3>\n",
       "\n",
       "<table summary=\"R argblock\">\n",
       "<tr valign=\"top\"><td><code>object</code></td>\n",
       "<td>\n",
       "<p>an object inheriting from class <code>\"lme\"</code>, representing\n",
       "a fitted linear mixed-effects model.</p>\n",
       "</td></tr>\n",
       "<tr valign=\"top\"><td><code>level</code></td>\n",
       "<td>\n",
       "<p>an optional numeric value with the confidence level for\n",
       "the intervals.  Defaults to 0.95.</p>\n",
       "</td></tr>\n",
       "<tr valign=\"top\"><td><code>which</code></td>\n",
       "<td>\n",
       "<p>an optional character string specifying the  subset\n",
       "of parameters for which to construct the confidence\n",
       "intervals. Possible values are <code>\"all\"</code> for all parameters,\n",
       "<code>\"var-cov\"</code> for the variance-covariance parameters only, and\n",
       "<code>\"fixed\"</code> for the fixed effects only.  Defaults to <code>\"all\"</code>.</p>\n",
       "</td></tr>\n",
       "<tr valign=\"top\"><td><code>...</code></td>\n",
       "<td>\n",
       "<p>some methods for this generic require additional\n",
       "arguments.  None are used in this method.</p>\n",
       "</td></tr>\n",
       "</table>\n",
       "\n",
       "\n",
       "<h3>Value</h3>\n",
       "\n",
       "<p>a list with components given by data frames with rows corresponding to\n",
       "parameters and columns <code>lower</code>, <code>est.</code>, and <code>upper</code>\n",
       "representing respectively lower confidence limits, the estimated\n",
       "values, and upper confidence limits for the parameters. Possible\n",
       "components are:\n",
       "</p>\n",
       "<table summary=\"R valueblock\">\n",
       "<tr valign=\"top\"><td><code>fixed</code></td>\n",
       "<td>\n",
       "<p>fixed effects, only present when <code>which</code> is not\n",
       "equal to <code>\"var-cov\"</code>.</p>\n",
       "</td></tr>\n",
       "<tr valign=\"top\"><td><code>reStruct</code></td>\n",
       "<td>\n",
       "<p>random effects variance-covariance parameters, only\n",
       "present when <code>which</code> is not equal to <code>\"fixed\"</code>.</p>\n",
       "</td></tr>\n",
       "<tr valign=\"top\"><td><code>corStruct</code></td>\n",
       "<td>\n",
       "<p>within-group correlation parameters, only\n",
       "present when <code>which</code> is not equal to <code>\"fixed\"</code> and a\n",
       "correlation structure is used in <code>object</code>.</p>\n",
       "</td></tr>\n",
       "<tr valign=\"top\"><td><code>varFunc</code></td>\n",
       "<td>\n",
       "<p>within-group variance function parameters, only\n",
       "present when <code>which</code> is not equal to <code>\"fixed\"</code> and a\n",
       "variance function structure is used in <code>object</code>.</p>\n",
       "</td></tr>\n",
       "<tr valign=\"top\"><td><code>sigma</code></td>\n",
       "<td>\n",
       "<p>within-group standard deviation.</p>\n",
       "</td></tr>\n",
       "</table>\n",
       "\n",
       "\n",
       "<h3>Author(s)</h3>\n",
       "\n",
       "<p>José Pinheiro and Douglas Bates <a href=\"mailto:bates@stat.wisc.edu\">bates@stat.wisc.edu</a></p>\n",
       "\n",
       "\n",
       "<h3>References</h3>\n",
       "\n",
       "<p>Pinheiro, J.C., and Bates, D.M. (2000) &quot;Mixed-Effects Models\n",
       "in S and S-PLUS&quot;, Springer.\n",
       "</p>\n",
       "\n",
       "\n",
       "<h3>See Also</h3>\n",
       "\n",
       "<p><code>lme</code>, <code>intervals</code>,\n",
       "<code>print.intervals.lme</code>,\n",
       "<code>pdNatural</code></p>\n",
       "\n",
       "\n",
       "<h3>Examples</h3>\n",
       "\n",
       "<pre>\n",
       "fm1 &lt;- lme(distance ~ age, Orthodont, random = ~ age | Subject)\n",
       "intervals(fm1)\n",
       "</pre>\n",
       "\n",
       "<hr /><div style=\"text-align: center;\">[Package <em>nlme</em> version 3.1-142 ]</div>"
      ],
      "text/latex": [
       "\\inputencoding{utf8}\n",
       "\\HeaderA{intervals.lme}{Confidence Intervals on lme Parameters}{intervals.lme}\n",
       "\\aliasA{print.intervals.lme}{intervals.lme}{print.intervals.lme}\n",
       "\\keyword{models}{intervals.lme}\n",
       "%\n",
       "\\begin{Description}\\relax\n",
       "Approximate confidence intervals for the parameters in the linear\n",
       "mixed-effects model represented by \\code{object} are obtained, using\n",
       "a normal approximation to the distribution of the (restricted)\n",
       "maximum likelihood estimators (the estimators are assumed to have a\n",
       "normal distribution centered at the true parameter values and with\n",
       "covariance matrix equal to the negative inverse Hessian matrix of the\n",
       "(restricted) log-likelihood evaluated at the estimated parameters).\n",
       "Confidence intervals are obtained in an unconstrained scale first,\n",
       "using the normal approximation, and, if necessary, transformed to the\n",
       "constrained scale. The \\code{pdNatural} parametrization is used for\n",
       "general positive-definite matrices.\n",
       "\\end{Description}\n",
       "%\n",
       "\\begin{Usage}\n",
       "\\begin{verbatim}\n",
       "## S3 method for class 'lme'\n",
       "intervals(object, level = 0.95,\n",
       "          which = c(\"all\", \"var-cov\", \"fixed\"), ...)\n",
       "\\end{verbatim}\n",
       "\\end{Usage}\n",
       "%\n",
       "\\begin{Arguments}\n",
       "\\begin{ldescription}\n",
       "\\item[\\code{object}] an object inheriting from class \\code{\"\\LinkA{lme}{lme}\"}, representing\n",
       "a fitted linear mixed-effects model.\n",
       "\\item[\\code{level}] an optional numeric value with the confidence level for\n",
       "the intervals.  Defaults to 0.95.\n",
       "\\item[\\code{which}] an optional character string specifying the  subset\n",
       "of parameters for which to construct the confidence\n",
       "intervals. Possible values are \\code{\"all\"} for all parameters,\n",
       "\\code{\"var-cov\"} for the variance-covariance parameters only, and\n",
       "\\code{\"fixed\"} for the fixed effects only.  Defaults to \\code{\"all\"}.\n",
       "\\item[\\code{...}] some methods for this generic require additional\n",
       "arguments.  None are used in this method.\n",
       "\\end{ldescription}\n",
       "\\end{Arguments}\n",
       "%\n",
       "\\begin{Value}\n",
       "a list with components given by data frames with rows corresponding to\n",
       "parameters and columns \\code{lower}, \\code{est.}, and \\code{upper}\n",
       "representing respectively lower confidence limits, the estimated\n",
       "values, and upper confidence limits for the parameters. Possible\n",
       "components are:\n",
       "\\begin{ldescription}\n",
       "\\item[\\code{fixed}] fixed effects, only present when \\code{which} is not\n",
       "equal to \\code{\"var-cov\"}.\n",
       "\\item[\\code{reStruct}] random effects variance-covariance parameters, only\n",
       "present when \\code{which} is not equal to \\code{\"fixed\"}.\n",
       "\\item[\\code{corStruct}] within-group correlation parameters, only\n",
       "present when \\code{which} is not equal to \\code{\"fixed\"} and a\n",
       "correlation structure is used in \\code{object}.\n",
       "\\item[\\code{varFunc}] within-group variance function parameters, only\n",
       "present when \\code{which} is not equal to \\code{\"fixed\"} and a\n",
       "variance function structure is used in \\code{object}.\n",
       "\\item[\\code{sigma}] within-group standard deviation.\n",
       "\\end{ldescription}\n",
       "\\end{Value}\n",
       "%\n",
       "\\begin{Author}\\relax\n",
       "José Pinheiro and Douglas Bates \\email{bates@stat.wisc.edu}\n",
       "\\end{Author}\n",
       "%\n",
       "\\begin{References}\\relax\n",
       "Pinheiro, J.C., and Bates, D.M. (2000) \"Mixed-Effects Models\n",
       "in S and S-PLUS\", Springer.\n",
       "\\end{References}\n",
       "%\n",
       "\\begin{SeeAlso}\\relax\n",
       "\\code{\\LinkA{lme}{lme}}, \\code{\\LinkA{intervals}{intervals}},\n",
       "\\code{\\LinkA{print.intervals.lme}{print.intervals.lme}},\n",
       "\\code{\\LinkA{pdNatural}{pdNatural}}\n",
       "\\end{SeeAlso}\n",
       "%\n",
       "\\begin{Examples}\n",
       "\\begin{ExampleCode}\n",
       "fm1 <- lme(distance ~ age, Orthodont, random = ~ age | Subject)\n",
       "intervals(fm1)\n",
       "\\end{ExampleCode}\n",
       "\\end{Examples}"
      ],
      "text/plain": [
       "intervals.lme               package:nlme               R Documentation\n",
       "\n",
       "_\bC_\bo_\bn_\bf_\bi_\bd_\be_\bn_\bc_\be _\bI_\bn_\bt_\be_\br_\bv_\ba_\bl_\bs _\bo_\bn _\bl_\bm_\be _\bP_\ba_\br_\ba_\bm_\be_\bt_\be_\br_\bs\n",
       "\n",
       "_\bD_\be_\bs_\bc_\br_\bi_\bp_\bt_\bi_\bo_\bn:\n",
       "\n",
       "     Approximate confidence intervals for the parameters in the linear\n",
       "     mixed-effects model represented by ‘object’ are obtained, using a\n",
       "     normal approximation to the distribution of the (restricted)\n",
       "     maximum likelihood estimators (the estimators are assumed to have\n",
       "     a normal distribution centered at the true parameter values and\n",
       "     with covariance matrix equal to the negative inverse Hessian\n",
       "     matrix of the (restricted) log-likelihood evaluated at the\n",
       "     estimated parameters).  Confidence intervals are obtained in an\n",
       "     unconstrained scale first, using the normal approximation, and, if\n",
       "     necessary, transformed to the constrained scale. The ‘pdNatural’\n",
       "     parametrization is used for general positive-definite matrices.\n",
       "\n",
       "_\bU_\bs_\ba_\bg_\be:\n",
       "\n",
       "     ## S3 method for class 'lme'\n",
       "     intervals(object, level = 0.95,\n",
       "               which = c(\"all\", \"var-cov\", \"fixed\"), ...)\n",
       "     \n",
       "_\bA_\br_\bg_\bu_\bm_\be_\bn_\bt_\bs:\n",
       "\n",
       "  object: an object inheriting from class ‘\"lme\"’, representing a\n",
       "          fitted linear mixed-effects model.\n",
       "\n",
       "   level: an optional numeric value with the confidence level for the\n",
       "          intervals.  Defaults to 0.95.\n",
       "\n",
       "   which: an optional character string specifying the subset of\n",
       "          parameters for which to construct the confidence intervals.\n",
       "          Possible values are ‘\"all\"’ for all parameters, ‘\"var-cov\"’\n",
       "          for the variance-covariance parameters only, and ‘\"fixed\"’\n",
       "          for the fixed effects only.  Defaults to ‘\"all\"’.\n",
       "\n",
       "     ...: some methods for this generic require additional arguments.\n",
       "          None are used in this method.\n",
       "\n",
       "_\bV_\ba_\bl_\bu_\be:\n",
       "\n",
       "     a list with components given by data frames with rows\n",
       "     corresponding to parameters and columns ‘lower’, ‘est.’, and\n",
       "     ‘upper’ representing respectively lower confidence limits, the\n",
       "     estimated values, and upper confidence limits for the parameters.\n",
       "     Possible components are:\n",
       "\n",
       "   fixed: fixed effects, only present when ‘which’ is not equal to\n",
       "          ‘\"var-cov\"’.\n",
       "\n",
       "reStruct: random effects variance-covariance parameters, only present\n",
       "          when ‘which’ is not equal to ‘\"fixed\"’.\n",
       "\n",
       "corStruct: within-group correlation parameters, only present when\n",
       "          ‘which’ is not equal to ‘\"fixed\"’ and a correlation structure\n",
       "          is used in ‘object’.\n",
       "\n",
       " varFunc: within-group variance function parameters, only present when\n",
       "          ‘which’ is not equal to ‘\"fixed\"’ and a variance function\n",
       "          structure is used in ‘object’.\n",
       "\n",
       "   sigma: within-group standard deviation.\n",
       "\n",
       "_\bA_\bu_\bt_\bh_\bo_\br(_\bs):\n",
       "\n",
       "     José Pinheiro and Douglas Bates <email: bates@stat.wisc.edu>\n",
       "\n",
       "_\bR_\be_\bf_\be_\br_\be_\bn_\bc_\be_\bs:\n",
       "\n",
       "     Pinheiro, J.C., and Bates, D.M. (2000) \"Mixed-Effects Models in S\n",
       "     and S-PLUS\", Springer.\n",
       "\n",
       "_\bS_\be_\be _\bA_\bl_\bs_\bo:\n",
       "\n",
       "     ‘lme’, ‘intervals’, ‘print.intervals.lme’, ‘pdNatural’\n",
       "\n",
       "_\bE_\bx_\ba_\bm_\bp_\bl_\be_\bs:\n",
       "\n",
       "     fm1 <- lme(distance ~ age, Orthodont, random = ~ age | Subject)\n",
       "     intervals(fm1)\n",
       "     "
      ]
     },
     "metadata": {},
     "output_type": "display_data"
    }
   ],
   "source": [
    "?intervals.lme"
   ]
  },
  {
   "cell_type": "markdown",
   "metadata": {},
   "source": [
    "## Summarize and export eco-sensitivity models by domain\n",
    "\n",
    "Using the BIC statistic showed that the models with neonDomainName/stationid and domain NOT as a fixed effect were the best-fitting models for ndvi vs precip, zndvi vs precip, and zndvi vs spei. Adding an AR1 correlation structure improved the model fits significantly (in both AIC and BIC).\n",
    "\n",
    "Below are tables of the fixed effects and neonDomain random effects for each sensitivity.\n",
    "\n"
   ]
  },
  {
   "cell_type": "code",
   "execution_count": 18,
   "metadata": {},
   "outputs": [],
   "source": [
    "# Get some mean annual statistics for domains (16year MAT/MAP)\n",
    "gb_dom <- df %>% group_by(neonDomainName) %>%\n",
    "            summarise(MAP=mean(prcp_sum, na.rm=TRUE),\n",
    "                      MAT=mean(tavg_mean, na.rm=TRUE),\n",
    "                      spei12mo_trend=mean(spei12mo_trend, na.rm=TRUE),\n",
    "                      spei12mo_cv5yr_trend=mean(spei12mo_cv5yr_trend,na.rm=TRUE))\n",
    "\n",
    "# Get some mean annual statistics for stationid (random effect, 16year MAT/MAP)\n",
    "gb_sta <- df %>% group_by(stationid) %>%\n",
    "            summarise(neonDomainName=unique(neonDomainName),\n",
    "                      MAP=mean(prcp_sum, na.rm=TRUE),\n",
    "                      MAT=mean(tavg_mean, na.rm=TRUE),\n",
    "                      spei12mo_trend=mean(spei12mo_trend, na.rm=TRUE),\n",
    "                      spei12mo_cv5yr_trend=mean(spei12mo_cv5yr_trend,na.rm=TRUE))\n",
    "\n",
    "\n",
    "# This uses the function get_fe_2re to get fixed and random effects (and other stuff)\n",
    "# out of the lme models. The function is in 'common_stats_functions'\n",
    "ndviprcp <- get_fe_2re(ndviprcp_best, 'ndvi_prcp', 'neonDomainName', 'stationid')\n",
    "ndviprcp_fe <- ndviprcp[[1]]\n",
    "ndviprcp_re <- ndviprcp[[2]]\n",
    "\n",
    "zndviprcp <- get_fe_2re(zndviprcp_best, 'zndvi_prcp', 'neonDomainName', 'stationid')\n",
    "zndviprcp_fe <- zndviprcp[[1]]\n",
    "zndviprcp_re <- zndviprcp[[2]]\n",
    "\n",
    "zndvispei <- get_fe_2re(zndvispei_best, 'zndvi_spei', 'neonDomainName', 'stationid')\n",
    "zndvispei_fe <- zndvispei[[1]]\n",
    "zndvispei_re <- zndvispei[[2]]"
   ]
  },
  {
   "cell_type": "code",
   "execution_count": 19,
   "metadata": {},
   "outputs": [
    {
     "name": "stderr",
     "output_type": "stream",
     "text": [
      "Warning message:\n",
      "“Column `neonDomainName` joining factor and character vector, coercing into character vector”"
     ]
    },
    {
     "data": {
      "text/html": [
       "<table>\n",
       "<caption>A tibble: 18 × 11</caption>\n",
       "<thead>\n",
       "\t<tr><th scope=col>neonDomainName</th><th scope=col>MAP</th><th scope=col>MAT</th><th scope=col>spei12mo_trend</th><th scope=col>spei12mo_cv5yr_trend</th><th scope=col>ndvi_prcp_Intcpt</th><th scope=col>ndvi_prcp_Slope</th><th scope=col>zndvi_prcp_Intcpt</th><th scope=col>zndvi_prcp_Slope</th><th scope=col>zndvi_spei_Intcpt</th><th scope=col>zndvi_spei_Slope</th></tr>\n",
       "\t<tr><th scope=col>&lt;chr&gt;</th><th scope=col>&lt;dbl&gt;</th><th scope=col>&lt;dbl&gt;</th><th scope=col>&lt;dbl&gt;</th><th scope=col>&lt;dbl&gt;</th><th scope=col>&lt;dbl&gt;</th><th scope=col>&lt;dbl&gt;</th><th scope=col>&lt;dbl&gt;</th><th scope=col>&lt;dbl&gt;</th><th scope=col>&lt;dbl&gt;</th><th scope=col>&lt;dbl&gt;</th></tr>\n",
       "</thead>\n",
       "<tbody>\n",
       "\t<tr><td>Appalachians / Cumberland Plateau  </td><td>1229.8583</td><td>12.876123</td><td> 2.640105e-04</td><td>-2.193997e-05</td><td> 1.52342480</td><td>-0.0004447813</td><td> 1.25126637</td><td>-0.0031918669</td><td>-0.67302059</td><td>-1.4337369</td></tr>\n",
       "\t<tr><td>Atlantic Neotropical               </td><td>1502.0000</td><td>24.170295</td><td>-4.750003e-04</td><td> 2.047066e-05</td><td> 0.88324002</td><td>-0.0003521494</td><td>-0.02203213</td><td>-0.0023277159</td><td>-0.20360003</td><td>-0.6563070</td></tr>\n",
       "\t<tr><td>Central Plains                     </td><td> 497.7514</td><td>12.285118</td><td>-9.022957e-05</td><td> 2.109924e-05</td><td>-1.93521276</td><td> 0.0008730305</td><td>-3.39650714</td><td> 0.0069627378</td><td> 0.18856129</td><td> 1.6487782</td></tr>\n",
       "\t<tr><td>Desert Southwest                   </td><td> 225.0551</td><td>19.144803</td><td>-8.694542e-04</td><td> 1.476098e-04</td><td>-2.83927763</td><td> 0.0009170556</td><td>-1.78918699</td><td> 0.0126031203</td><td> 4.33773470</td><td> 4.2406899</td></tr>\n",
       "\t<tr><td>Great Basin                        </td><td> 308.4206</td><td> 9.069863</td><td>-3.262137e-04</td><td> 6.795495e-05</td><td>-1.57724547</td><td> 0.0002376465</td><td> 0.72017901</td><td> 0.0002978784</td><td> 0.26351350</td><td> 0.3043271</td></tr>\n",
       "\t<tr><td>Great Lakes                        </td><td> 878.7050</td><td> 7.559194</td><td> 1.855930e-04</td><td>-1.993492e-05</td><td> 0.67688186</td><td>-0.0004313319</td><td> 1.54440225</td><td>-0.0032932772</td><td>-0.69952413</td><td>-1.3889019</td></tr>\n",
       "\t<tr><td>Mid Atlantic                       </td><td>1157.1283</td><td>14.664712</td><td>-6.455362e-05</td><td> 4.626216e-05</td><td> 1.47599294</td><td>-0.0003757205</td><td> 0.37273285</td><td>-0.0023877590</td><td>-0.64973248</td><td>-1.2016069</td></tr>\n",
       "\t<tr><td>Northeast                          </td><td>1145.8539</td><td> 8.846465</td><td> 2.156314e-04</td><td>-5.588769e-06</td><td> 1.70442740</td><td>-0.0006336817</td><td> 2.48234353</td><td>-0.0042371562</td><td>-0.65208773</td><td>-1.6170201</td></tr>\n",
       "\t<tr><td>Northern Plains                    </td><td> 458.2536</td><td> 6.910386</td><td>-1.160497e-05</td><td> 2.478216e-05</td><td>-1.76104606</td><td> 0.0008074589</td><td>-0.53421123</td><td> 0.0016787403</td><td>-0.54711833</td><td> 0.1859526</td></tr>\n",
       "\t<tr><td>Northern Rockies                   </td><td> 442.1346</td><td> 6.305983</td><td>-1.127021e-04</td><td> 3.148389e-05</td><td>-0.40469326</td><td> 0.0001658523</td><td> 1.40591964</td><td>-0.0024629986</td><td>-0.45149036</td><td>-0.9028790</td></tr>\n",
       "\t<tr><td>Ozarks Complex                     </td><td>1284.0502</td><td>16.280637</td><td> 3.284556e-04</td><td>-2.057495e-05</td><td> 1.39415422</td><td>-0.0003947658</td><td> 0.63861514</td><td>-0.0027581804</td><td>-0.73814668</td><td>-0.9553684</td></tr>\n",
       "\t<tr><td>Pacific Northwest                  </td><td>1265.9375</td><td>10.693070</td><td>-1.323695e-04</td><td> 5.011482e-05</td><td> 2.07505178</td><td>-0.0006247977</td><td> 2.73035301</td><td>-0.0043443119</td><td>-0.84780090</td><td>-1.9538041</td></tr>\n",
       "\t<tr><td>Pacific Southwest                  </td><td> 537.4453</td><td>15.690401</td><td>-3.926589e-04</td><td> 1.150420e-04</td><td> 0.13139931</td><td>-0.0001584139</td><td> 0.89744955</td><td>-0.0017756512</td><td> 0.77551880</td><td> 0.9474892</td></tr>\n",
       "\t<tr><td>Prairie Peninsula                  </td><td> 932.7766</td><td>10.376217</td><td> 3.151949e-04</td><td>-2.193150e-05</td><td>-0.08374735</td><td>-0.0002524249</td><td> 0.92582915</td><td>-0.0026696760</td><td>-0.73724271</td><td>-1.1508272</td></tr>\n",
       "\t<tr><td>Southeast                          </td><td>1341.7119</td><td>19.790463</td><td> 3.201070e-05</td><td> 2.613529e-05</td><td> 1.54067907</td><td>-0.0002987124</td><td>-1.55397621</td><td>-0.0011133973</td><td>-0.41650433</td><td>-0.5275043</td></tr>\n",
       "\t<tr><td>Southern Plains                    </td><td> 780.0909</td><td>18.200753</td><td> 2.523824e-04</td><td>-1.350690e-05</td><td>-0.80432219</td><td> 0.0004906589</td><td>-5.27514417</td><td> 0.0053567267</td><td>-0.06981786</td><td> 3.1202819</td></tr>\n",
       "\t<tr><td>Southern Rockies / Colorado Plateau</td><td> 320.2689</td><td>10.083763</td><td>-3.789249e-04</td><td> 6.942214e-05</td><td>-1.99970667</td><td> 0.0004750766</td><td>-0.39803264</td><td> 0.0036627871</td><td> 1.12075783</td><td> 1.3404368</td></tr>\n",
       "\t<tr><td>FixedEffects                       </td><td>       NA</td><td>       NA</td><td>           NA</td><td>           NA</td><td> 5.55874686</td><td> 0.0005392970</td><td>-1.94772449</td><td> 0.0037721184</td><td> 0.74022654</td><td> 1.3858123</td></tr>\n",
       "</tbody>\n",
       "</table>\n"
      ],
      "text/latex": [
       "A tibble: 18 × 11\n",
       "\\begin{tabular}{r|lllllllllll}\n",
       " neonDomainName & MAP & MAT & spei12mo\\_trend & spei12mo\\_cv5yr\\_trend & ndvi\\_prcp\\_Intcpt & ndvi\\_prcp\\_Slope & zndvi\\_prcp\\_Intcpt & zndvi\\_prcp\\_Slope & zndvi\\_spei\\_Intcpt & zndvi\\_spei\\_Slope\\\\\n",
       " <chr> & <dbl> & <dbl> & <dbl> & <dbl> & <dbl> & <dbl> & <dbl> & <dbl> & <dbl> & <dbl>\\\\\n",
       "\\hline\n",
       "\t Appalachians / Cumberland Plateau   & 1229.8583 & 12.876123 &  2.640105e-04 & -2.193997e-05 &  1.52342480 & -0.0004447813 &  1.25126637 & -0.0031918669 & -0.67302059 & -1.4337369\\\\\n",
       "\t Atlantic Neotropical                & 1502.0000 & 24.170295 & -4.750003e-04 &  2.047066e-05 &  0.88324002 & -0.0003521494 & -0.02203213 & -0.0023277159 & -0.20360003 & -0.6563070\\\\\n",
       "\t Central Plains                      &  497.7514 & 12.285118 & -9.022957e-05 &  2.109924e-05 & -1.93521276 &  0.0008730305 & -3.39650714 &  0.0069627378 &  0.18856129 &  1.6487782\\\\\n",
       "\t Desert Southwest                    &  225.0551 & 19.144803 & -8.694542e-04 &  1.476098e-04 & -2.83927763 &  0.0009170556 & -1.78918699 &  0.0126031203 &  4.33773470 &  4.2406899\\\\\n",
       "\t Great Basin                         &  308.4206 &  9.069863 & -3.262137e-04 &  6.795495e-05 & -1.57724547 &  0.0002376465 &  0.72017901 &  0.0002978784 &  0.26351350 &  0.3043271\\\\\n",
       "\t Great Lakes                         &  878.7050 &  7.559194 &  1.855930e-04 & -1.993492e-05 &  0.67688186 & -0.0004313319 &  1.54440225 & -0.0032932772 & -0.69952413 & -1.3889019\\\\\n",
       "\t Mid Atlantic                        & 1157.1283 & 14.664712 & -6.455362e-05 &  4.626216e-05 &  1.47599294 & -0.0003757205 &  0.37273285 & -0.0023877590 & -0.64973248 & -1.2016069\\\\\n",
       "\t Northeast                           & 1145.8539 &  8.846465 &  2.156314e-04 & -5.588769e-06 &  1.70442740 & -0.0006336817 &  2.48234353 & -0.0042371562 & -0.65208773 & -1.6170201\\\\\n",
       "\t Northern Plains                     &  458.2536 &  6.910386 & -1.160497e-05 &  2.478216e-05 & -1.76104606 &  0.0008074589 & -0.53421123 &  0.0016787403 & -0.54711833 &  0.1859526\\\\\n",
       "\t Northern Rockies                    &  442.1346 &  6.305983 & -1.127021e-04 &  3.148389e-05 & -0.40469326 &  0.0001658523 &  1.40591964 & -0.0024629986 & -0.45149036 & -0.9028790\\\\\n",
       "\t Ozarks Complex                      & 1284.0502 & 16.280637 &  3.284556e-04 & -2.057495e-05 &  1.39415422 & -0.0003947658 &  0.63861514 & -0.0027581804 & -0.73814668 & -0.9553684\\\\\n",
       "\t Pacific Northwest                   & 1265.9375 & 10.693070 & -1.323695e-04 &  5.011482e-05 &  2.07505178 & -0.0006247977 &  2.73035301 & -0.0043443119 & -0.84780090 & -1.9538041\\\\\n",
       "\t Pacific Southwest                   &  537.4453 & 15.690401 & -3.926589e-04 &  1.150420e-04 &  0.13139931 & -0.0001584139 &  0.89744955 & -0.0017756512 &  0.77551880 &  0.9474892\\\\\n",
       "\t Prairie Peninsula                   &  932.7766 & 10.376217 &  3.151949e-04 & -2.193150e-05 & -0.08374735 & -0.0002524249 &  0.92582915 & -0.0026696760 & -0.73724271 & -1.1508272\\\\\n",
       "\t Southeast                           & 1341.7119 & 19.790463 &  3.201070e-05 &  2.613529e-05 &  1.54067907 & -0.0002987124 & -1.55397621 & -0.0011133973 & -0.41650433 & -0.5275043\\\\\n",
       "\t Southern Plains                     &  780.0909 & 18.200753 &  2.523824e-04 & -1.350690e-05 & -0.80432219 &  0.0004906589 & -5.27514417 &  0.0053567267 & -0.06981786 &  3.1202819\\\\\n",
       "\t Southern Rockies / Colorado Plateau &  320.2689 & 10.083763 & -3.789249e-04 &  6.942214e-05 & -1.99970667 &  0.0004750766 & -0.39803264 &  0.0036627871 &  1.12075783 &  1.3404368\\\\\n",
       "\t FixedEffects                        &        NA &        NA &            NA &            NA &  5.55874686 &  0.0005392970 & -1.94772449 &  0.0037721184 &  0.74022654 &  1.3858123\\\\\n",
       "\\end{tabular}\n"
      ],
      "text/markdown": [
       "\n",
       "A tibble: 18 × 11\n",
       "\n",
       "| neonDomainName &lt;chr&gt; | MAP &lt;dbl&gt; | MAT &lt;dbl&gt; | spei12mo_trend &lt;dbl&gt; | spei12mo_cv5yr_trend &lt;dbl&gt; | ndvi_prcp_Intcpt &lt;dbl&gt; | ndvi_prcp_Slope &lt;dbl&gt; | zndvi_prcp_Intcpt &lt;dbl&gt; | zndvi_prcp_Slope &lt;dbl&gt; | zndvi_spei_Intcpt &lt;dbl&gt; | zndvi_spei_Slope &lt;dbl&gt; |\n",
       "|---|---|---|---|---|---|---|---|---|---|---|\n",
       "| Appalachians / Cumberland Plateau   | 1229.8583 | 12.876123 |  2.640105e-04 | -2.193997e-05 |  1.52342480 | -0.0004447813 |  1.25126637 | -0.0031918669 | -0.67302059 | -1.4337369 |\n",
       "| Atlantic Neotropical                | 1502.0000 | 24.170295 | -4.750003e-04 |  2.047066e-05 |  0.88324002 | -0.0003521494 | -0.02203213 | -0.0023277159 | -0.20360003 | -0.6563070 |\n",
       "| Central Plains                      |  497.7514 | 12.285118 | -9.022957e-05 |  2.109924e-05 | -1.93521276 |  0.0008730305 | -3.39650714 |  0.0069627378 |  0.18856129 |  1.6487782 |\n",
       "| Desert Southwest                    |  225.0551 | 19.144803 | -8.694542e-04 |  1.476098e-04 | -2.83927763 |  0.0009170556 | -1.78918699 |  0.0126031203 |  4.33773470 |  4.2406899 |\n",
       "| Great Basin                         |  308.4206 |  9.069863 | -3.262137e-04 |  6.795495e-05 | -1.57724547 |  0.0002376465 |  0.72017901 |  0.0002978784 |  0.26351350 |  0.3043271 |\n",
       "| Great Lakes                         |  878.7050 |  7.559194 |  1.855930e-04 | -1.993492e-05 |  0.67688186 | -0.0004313319 |  1.54440225 | -0.0032932772 | -0.69952413 | -1.3889019 |\n",
       "| Mid Atlantic                        | 1157.1283 | 14.664712 | -6.455362e-05 |  4.626216e-05 |  1.47599294 | -0.0003757205 |  0.37273285 | -0.0023877590 | -0.64973248 | -1.2016069 |\n",
       "| Northeast                           | 1145.8539 |  8.846465 |  2.156314e-04 | -5.588769e-06 |  1.70442740 | -0.0006336817 |  2.48234353 | -0.0042371562 | -0.65208773 | -1.6170201 |\n",
       "| Northern Plains                     |  458.2536 |  6.910386 | -1.160497e-05 |  2.478216e-05 | -1.76104606 |  0.0008074589 | -0.53421123 |  0.0016787403 | -0.54711833 |  0.1859526 |\n",
       "| Northern Rockies                    |  442.1346 |  6.305983 | -1.127021e-04 |  3.148389e-05 | -0.40469326 |  0.0001658523 |  1.40591964 | -0.0024629986 | -0.45149036 | -0.9028790 |\n",
       "| Ozarks Complex                      | 1284.0502 | 16.280637 |  3.284556e-04 | -2.057495e-05 |  1.39415422 | -0.0003947658 |  0.63861514 | -0.0027581804 | -0.73814668 | -0.9553684 |\n",
       "| Pacific Northwest                   | 1265.9375 | 10.693070 | -1.323695e-04 |  5.011482e-05 |  2.07505178 | -0.0006247977 |  2.73035301 | -0.0043443119 | -0.84780090 | -1.9538041 |\n",
       "| Pacific Southwest                   |  537.4453 | 15.690401 | -3.926589e-04 |  1.150420e-04 |  0.13139931 | -0.0001584139 |  0.89744955 | -0.0017756512 |  0.77551880 |  0.9474892 |\n",
       "| Prairie Peninsula                   |  932.7766 | 10.376217 |  3.151949e-04 | -2.193150e-05 | -0.08374735 | -0.0002524249 |  0.92582915 | -0.0026696760 | -0.73724271 | -1.1508272 |\n",
       "| Southeast                           | 1341.7119 | 19.790463 |  3.201070e-05 |  2.613529e-05 |  1.54067907 | -0.0002987124 | -1.55397621 | -0.0011133973 | -0.41650433 | -0.5275043 |\n",
       "| Southern Plains                     |  780.0909 | 18.200753 |  2.523824e-04 | -1.350690e-05 | -0.80432219 |  0.0004906589 | -5.27514417 |  0.0053567267 | -0.06981786 |  3.1202819 |\n",
       "| Southern Rockies / Colorado Plateau |  320.2689 | 10.083763 | -3.789249e-04 |  6.942214e-05 | -1.99970667 |  0.0004750766 | -0.39803264 |  0.0036627871 |  1.12075783 |  1.3404368 |\n",
       "| FixedEffects                        |        NA |        NA |            NA |            NA |  5.55874686 |  0.0005392970 | -1.94772449 |  0.0037721184 |  0.74022654 |  1.3858123 |\n",
       "\n"
      ],
      "text/plain": [
       "   neonDomainName                      MAP       MAT       spei12mo_trend\n",
       "1  Appalachians / Cumberland Plateau   1229.8583 12.876123  2.640105e-04 \n",
       "2  Atlantic Neotropical                1502.0000 24.170295 -4.750003e-04 \n",
       "3  Central Plains                       497.7514 12.285118 -9.022957e-05 \n",
       "4  Desert Southwest                     225.0551 19.144803 -8.694542e-04 \n",
       "5  Great Basin                          308.4206  9.069863 -3.262137e-04 \n",
       "6  Great Lakes                          878.7050  7.559194  1.855930e-04 \n",
       "7  Mid Atlantic                        1157.1283 14.664712 -6.455362e-05 \n",
       "8  Northeast                           1145.8539  8.846465  2.156314e-04 \n",
       "9  Northern Plains                      458.2536  6.910386 -1.160497e-05 \n",
       "10 Northern Rockies                     442.1346  6.305983 -1.127021e-04 \n",
       "11 Ozarks Complex                      1284.0502 16.280637  3.284556e-04 \n",
       "12 Pacific Northwest                   1265.9375 10.693070 -1.323695e-04 \n",
       "13 Pacific Southwest                    537.4453 15.690401 -3.926589e-04 \n",
       "14 Prairie Peninsula                    932.7766 10.376217  3.151949e-04 \n",
       "15 Southeast                           1341.7119 19.790463  3.201070e-05 \n",
       "16 Southern Plains                      780.0909 18.200753  2.523824e-04 \n",
       "17 Southern Rockies / Colorado Plateau  320.2689 10.083763 -3.789249e-04 \n",
       "18 FixedEffects                               NA        NA            NA \n",
       "   spei12mo_cv5yr_trend ndvi_prcp_Intcpt ndvi_prcp_Slope zndvi_prcp_Intcpt\n",
       "1  -2.193997e-05         1.52342480      -0.0004447813    1.25126637      \n",
       "2   2.047066e-05         0.88324002      -0.0003521494   -0.02203213      \n",
       "3   2.109924e-05        -1.93521276       0.0008730305   -3.39650714      \n",
       "4   1.476098e-04        -2.83927763       0.0009170556   -1.78918699      \n",
       "5   6.795495e-05        -1.57724547       0.0002376465    0.72017901      \n",
       "6  -1.993492e-05         0.67688186      -0.0004313319    1.54440225      \n",
       "7   4.626216e-05         1.47599294      -0.0003757205    0.37273285      \n",
       "8  -5.588769e-06         1.70442740      -0.0006336817    2.48234353      \n",
       "9   2.478216e-05        -1.76104606       0.0008074589   -0.53421123      \n",
       "10  3.148389e-05        -0.40469326       0.0001658523    1.40591964      \n",
       "11 -2.057495e-05         1.39415422      -0.0003947658    0.63861514      \n",
       "12  5.011482e-05         2.07505178      -0.0006247977    2.73035301      \n",
       "13  1.150420e-04         0.13139931      -0.0001584139    0.89744955      \n",
       "14 -2.193150e-05        -0.08374735      -0.0002524249    0.92582915      \n",
       "15  2.613529e-05         1.54067907      -0.0002987124   -1.55397621      \n",
       "16 -1.350690e-05        -0.80432219       0.0004906589   -5.27514417      \n",
       "17  6.942214e-05        -1.99970667       0.0004750766   -0.39803264      \n",
       "18            NA         5.55874686       0.0005392970   -1.94772449      \n",
       "   zndvi_prcp_Slope zndvi_spei_Intcpt zndvi_spei_Slope\n",
       "1  -0.0031918669    -0.67302059       -1.4337369      \n",
       "2  -0.0023277159    -0.20360003       -0.6563070      \n",
       "3   0.0069627378     0.18856129        1.6487782      \n",
       "4   0.0126031203     4.33773470        4.2406899      \n",
       "5   0.0002978784     0.26351350        0.3043271      \n",
       "6  -0.0032932772    -0.69952413       -1.3889019      \n",
       "7  -0.0023877590    -0.64973248       -1.2016069      \n",
       "8  -0.0042371562    -0.65208773       -1.6170201      \n",
       "9   0.0016787403    -0.54711833        0.1859526      \n",
       "10 -0.0024629986    -0.45149036       -0.9028790      \n",
       "11 -0.0027581804    -0.73814668       -0.9553684      \n",
       "12 -0.0043443119    -0.84780090       -1.9538041      \n",
       "13 -0.0017756512     0.77551880        0.9474892      \n",
       "14 -0.0026696760    -0.73724271       -1.1508272      \n",
       "15 -0.0011133973    -0.41650433       -0.5275043      \n",
       "16  0.0053567267    -0.06981786        3.1202819      \n",
       "17  0.0036627871     1.12075783        1.3404368      \n",
       "18  0.0037721184     0.74022654        1.3858123      "
      ]
     },
     "metadata": {},
     "output_type": "display_data"
    },
    {
     "data": {
      "text/html": [
       "<table>\n",
       "<caption>A tibble: 6 × 24</caption>\n",
       "<thead>\n",
       "\t<tr><th scope=col>stationid</th><th scope=col>neonDomainName</th><th scope=col>MAP</th><th scope=col>MAT</th><th scope=col>spei12mo_trend</th><th scope=col>spei12mo_cv5yr_trend</th><th scope=col>ndvi_prcp_randomIntcpt</th><th scope=col>ndvi_prcp_randomSlope</th><th scope=col>ndvi_prcp_yval_range</th><th scope=col>ndvi_prcp_rmse_raw</th><th scope=col>⋯</th><th scope=col>zndvi_prcp_yval_range</th><th scope=col>zndvi_prcp_rmse_raw</th><th scope=col>zndvi_prcp_rmse_ub</th><th scope=col>zndvi_prcp_nrmse_ub</th><th scope=col>zndvi_spei_randomIntcpt</th><th scope=col>zndvi_spei_randomSlope</th><th scope=col>zndvi_spei_yval_range</th><th scope=col>zndvi_spei_rmse_raw</th><th scope=col>zndvi_spei_rmse_ub</th><th scope=col>zndvi_spei_nrmse_ub</th></tr>\n",
       "\t<tr><th scope=col>&lt;chr&gt;</th><th scope=col>&lt;fct&gt;</th><th scope=col>&lt;dbl&gt;</th><th scope=col>&lt;dbl&gt;</th><th scope=col>&lt;dbl&gt;</th><th scope=col>&lt;dbl&gt;</th><th scope=col>&lt;dbl&gt;</th><th scope=col>&lt;dbl&gt;</th><th scope=col>&lt;dbl&gt;</th><th scope=col>&lt;dbl&gt;</th><th scope=col>⋯</th><th scope=col>&lt;dbl&gt;</th><th scope=col>&lt;dbl&gt;</th><th scope=col>&lt;dbl&gt;</th><th scope=col>&lt;dbl&gt;</th><th scope=col>&lt;dbl&gt;</th><th scope=col>&lt;dbl&gt;</th><th scope=col>&lt;dbl&gt;</th><th scope=col>&lt;dbl&gt;</th><th scope=col>&lt;dbl&gt;</th><th scope=col>&lt;dbl&gt;</th></tr>\n",
       "</thead>\n",
       "<tbody>\n",
       "\t<tr><td>USH00011084</td><td>Southeast     </td><td>1569.225</td><td>19.65286</td><td> 4.948660e-04</td><td>-5.418599e-05</td><td> 1.1559743</td><td>-9.089581e-05</td><td>0.4732629</td><td>0.15345109</td><td>⋯</td><td> 6.882474</td><td>2.3380192</td><td>2.5937994</td><td>0.3768702</td><td>-0.33044909</td><td>-0.7314616</td><td> 6.882474</td><td>2.3079607</td><td>2.5604525</td><td>0.3720250</td></tr>\n",
       "\t<tr><td>USH00012813</td><td>Southeast     </td><td>1690.481</td><td>19.48766</td><td> 2.871429e-04</td><td> 1.828267e-05</td><td>        NA</td><td>           NA</td><td>       NA</td><td>        NA</td><td>⋯</td><td>       NA</td><td>       NA</td><td>       NA</td><td>       NA</td><td>         NA</td><td>        NA</td><td>       NA</td><td>       NA</td><td>       NA</td><td>       NA</td></tr>\n",
       "\t<tr><td>USH00013160</td><td>Ozarks Complex</td><td>1351.556</td><td>17.92505</td><td> 2.030824e-04</td><td>-2.064144e-05</td><td> 1.2743825</td><td>-9.535196e-05</td><td>0.2733839</td><td>0.07719689</td><td>⋯</td><td> 2.350302</td><td>0.6675827</td><td>0.7406166</td><td>0.3151155</td><td>-0.12623431</td><td>-0.2802040</td><td> 2.350302</td><td>0.6884605</td><td>0.7637784</td><td>0.3249703</td></tr>\n",
       "\t<tr><td>USH00013511</td><td>Ozarks Complex</td><td>1193.169</td><td>17.51344</td><td>-5.681463e-06</td><td>-1.147154e-05</td><td> 1.1671858</td><td> 7.796286e-06</td><td>0.3605889</td><td>0.10278267</td><td>⋯</td><td> 3.997653</td><td>1.1726607</td><td>1.3009502</td><td>0.3254285</td><td> 0.06407961</td><td> 0.1394665</td><td> 3.997653</td><td>1.1815563</td><td>1.3108190</td><td>0.3278972</td></tr>\n",
       "\t<tr><td>USH00013816</td><td>Southeast     </td><td>1354.350</td><td>16.84411</td><td> 3.157518e-04</td><td>-3.465651e-06</td><td> 1.2440481</td><td>-6.648993e-05</td><td>0.2420975</td><td>0.05463928</td><td>⋯</td><td> 2.803221</td><td>0.6390333</td><td>0.7089438</td><td>0.2529032</td><td>-0.27383327</td><td>-0.6055618</td><td> 2.803221</td><td>0.8123830</td><td>0.9012580</td><td>0.3215080</td></tr>\n",
       "\t<tr><td>USH00015749</td><td>Ozarks Complex</td><td>1291.244</td><td>16.71458</td><td> 4.272818e-04</td><td> 1.449213e-06</td><td>-0.8854276</td><td> 2.121385e-04</td><td>1.1792346</td><td>0.26481920</td><td>⋯</td><td>10.132092</td><td>2.4058678</td><td>2.6690707</td><td>0.2634274</td><td> 0.36297081</td><td> 0.8047726</td><td>10.132092</td><td>2.1514798</td><td>2.3868526</td><td>0.2355735</td></tr>\n",
       "</tbody>\n",
       "</table>\n"
      ],
      "text/latex": [
       "A tibble: 6 × 24\n",
       "\\begin{tabular}{r|llllllllllllllllllllllll}\n",
       " stationid & neonDomainName & MAP & MAT & spei12mo\\_trend & spei12mo\\_cv5yr\\_trend & ndvi\\_prcp\\_randomIntcpt & ndvi\\_prcp\\_randomSlope & ndvi\\_prcp\\_yval\\_range & ndvi\\_prcp\\_rmse\\_raw & ndvi\\_prcp\\_rmse\\_ub & ndvi\\_prcp\\_nrmse\\_ub & zndvi\\_prcp\\_randomIntcpt & zndvi\\_prcp\\_randomSlope & zndvi\\_prcp\\_yval\\_range & zndvi\\_prcp\\_rmse\\_raw & zndvi\\_prcp\\_rmse\\_ub & zndvi\\_prcp\\_nrmse\\_ub & zndvi\\_spei\\_randomIntcpt & zndvi\\_spei\\_randomSlope & zndvi\\_spei\\_yval\\_range & zndvi\\_spei\\_rmse\\_raw & zndvi\\_spei\\_rmse\\_ub & zndvi\\_spei\\_nrmse\\_ub\\\\\n",
       " <chr> & <fct> & <dbl> & <dbl> & <dbl> & <dbl> & <dbl> & <dbl> & <dbl> & <dbl> & <dbl> & <dbl> & <dbl> & <dbl> & <dbl> & <dbl> & <dbl> & <dbl> & <dbl> & <dbl> & <dbl> & <dbl> & <dbl> & <dbl>\\\\\n",
       "\\hline\n",
       "\t USH00011084 & Southeast      & 1569.225 & 19.65286 &  4.948660e-04 & -5.418599e-05 &  1.1559743 & -9.089581e-05 & 0.4732629 & 0.15345109 & 0.17023870 & 0.3597127 & -5.636374e-05 & -3.176281e-07 &  6.882474 & 2.3380192 & 2.5937994 & 0.3768702 & -0.33044909 & -0.7314616 &  6.882474 & 2.3079607 & 2.5604525 & 0.3720250\\\\\n",
       "\t USH00012813 & Southeast      & 1690.481 & 19.48766 &  2.871429e-04 &  1.828267e-05 &         NA &            NA &        NA &         NA &         NA &        NA &            NA &            NA &        NA &        NA &        NA &        NA &          NA &         NA &        NA &        NA &        NA &        NA\\\\\n",
       "\t USH00013160 & Ozarks Complex & 1351.556 & 17.92505 &  2.030824e-04 & -2.064144e-05 &  1.2743825 & -9.535196e-05 & 0.2733839 & 0.07719689 & 0.08564227 & 0.3132674 & -4.888389e-06 & -4.280411e-08 &  2.350302 & 0.6675827 & 0.7406166 & 0.3151155 & -0.12623431 & -0.2802040 &  2.350302 & 0.6884605 & 0.7637784 & 0.3249703\\\\\n",
       "\t USH00013511 & Ozarks Complex & 1193.169 & 17.51344 & -5.681463e-06 & -1.147154e-05 &  1.1671858 &  7.796286e-06 & 0.3605889 & 0.10278267 & 0.11402713 & 0.3162247 &  6.410453e-06 &  8.032037e-08 &  3.997653 & 1.1726607 & 1.3009502 & 0.3254285 &  0.06407961 &  0.1394665 &  3.997653 & 1.1815563 & 1.3108190 & 0.3278972\\\\\n",
       "\t USH00013816 & Southeast      & 1354.350 & 16.84411 &  3.157518e-04 & -3.465651e-06 &  1.2440481 & -6.648993e-05 & 0.2420975 & 0.05463928 & 0.06061684 & 0.2503820 & -7.274360e-06 & -4.517105e-08 &  2.803221 & 0.6390333 & 0.7089438 & 0.2529032 & -0.27383327 & -0.6055618 &  2.803221 & 0.8123830 & 0.9012580 & 0.3215080\\\\\n",
       "\t USH00015749 & Ozarks Complex & 1291.244 & 16.71458 &  4.272818e-04 &  1.449213e-06 & -0.8854276 &  2.121385e-04 & 1.1792346 & 0.26481920 & 0.29379053 & 0.2491366 & -1.277784e-05 &  7.051171e-08 & 10.132092 & 2.4058678 & 2.6690707 & 0.2634274 &  0.36297081 &  0.8047726 & 10.132092 & 2.1514798 & 2.3868526 & 0.2355735\\\\\n",
       "\\end{tabular}\n"
      ],
      "text/markdown": [
       "\n",
       "A tibble: 6 × 24\n",
       "\n",
       "| stationid &lt;chr&gt; | neonDomainName &lt;fct&gt; | MAP &lt;dbl&gt; | MAT &lt;dbl&gt; | spei12mo_trend &lt;dbl&gt; | spei12mo_cv5yr_trend &lt;dbl&gt; | ndvi_prcp_randomIntcpt &lt;dbl&gt; | ndvi_prcp_randomSlope &lt;dbl&gt; | ndvi_prcp_yval_range &lt;dbl&gt; | ndvi_prcp_rmse_raw &lt;dbl&gt; | ⋯ ⋯ | zndvi_prcp_yval_range &lt;dbl&gt; | zndvi_prcp_rmse_raw &lt;dbl&gt; | zndvi_prcp_rmse_ub &lt;dbl&gt; | zndvi_prcp_nrmse_ub &lt;dbl&gt; | zndvi_spei_randomIntcpt &lt;dbl&gt; | zndvi_spei_randomSlope &lt;dbl&gt; | zndvi_spei_yval_range &lt;dbl&gt; | zndvi_spei_rmse_raw &lt;dbl&gt; | zndvi_spei_rmse_ub &lt;dbl&gt; | zndvi_spei_nrmse_ub &lt;dbl&gt; |\n",
       "|---|---|---|---|---|---|---|---|---|---|---|---|---|---|---|---|---|---|---|---|---|\n",
       "| USH00011084 | Southeast      | 1569.225 | 19.65286 |  4.948660e-04 | -5.418599e-05 |  1.1559743 | -9.089581e-05 | 0.4732629 | 0.15345109 | ⋯ |  6.882474 | 2.3380192 | 2.5937994 | 0.3768702 | -0.33044909 | -0.7314616 |  6.882474 | 2.3079607 | 2.5604525 | 0.3720250 |\n",
       "| USH00012813 | Southeast      | 1690.481 | 19.48766 |  2.871429e-04 |  1.828267e-05 |         NA |            NA |        NA |         NA | ⋯ |        NA |        NA |        NA |        NA |          NA |         NA |        NA |        NA |        NA |        NA |\n",
       "| USH00013160 | Ozarks Complex | 1351.556 | 17.92505 |  2.030824e-04 | -2.064144e-05 |  1.2743825 | -9.535196e-05 | 0.2733839 | 0.07719689 | ⋯ |  2.350302 | 0.6675827 | 0.7406166 | 0.3151155 | -0.12623431 | -0.2802040 |  2.350302 | 0.6884605 | 0.7637784 | 0.3249703 |\n",
       "| USH00013511 | Ozarks Complex | 1193.169 | 17.51344 | -5.681463e-06 | -1.147154e-05 |  1.1671858 |  7.796286e-06 | 0.3605889 | 0.10278267 | ⋯ |  3.997653 | 1.1726607 | 1.3009502 | 0.3254285 |  0.06407961 |  0.1394665 |  3.997653 | 1.1815563 | 1.3108190 | 0.3278972 |\n",
       "| USH00013816 | Southeast      | 1354.350 | 16.84411 |  3.157518e-04 | -3.465651e-06 |  1.2440481 | -6.648993e-05 | 0.2420975 | 0.05463928 | ⋯ |  2.803221 | 0.6390333 | 0.7089438 | 0.2529032 | -0.27383327 | -0.6055618 |  2.803221 | 0.8123830 | 0.9012580 | 0.3215080 |\n",
       "| USH00015749 | Ozarks Complex | 1291.244 | 16.71458 |  4.272818e-04 |  1.449213e-06 | -0.8854276 |  2.121385e-04 | 1.1792346 | 0.26481920 | ⋯ | 10.132092 | 2.4058678 | 2.6690707 | 0.2634274 |  0.36297081 |  0.8047726 | 10.132092 | 2.1514798 | 2.3868526 | 0.2355735 |\n",
       "\n"
      ],
      "text/plain": [
       "  stationid   neonDomainName MAP      MAT      spei12mo_trend\n",
       "1 USH00011084 Southeast      1569.225 19.65286  4.948660e-04 \n",
       "2 USH00012813 Southeast      1690.481 19.48766  2.871429e-04 \n",
       "3 USH00013160 Ozarks Complex 1351.556 17.92505  2.030824e-04 \n",
       "4 USH00013511 Ozarks Complex 1193.169 17.51344 -5.681463e-06 \n",
       "5 USH00013816 Southeast      1354.350 16.84411  3.157518e-04 \n",
       "6 USH00015749 Ozarks Complex 1291.244 16.71458  4.272818e-04 \n",
       "  spei12mo_cv5yr_trend ndvi_prcp_randomIntcpt ndvi_prcp_randomSlope\n",
       "1 -5.418599e-05         1.1559743             -9.089581e-05        \n",
       "2  1.828267e-05                NA                        NA        \n",
       "3 -2.064144e-05         1.2743825             -9.535196e-05        \n",
       "4 -1.147154e-05         1.1671858              7.796286e-06        \n",
       "5 -3.465651e-06         1.2440481             -6.648993e-05        \n",
       "6  1.449213e-06        -0.8854276              2.121385e-04        \n",
       "  ndvi_prcp_yval_range ndvi_prcp_rmse_raw ⋯ zndvi_prcp_yval_range\n",
       "1 0.4732629            0.15345109         ⋯  6.882474            \n",
       "2        NA                    NA         ⋯        NA            \n",
       "3 0.2733839            0.07719689         ⋯  2.350302            \n",
       "4 0.3605889            0.10278267         ⋯  3.997653            \n",
       "5 0.2420975            0.05463928         ⋯  2.803221            \n",
       "6 1.1792346            0.26481920         ⋯ 10.132092            \n",
       "  zndvi_prcp_rmse_raw zndvi_prcp_rmse_ub zndvi_prcp_nrmse_ub\n",
       "1 2.3380192           2.5937994          0.3768702          \n",
       "2        NA                  NA                 NA          \n",
       "3 0.6675827           0.7406166          0.3151155          \n",
       "4 1.1726607           1.3009502          0.3254285          \n",
       "5 0.6390333           0.7089438          0.2529032          \n",
       "6 2.4058678           2.6690707          0.2634274          \n",
       "  zndvi_spei_randomIntcpt zndvi_spei_randomSlope zndvi_spei_yval_range\n",
       "1 -0.33044909             -0.7314616              6.882474            \n",
       "2          NA                     NA                    NA            \n",
       "3 -0.12623431             -0.2802040              2.350302            \n",
       "4  0.06407961              0.1394665              3.997653            \n",
       "5 -0.27383327             -0.6055618              2.803221            \n",
       "6  0.36297081              0.8047726             10.132092            \n",
       "  zndvi_spei_rmse_raw zndvi_spei_rmse_ub zndvi_spei_nrmse_ub\n",
       "1 2.3079607           2.5604525          0.3720250          \n",
       "2        NA                  NA                 NA          \n",
       "3 0.6884605           0.7637784          0.3249703          \n",
       "4 1.1815563           1.3108190          0.3278972          \n",
       "5 0.8123830           0.9012580          0.3215080          \n",
       "6 2.1514798           2.3868526          0.2355735          "
      ]
     },
     "metadata": {},
     "output_type": "display_data"
    }
   ],
   "source": [
    "#Join together 16yr domain stats, fixed and domain random effects for the 3 models\n",
    "fe_dom_re <- list(gb_dom, ndviprcp_fe, zndviprcp_fe, zndvispei_fe) %>%\n",
    "        Reduce(function(df1,df2) full_join(df1,df2,by=\"neonDomainName\"), .)\n",
    "#Join together 16yr station stats, and station random effects for the 3 models\n",
    "sta_re <- list(gb_sta, ndviprcp_re, zndviprcp_re, zndvispei_re) %>%\n",
    "        Reduce(function(df1,df2) left_join(df1,df2,by=\"stationid\"), .)\n",
    "\n",
    "\n",
    "fe_dom_re\n",
    "head(sta_re)               "
   ]
  },
  {
   "cell_type": "code",
   "execution_count": 20,
   "metadata": {},
   "outputs": [
    {
     "data": {
      "text/html": [
       "<ol class=list-inline>\n",
       "\t<li>0.0945157113948669</li>\n",
       "\t<li>0.187147566768354</li>\n",
       "\t<li>1.41232749220767</li>\n",
       "\t<li>1.45635260422069</li>\n",
       "\t<li>0.776943425189</li>\n",
       "\t<li>0.107965099001991</li>\n",
       "\t<li>0.163576452639423</li>\n",
       "\t<li>-0.0943846985316036</li>\n",
       "\t<li>1.34675589290476</li>\n",
       "\t<li>0.705149263478941</li>\n",
       "\t<li>0.14453118176819</li>\n",
       "\t<li>-0.0855007703993316</li>\n",
       "\t<li>0.380883057795146</li>\n",
       "\t<li>0.286872101083965</li>\n",
       "\t<li>0.240584607246715</li>\n",
       "\t<li>1.02995585099341</li>\n",
       "\t<li>1.01437359933948</li>\n",
       "</ol>\n"
      ],
      "text/latex": [
       "\\begin{enumerate*}\n",
       "\\item 0.0945157113948669\n",
       "\\item 0.187147566768354\n",
       "\\item 1.41232749220767\n",
       "\\item 1.45635260422069\n",
       "\\item 0.776943425189\n",
       "\\item 0.107965099001991\n",
       "\\item 0.163576452639423\n",
       "\\item -0.0943846985316036\n",
       "\\item 1.34675589290476\n",
       "\\item 0.705149263478941\n",
       "\\item 0.14453118176819\n",
       "\\item -0.0855007703993316\n",
       "\\item 0.380883057795146\n",
       "\\item 0.286872101083965\n",
       "\\item 0.240584607246715\n",
       "\\item 1.02995585099341\n",
       "\\item 1.01437359933948\n",
       "\\end{enumerate*}\n"
      ],
      "text/markdown": [
       "1. 0.0945157113948669\n",
       "2. 0.187147566768354\n",
       "3. 1.41232749220767\n",
       "4. 1.45635260422069\n",
       "5. 0.776943425189\n",
       "6. 0.107965099001991\n",
       "7. 0.163576452639423\n",
       "8. -0.0943846985316036\n",
       "9. 1.34675589290476\n",
       "10. 0.705149263478941\n",
       "11. 0.14453118176819\n",
       "12. -0.0855007703993316\n",
       "13. 0.380883057795146\n",
       "14. 0.286872101083965\n",
       "15. 0.240584607246715\n",
       "16. 1.02995585099341\n",
       "17. 1.01437359933948\n",
       "\n",
       "\n"
      ],
      "text/plain": [
       " [1]  0.09451571  0.18714757  1.41232749  1.45635260  0.77694343  0.10796510\n",
       " [7]  0.16357645 -0.09438470  1.34675589  0.70514926  0.14453118 -0.08550077\n",
       "[13]  0.38088306  0.28687210  0.24058461  1.02995585  1.01437360"
      ]
     },
     "metadata": {},
     "output_type": "display_data"
    }
   ],
   "source": [
    "# How we calculate a sensitivity by domain\n",
    "# 1. Add fixed effect (row 18) to the domain slopes\n",
    "# 2. Multiply by 1000, making the units \"NDVI change per meter precip change\"\n",
    "# This is what will appear on plots\n",
    "(fe_dom_re$ndvi_prcp_Slope[0:17] + fe_dom_re$ndvi_prcp_Slope[18]) * 1000"
   ]
  },
  {
   "cell_type": "code",
   "execution_count": 21,
   "metadata": {},
   "outputs": [],
   "source": [
    "# Add fixed effects and domain (random) to stationid random effects\n",
    "station_fe_re <- sta_re\n",
    "for (d in unique(sta_re$neonDomainName)){\n",
    "    # Get fixed and random effect for ndvi~precip\n",
    "    fe <- fe_dom_re[fe_dom_re$neonDomainName=='FixedEffects','ndvi_prcp_Slope'][[1]]\n",
    "    re <- fe_dom_re[fe_dom_re$neonDomainName==d,'ndvi_prcp_Slope'][[1]]\n",
    "    # Add to random effects of stations in domain d\n",
    "    staix <- station_fe_re$neonDomainName==d\n",
    "    station_fe_re$ndvi_prcp_randomSlope[staix] <- station_fe_re$ndvi_prcp_randomSlope[staix] + fe + re\n",
    "    \n",
    "    # Get fixed and random effect for zndvi~precip\n",
    "    fe <- fe_dom_re[fe_dom_re$neonDomainName=='FixedEffects','zndvi_prcp_Slope'][[1]]\n",
    "    re <- fe_dom_re[fe_dom_re$neonDomainName==d,'zndvi_prcp_Slope'][[1]]\n",
    "    # Add to random effects of stations in domain d\n",
    "    station_fe_re$zndvi_prcp_randomSlope[staix] <- station_fe_re$zndvi_prcp_randomSlope[staix] + fe + re\n",
    "    \n",
    "    # Get fixed and random effect for zndvi~spei\n",
    "    fe <- fe_dom_re[fe_dom_re$neonDomainName=='FixedEffects','zndvi_spei_Slope'][[1]]\n",
    "    re <- fe_dom_re[fe_dom_re$neonDomainName==d,'zndvi_spei_Slope'][[1]]\n",
    "    # Add to random effects of stations in domain d\n",
    "    station_fe_re$zndvi_spei_randomSlope[staix] <- station_fe_re$zndvi_spei_randomSlope[staix] + fe + re\n",
    "}"
   ]
  },
  {
   "cell_type": "code",
   "execution_count": 22,
   "metadata": {},
   "outputs": [
    {
     "name": "stdout",
     "output_type": "stream",
     "text": [
      "[1] \"46 missing slopes\"\n",
      "[1] \"1162 good slopes\"\n"
     ]
    }
   ],
   "source": [
    "# How many missing slopes are there?\n",
    "print(paste(sum(is.na(station_fe_re$ndvi_prcp_randomSlope)),\n",
    "            'missing slopes'))\n",
    "print(paste(dim(station_fe_re)[1] - sum(is.na(station_fe_re$ndvi_prcp_randomSlope)),\n",
    "            'good slopes'))"
   ]
  },
  {
   "cell_type": "code",
   "execution_count": 23,
   "metadata": {},
   "outputs": [
    {
     "data": {
      "text/html": [
       "<table>\n",
       "<caption>A tibble: 17 × 5</caption>\n",
       "<thead>\n",
       "\t<tr><th scope=col>neonDomainName</th><th scope=col>MAPdom</th><th scope=col>MATdom</th><th scope=col>spei12mo_trend_all</th><th scope=col>spei12mo_cv5yr_trend_all</th></tr>\n",
       "\t<tr><th scope=col>&lt;fct&gt;</th><th scope=col>&lt;dbl&gt;</th><th scope=col>&lt;dbl&gt;</th><th scope=col>&lt;dbl&gt;</th><th scope=col>&lt;dbl&gt;</th></tr>\n",
       "</thead>\n",
       "<tbody>\n",
       "\t<tr><td>Appalachians / Cumberland Plateau  </td><td>1169.2229</td><td>12.564964</td><td> 2.643023e-04</td><td>-2.199088e-05</td></tr>\n",
       "\t<tr><td>Atlantic Neotropical               </td><td>1491.3328</td><td>23.380670</td><td>-4.803523e-04</td><td> 2.114857e-05</td></tr>\n",
       "\t<tr><td>Central Plains                     </td><td> 494.1643</td><td>11.554669</td><td>-9.058289e-05</td><td> 2.109136e-05</td></tr>\n",
       "\t<tr><td>Desert Southwest                   </td><td> 245.7367</td><td>18.052197</td><td>-8.690439e-04</td><td> 1.473590e-04</td></tr>\n",
       "\t<tr><td>Great Basin                        </td><td> 320.9593</td><td> 8.297809</td><td>-3.250286e-04</td><td> 6.755575e-05</td></tr>\n",
       "\t<tr><td>Great Lakes                        </td><td> 816.6060</td><td> 6.732131</td><td> 1.860428e-04</td><td>-2.004108e-05</td></tr>\n",
       "\t<tr><td>Mid Atlantic                       </td><td>1140.3229</td><td>14.047997</td><td>-6.463262e-05</td><td> 4.630339e-05</td></tr>\n",
       "\t<tr><td>Northeast                          </td><td>1035.8177</td><td> 7.976203</td><td> 2.148902e-04</td><td>-5.628789e-06</td></tr>\n",
       "\t<tr><td>Northern Plains                    </td><td> 438.3639</td><td> 6.080188</td><td>-9.386881e-06</td><td> 2.440232e-05</td></tr>\n",
       "\t<tr><td>Northern Rockies                   </td><td> 444.7923</td><td> 5.451894</td><td>-1.150180e-04</td><td> 3.148174e-05</td></tr>\n",
       "\t<tr><td>Ozarks Complex                     </td><td>1241.8157</td><td>16.027917</td><td> 3.291694e-04</td><td>-2.051841e-05</td></tr>\n",
       "\t<tr><td>Pacific Northwest                  </td><td>1284.8193</td><td>10.133432</td><td>-1.324791e-04</td><td> 5.012798e-05</td></tr>\n",
       "\t<tr><td>Pacific Southwest                  </td><td> 593.5586</td><td>14.895990</td><td>-3.918002e-04</td><td> 1.148740e-04</td></tr>\n",
       "\t<tr><td>Prairie Peninsula                  </td><td> 867.3632</td><td> 9.846355</td><td> 3.127843e-04</td><td>-2.169202e-05</td></tr>\n",
       "\t<tr><td>Southeast                          </td><td>1368.2617</td><td>19.400804</td><td> 3.097272e-05</td><td> 2.635474e-05</td></tr>\n",
       "\t<tr><td>Southern Plains                    </td><td> 753.6716</td><td>17.735482</td><td> 2.538487e-04</td><td>-1.371123e-05</td></tr>\n",
       "\t<tr><td>Southern Rockies / Colorado Plateau</td><td> 328.9915</td><td> 9.130984</td><td>-3.729724e-04</td><td> 6.821599e-05</td></tr>\n",
       "</tbody>\n",
       "</table>\n"
      ],
      "text/latex": [
       "A tibble: 17 × 5\n",
       "\\begin{tabular}{r|lllll}\n",
       " neonDomainName & MAPdom & MATdom & spei12mo\\_trend\\_all & spei12mo\\_cv5yr\\_trend\\_all\\\\\n",
       " <fct> & <dbl> & <dbl> & <dbl> & <dbl>\\\\\n",
       "\\hline\n",
       "\t Appalachians / Cumberland Plateau   & 1169.2229 & 12.564964 &  2.643023e-04 & -2.199088e-05\\\\\n",
       "\t Atlantic Neotropical                & 1491.3328 & 23.380670 & -4.803523e-04 &  2.114857e-05\\\\\n",
       "\t Central Plains                      &  494.1643 & 11.554669 & -9.058289e-05 &  2.109136e-05\\\\\n",
       "\t Desert Southwest                    &  245.7367 & 18.052197 & -8.690439e-04 &  1.473590e-04\\\\\n",
       "\t Great Basin                         &  320.9593 &  8.297809 & -3.250286e-04 &  6.755575e-05\\\\\n",
       "\t Great Lakes                         &  816.6060 &  6.732131 &  1.860428e-04 & -2.004108e-05\\\\\n",
       "\t Mid Atlantic                        & 1140.3229 & 14.047997 & -6.463262e-05 &  4.630339e-05\\\\\n",
       "\t Northeast                           & 1035.8177 &  7.976203 &  2.148902e-04 & -5.628789e-06\\\\\n",
       "\t Northern Plains                     &  438.3639 &  6.080188 & -9.386881e-06 &  2.440232e-05\\\\\n",
       "\t Northern Rockies                    &  444.7923 &  5.451894 & -1.150180e-04 &  3.148174e-05\\\\\n",
       "\t Ozarks Complex                      & 1241.8157 & 16.027917 &  3.291694e-04 & -2.051841e-05\\\\\n",
       "\t Pacific Northwest                   & 1284.8193 & 10.133432 & -1.324791e-04 &  5.012798e-05\\\\\n",
       "\t Pacific Southwest                   &  593.5586 & 14.895990 & -3.918002e-04 &  1.148740e-04\\\\\n",
       "\t Prairie Peninsula                   &  867.3632 &  9.846355 &  3.127843e-04 & -2.169202e-05\\\\\n",
       "\t Southeast                           & 1368.2617 & 19.400804 &  3.097272e-05 &  2.635474e-05\\\\\n",
       "\t Southern Plains                     &  753.6716 & 17.735482 &  2.538487e-04 & -1.371123e-05\\\\\n",
       "\t Southern Rockies / Colorado Plateau &  328.9915 &  9.130984 & -3.729724e-04 &  6.821599e-05\\\\\n",
       "\\end{tabular}\n"
      ],
      "text/markdown": [
       "\n",
       "A tibble: 17 × 5\n",
       "\n",
       "| neonDomainName &lt;fct&gt; | MAPdom &lt;dbl&gt; | MATdom &lt;dbl&gt; | spei12mo_trend_all &lt;dbl&gt; | spei12mo_cv5yr_trend_all &lt;dbl&gt; |\n",
       "|---|---|---|---|---|\n",
       "| Appalachians / Cumberland Plateau   | 1169.2229 | 12.564964 |  2.643023e-04 | -2.199088e-05 |\n",
       "| Atlantic Neotropical                | 1491.3328 | 23.380670 | -4.803523e-04 |  2.114857e-05 |\n",
       "| Central Plains                      |  494.1643 | 11.554669 | -9.058289e-05 |  2.109136e-05 |\n",
       "| Desert Southwest                    |  245.7367 | 18.052197 | -8.690439e-04 |  1.473590e-04 |\n",
       "| Great Basin                         |  320.9593 |  8.297809 | -3.250286e-04 |  6.755575e-05 |\n",
       "| Great Lakes                         |  816.6060 |  6.732131 |  1.860428e-04 | -2.004108e-05 |\n",
       "| Mid Atlantic                        | 1140.3229 | 14.047997 | -6.463262e-05 |  4.630339e-05 |\n",
       "| Northeast                           | 1035.8177 |  7.976203 |  2.148902e-04 | -5.628789e-06 |\n",
       "| Northern Plains                     |  438.3639 |  6.080188 | -9.386881e-06 |  2.440232e-05 |\n",
       "| Northern Rockies                    |  444.7923 |  5.451894 | -1.150180e-04 |  3.148174e-05 |\n",
       "| Ozarks Complex                      | 1241.8157 | 16.027917 |  3.291694e-04 | -2.051841e-05 |\n",
       "| Pacific Northwest                   | 1284.8193 | 10.133432 | -1.324791e-04 |  5.012798e-05 |\n",
       "| Pacific Southwest                   |  593.5586 | 14.895990 | -3.918002e-04 |  1.148740e-04 |\n",
       "| Prairie Peninsula                   |  867.3632 |  9.846355 |  3.127843e-04 | -2.169202e-05 |\n",
       "| Southeast                           | 1368.2617 | 19.400804 |  3.097272e-05 |  2.635474e-05 |\n",
       "| Southern Plains                     |  753.6716 | 17.735482 |  2.538487e-04 | -1.371123e-05 |\n",
       "| Southern Rockies / Colorado Plateau |  328.9915 |  9.130984 | -3.729724e-04 |  6.821599e-05 |\n",
       "\n"
      ],
      "text/plain": [
       "   neonDomainName                      MAPdom    MATdom    spei12mo_trend_all\n",
       "1  Appalachians / Cumberland Plateau   1169.2229 12.564964  2.643023e-04     \n",
       "2  Atlantic Neotropical                1491.3328 23.380670 -4.803523e-04     \n",
       "3  Central Plains                       494.1643 11.554669 -9.058289e-05     \n",
       "4  Desert Southwest                     245.7367 18.052197 -8.690439e-04     \n",
       "5  Great Basin                          320.9593  8.297809 -3.250286e-04     \n",
       "6  Great Lakes                          816.6060  6.732131  1.860428e-04     \n",
       "7  Mid Atlantic                        1140.3229 14.047997 -6.463262e-05     \n",
       "8  Northeast                           1035.8177  7.976203  2.148902e-04     \n",
       "9  Northern Plains                      438.3639  6.080188 -9.386881e-06     \n",
       "10 Northern Rockies                     444.7923  5.451894 -1.150180e-04     \n",
       "11 Ozarks Complex                      1241.8157 16.027917  3.291694e-04     \n",
       "12 Pacific Northwest                   1284.8193 10.133432 -1.324791e-04     \n",
       "13 Pacific Southwest                    593.5586 14.895990 -3.918002e-04     \n",
       "14 Prairie Peninsula                    867.3632  9.846355  3.127843e-04     \n",
       "15 Southeast                           1368.2617 19.400804  3.097272e-05     \n",
       "16 Southern Plains                      753.6716 17.735482  2.538487e-04     \n",
       "17 Southern Rockies / Colorado Plateau  328.9915  9.130984 -3.729724e-04     \n",
       "   spei12mo_cv5yr_trend_all\n",
       "1  -2.199088e-05           \n",
       "2   2.114857e-05           \n",
       "3   2.109136e-05           \n",
       "4   1.473590e-04           \n",
       "5   6.755575e-05           \n",
       "6  -2.004108e-05           \n",
       "7   4.630339e-05           \n",
       "8  -5.628789e-06           \n",
       "9   2.440232e-05           \n",
       "10  3.148174e-05           \n",
       "11 -2.051841e-05           \n",
       "12  5.012798e-05           \n",
       "13  1.148740e-04           \n",
       "14 -2.169202e-05           \n",
       "15  2.635474e-05           \n",
       "16 -1.371123e-05           \n",
       "17  6.821599e-05           "
      ]
     },
     "metadata": {},
     "output_type": "display_data"
    },
    {
     "data": {
      "text/html": [
       "<table>\n",
       "<caption>A tibble: 6 × 5</caption>\n",
       "<thead>\n",
       "\t<tr><th scope=col>stationid</th><th scope=col>MAPsta</th><th scope=col>MATsta</th><th scope=col>spei12mo_trend_all</th><th scope=col>spei12mo_cv5yr_trend_all</th></tr>\n",
       "\t<tr><th scope=col>&lt;chr&gt;</th><th scope=col>&lt;dbl&gt;</th><th scope=col>&lt;dbl&gt;</th><th scope=col>&lt;dbl&gt;</th><th scope=col>&lt;dbl&gt;</th></tr>\n",
       "</thead>\n",
       "<tbody>\n",
       "\t<tr><td>USH00011084</td><td>1573.777</td><td>19.79029</td><td> 4.948660e-04</td><td>-5.418599e-05</td></tr>\n",
       "\t<tr><td>USH00012813</td><td>1648.008</td><td>19.23061</td><td> 2.871429e-04</td><td> 1.828267e-05</td></tr>\n",
       "\t<tr><td>USH00013160</td><td>1386.659</td><td>17.73815</td><td> 2.030824e-04</td><td>-2.064144e-05</td></tr>\n",
       "\t<tr><td>USH00013511</td><td>1322.446</td><td>16.96937</td><td>-5.681463e-06</td><td>-1.147154e-05</td></tr>\n",
       "\t<tr><td>USH00013816</td><td>1357.113</td><td>16.82745</td><td> 3.157518e-04</td><td>-3.465651e-06</td></tr>\n",
       "\t<tr><td>USH00015749</td><td>1263.635</td><td>16.07114</td><td> 4.272818e-04</td><td> 1.449213e-06</td></tr>\n",
       "</tbody>\n",
       "</table>\n"
      ],
      "text/latex": [
       "A tibble: 6 × 5\n",
       "\\begin{tabular}{r|lllll}\n",
       " stationid & MAPsta & MATsta & spei12mo\\_trend\\_all & spei12mo\\_cv5yr\\_trend\\_all\\\\\n",
       " <chr> & <dbl> & <dbl> & <dbl> & <dbl>\\\\\n",
       "\\hline\n",
       "\t USH00011084 & 1573.777 & 19.79029 &  4.948660e-04 & -5.418599e-05\\\\\n",
       "\t USH00012813 & 1648.008 & 19.23061 &  2.871429e-04 &  1.828267e-05\\\\\n",
       "\t USH00013160 & 1386.659 & 17.73815 &  2.030824e-04 & -2.064144e-05\\\\\n",
       "\t USH00013511 & 1322.446 & 16.96937 & -5.681463e-06 & -1.147154e-05\\\\\n",
       "\t USH00013816 & 1357.113 & 16.82745 &  3.157518e-04 & -3.465651e-06\\\\\n",
       "\t USH00015749 & 1263.635 & 16.07114 &  4.272818e-04 &  1.449213e-06\\\\\n",
       "\\end{tabular}\n"
      ],
      "text/markdown": [
       "\n",
       "A tibble: 6 × 5\n",
       "\n",
       "| stationid &lt;chr&gt; | MAPsta &lt;dbl&gt; | MATsta &lt;dbl&gt; | spei12mo_trend_all &lt;dbl&gt; | spei12mo_cv5yr_trend_all &lt;dbl&gt; |\n",
       "|---|---|---|---|---|\n",
       "| USH00011084 | 1573.777 | 19.79029 |  4.948660e-04 | -5.418599e-05 |\n",
       "| USH00012813 | 1648.008 | 19.23061 |  2.871429e-04 |  1.828267e-05 |\n",
       "| USH00013160 | 1386.659 | 17.73815 |  2.030824e-04 | -2.064144e-05 |\n",
       "| USH00013511 | 1322.446 | 16.96937 | -5.681463e-06 | -1.147154e-05 |\n",
       "| USH00013816 | 1357.113 | 16.82745 |  3.157518e-04 | -3.465651e-06 |\n",
       "| USH00015749 | 1263.635 | 16.07114 |  4.272818e-04 |  1.449213e-06 |\n",
       "\n"
      ],
      "text/plain": [
       "  stationid   MAPsta   MATsta   spei12mo_trend_all spei12mo_cv5yr_trend_all\n",
       "1 USH00011084 1573.777 19.79029  4.948660e-04      -5.418599e-05           \n",
       "2 USH00012813 1648.008 19.23061  2.871429e-04       1.828267e-05           \n",
       "3 USH00013160 1386.659 17.73815  2.030824e-04      -2.064144e-05           \n",
       "4 USH00013511 1322.446 16.96937 -5.681463e-06      -1.147154e-05           \n",
       "5 USH00013816 1357.113 16.82745  3.157518e-04      -3.465651e-06           \n",
       "6 USH00015749 1263.635 16.07114  4.272818e-04       1.449213e-06           "
      ]
     },
     "metadata": {},
     "output_type": "display_data"
    }
   ],
   "source": [
    "# Calculate mean annual precipitation, T, and spei slopes for \n",
    "# ALL years (full century, by station and domain)\n",
    "dom_map <- df2 %>% group_by(neonDomainName) %>% summarise(MAPdom=mean(prcp_sum),\n",
    "                                                          MATdom=mean(tavg_mean),\n",
    "                                                          spei12mo_trend_all=mean(spei12mo_trend),\n",
    "                                                          spei12mo_cv5yr_trend_all=mean(spei12mo_cv5yr_trend))\n",
    "dom_map\n",
    "sta_map <- df2 %>% group_by(stationid) %>% summarise(MAPsta=mean(prcp_sum),\n",
    "                                                          MATsta=mean(tavg_mean),\n",
    "                                                          spei12mo_trend_all=mean(spei12mo_trend),\n",
    "                                                          spei12mo_cv5yr_trend_all=mean(spei12mo_cv5yr_trend))\n",
    "head(sta_map)"
   ]
  },
  {
   "cell_type": "code",
   "execution_count": 24,
   "metadata": {},
   "outputs": [],
   "source": [
    "# Add domain MAPdom and reorder the neonDomainName factor using it\n",
    "station_fe_re <- merge(station_fe_re, dom_map, by='neonDomainName', all=TRUE)\n",
    "station_fe_re <- transform(station_fe_re, neonDomainName=reorder(neonDomainName, MAPdom))\n",
    "# Remove the domain MAPall\n",
    "#station_fe_re$MAPall <- NULL\n",
    "# Add station MAP\n",
    "station_fe_re <- merge(station_fe_re, sta_map, by='stationid', all=TRUE)\n",
    "\n",
    "# Same for fe_dom_re (just use domain MAP though)\n",
    "fe_dom_re <- merge(fe_dom_re, dom_map, by='neonDomainName', all=TRUE)\n",
    "fe_dom_re <- transform(fe_dom_re, neonDomainName=reorder(neonDomainName, MAPdom))\n",
    "\n",
    "# Export fixed effects and domain_random\n",
    "write_csv(fe_dom_re, paste0(dn_path, 'sensitivity_analysis/fixed_randomDomain_effects.csv'))\n",
    "write_csv(station_fe_re, paste0(dn_path, 'sensitivity_analysis/randomStation_summedeffects.csv'))"
   ]
  }
 ],
 "metadata": {
  "kernelspec": {
   "display_name": "R",
   "language": "R",
   "name": "ir"
  },
  "language_info": {
   "codemirror_mode": "r",
   "file_extension": ".r",
   "mimetype": "text/x-r-source",
   "name": "R",
   "pygments_lexer": "r",
   "version": "3.6.1"
  }
 },
 "nbformat": 4,
 "nbformat_minor": 4
}
