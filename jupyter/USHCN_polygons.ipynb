{
 "cells": [
  {
   "cell_type": "markdown",
   "metadata": {},
   "source": [
    "## Get 10km square polygons around ushcn sites\n",
    "\n",
    "loosely based on this method: https://www.neonscience.org/field-data-polygons-centroids"
   ]
  },
  {
   "cell_type": "code",
   "execution_count": 1,
   "metadata": {},
   "outputs": [
    {
     "name": "stderr",
     "output_type": "stream",
     "text": [
      "rgdal: version: 1.4-7, (SVN revision 845)\n",
      " Geospatial Data Abstraction Library extensions to R successfully loaded\n",
      " Loaded GDAL runtime: GDAL 2.4.3, released 2019/10/28\n",
      " Path to GDAL shared files: /usr/share/gdal\n",
      " GDAL binary built with GEOS: TRUE \n",
      " Loaded PROJ.4 runtime: Rel. 6.2.1, November 1st, 2019, [PJ_VERSION: 620]\n",
      " Path to PROJ.4 shared files: (autodetected)\n",
      " Linking to sp version: 1.3-1 \n"
     ]
    }
   ],
   "source": [
    "library(readr)\n",
    "library(sp)\n",
    "library(rgdal)"
   ]
  },
  {
   "cell_type": "code",
   "execution_count": 2,
   "metadata": {},
   "outputs": [
    {
     "name": "stderr",
     "output_type": "stream",
     "text": [
      "\n",
      "Attaching package: ‘dplyr’\n",
      "\n",
      "The following objects are masked from ‘package:stats’:\n",
      "\n",
      "    filter, lag\n",
      "\n",
      "The following objects are masked from ‘package:base’:\n",
      "\n",
      "    intersect, setdiff, setequal, union\n",
      "\n"
     ]
    },
    {
     "name": "stdout",
     "output_type": "stream",
     "text": [
      "OGR data source with driver: ESRI Shapefile \n",
      "Source: \"/home/greg/data/GD_gregmaurer/droughtnet_precipsens_data/NEONdomains\", layer: \"NEON_Domains\"\n",
      "with 22 features\n",
      "It has 6 fields\n"
     ]
    },
    {
     "name": "stderr",
     "output_type": "stream",
     "text": [
      "Regions defined for each Polygons\n"
     ]
    }
   ],
   "source": [
    "source('common_stats_functions.r')"
   ]
  },
  {
   "cell_type": "code",
   "execution_count": 3,
   "metadata": {},
   "outputs": [
    {
     "name": "stderr",
     "output_type": "stream",
     "text": [
      "Parsed with column specification:\n",
      "cols(\n",
      "  .default = col_double(),\n",
      "  stationid = \u001b[31mcol_character()\u001b[39m,\n",
      "  elev = \u001b[31mcol_character()\u001b[39m,\n",
      "  state = \u001b[31mcol_character()\u001b[39m,\n",
      "  name = \u001b[31mcol_character()\u001b[39m,\n",
      "  flag1 = \u001b[31mcol_character()\u001b[39m,\n",
      "  flag2 = \u001b[31mcol_character()\u001b[39m,\n",
      "  flag3 = \u001b[31mcol_character()\u001b[39m\n",
      ")\n",
      "See spec(...) for full column specifications.\n"
     ]
    }
   ],
   "source": [
    "setwd(paste0(dn_path, 'USHCN_derived/'))\n",
    "ushcn_data <- read_csv('allyr_ushcn_calcs_allstations.csv')"
   ]
  },
  {
   "cell_type": "code",
   "execution_count": 5,
   "metadata": {},
   "outputs": [],
   "source": [
    "# translated to R from this SO answer: https://stackoverflow.com/a/238558M\n",
    "\n",
    "# degrees to radians\n",
    "deg2rad <- function(degrees){\n",
    "    return(pi*degrees/180.0)\n",
    "}\n",
    "# radians to degrees\n",
    "rad2deg <- function(radians){\n",
    "    return(180.0*radians/pi)\n",
    "    }\n",
    "\n",
    "# Semi-axes of WGS-84 geoidal reference\n",
    "WGS84_a <- 6378137.0  # Major semiaxis [m]\n",
    "WGS84_b <- 6356752.3  # Minor semiaxis [m]\n",
    "\n",
    "# Earth radius at a given latitude, according to the WGS-84 ellipsoid [m]\n",
    "WGS84EarthRadius <- function(lat){\n",
    "    # http://en.wikipedia.org/wiki/Earth_radius\n",
    "    An <- WGS84_a*WGS84_a * cos(lat)\n",
    "    Bn <- WGS84_b*WGS84_b * sin(lat)\n",
    "    Ad <- WGS84_a * cos(lat)\n",
    "    Bd <- WGS84_b * sin(lat)\n",
    "    return(sqrt( (An*An + Bn*Bn)/(Ad*Ad + Bd*Bd) ))\n",
    "    }\n",
    "\n",
    "# Bounding box surrounding the point at given coordinates,\n",
    "# assuming local approximation of Earth surface as a sphere\n",
    "# of radius given by WGS84\n",
    "boundingBox <- function(latitudeInDegrees, longitudeInDegrees, halfSideInKm){\n",
    "    lat <- deg2rad(latitudeInDegrees)\n",
    "    lon <- deg2rad(longitudeInDegrees)\n",
    "    halfSide <- 1000*halfSideInKm\n",
    "\n",
    "    # Radius of Earth at given latitude\n",
    "    radius <- WGS84EarthRadius(lat)\n",
    "    # Radius of the parallel at given latitude\n",
    "    pradius <- radius*cos(lat)\n",
    "\n",
    "    latMin <- lat - halfSide/radius\n",
    "    latMax <- lat + halfSide/radius\n",
    "    lonMin <- lon - halfSide/pradius\n",
    "    lonMax <- lon + halfSide/pradius\n",
    "\n",
    "    return(list(rad2deg(latMin), rad2deg(lonMin), rad2deg(latMax), rad2deg(lonMax)))\n",
    "}"
   ]
  },
  {
   "cell_type": "code",
   "execution_count": 6,
   "metadata": {},
   "outputs": [],
   "source": [
    "# set the radius for the plots\n",
    "radius <- 5 # radius in km (should make 10km box)\n",
    "\n",
    "ans <- boundingBox(ushcn_data$latitude, ushcn_data$longitude, radius)\n",
    "\n",
    "# define the plot edges based upon the plot radius. \n",
    "\n",
    "yPlus <- ans[[3]]  #ushcn_data$latitude+radius\n",
    "xPlus <- ans[[4]]  #ushcn_data$longitude+radius\n",
    "yMinus <- ans[[1]] #ushcn_data$latitude-radius\n",
    "xMinus <- ans[[2]] #ushcn_data$longitude-radius"
   ]
  },
  {
   "cell_type": "code",
   "execution_count": 7,
   "metadata": {},
   "outputs": [],
   "source": [
    "# calculate polygon coordinates for each plot centroid. \n",
    "square=cbind(xMinus,yPlus,  # NW corner\n",
    "    xPlus, yPlus,  # NE corner\n",
    "    xPlus,yMinus,  # SE corner\n",
    "    xMinus,yMinus, # SW corner\n",
    "    xMinus,yPlus)  # NW corner again - close ploygon"
   ]
  },
  {
   "cell_type": "code",
   "execution_count": 8,
   "metadata": {},
   "outputs": [],
   "source": [
    "# Extract the plot ID information\n",
    "ID=ushcn_data$stationid"
   ]
  },
  {
   "cell_type": "code",
   "execution_count": 9,
   "metadata": {},
   "outputs": [
    {
     "data": {
      "text/plain": [
       "CRS arguments:\n",
       " +proj=longlat +ellps=WGS84 +datum=WGS84 +towgs84=0,0,0 "
      ]
     },
     "metadata": {},
     "output_type": "display_data"
    }
   ],
   "source": [
    "proj4string = CRS(\"+proj=longlat +ellps=WGS84 +datum=WGS84\")\n",
    "proj4string"
   ]
  },
  {
   "cell_type": "code",
   "execution_count": 10,
   "metadata": {},
   "outputs": [],
   "source": [
    "# create spatial polygons from coordinates\n",
    "polys <- SpatialPolygons(mapply(function(poly, id) \n",
    "        {\n",
    "      xy <- matrix(poly, ncol=2, byrow=TRUE)\n",
    "      Polygons(list(Polygon(xy)), ID=id)\n",
    "      }, \n",
    "    split(square, row(square)), ID),\n",
    "    proj4string=CRS(as.character(\"+proj=longlat +ellps=WGS84 +datum=WGS84\")))"
   ]
  },
  {
   "cell_type": "code",
   "execution_count": 11,
   "metadata": {},
   "outputs": [
    {
     "data": {
      "image/png": "[encoded data removed]",
      "text/plain": [
       "Plot with title “Hell yeah!”"
      ]
     },
     "metadata": {},
     "output_type": "display_data"
    }
   ],
   "source": [
    "# plot the new polygons\n",
    "plot(polys, main='Hell yeah!')"
   ]
  },
  {
   "cell_type": "code",
   "execution_count": 12,
   "metadata": {},
   "outputs": [],
   "source": [
    "# Create SpatialPolygonDataFrame -- this step is required to output multiple polygons.\n",
    "polys.df <- SpatialPolygonsDataFrame(polys, data.frame(id=ID, row.names=ID))\n"
   ]
  },
  {
   "cell_type": "code",
   "execution_count": 13,
   "metadata": {},
   "outputs": [
    {
     "data": {
      "text/html": [
       "<ol class=list-inline>\n",
       "\t<li>1218</li>\n",
       "\t<li>1</li>\n",
       "</ol>\n"
      ],
      "text/latex": [
       "\\begin{enumerate*}\n",
       "\\item 1218\n",
       "\\item 1\n",
       "\\end{enumerate*}\n"
      ],
      "text/markdown": [
       "1. 1218\n",
       "2. 1\n",
       "\n",
       "\n"
      ],
      "text/plain": [
       "[1] 1218    1"
      ]
     },
     "metadata": {},
     "output_type": "display_data"
    }
   ],
   "source": [
    "dim(polys.df)"
   ]
  },
  {
   "cell_type": "code",
   "execution_count": 14,
   "metadata": {},
   "outputs": [
    {
     "ename": "ERROR",
     "evalue": "Error in writeOGR(polys.df, \".\", \"USHCN_10km_polygons\", \"ESRI Shapefile\"): layer exists, use a new layer name\n",
     "output_type": "error",
     "traceback": [
      "Error in writeOGR(polys.df, \".\", \"USHCN_10km_polygons\", \"ESRI Shapefile\"): layer exists, use a new layer name\nTraceback:\n",
      "1. writeOGR(polys.df, \".\", \"USHCN_10km_polygons\", \"ESRI Shapefile\")",
      "2. stop(\"layer exists, use a new layer name\")"
     ]
    }
   ],
   "source": [
    "# write the shapefiles \n",
    "writeOGR(polys.df, '.', 'USHCN_10km_polygons', 'ESRI Shapefile')"
   ]
  }
 ],
 "metadata": {
  "kernelspec": {
   "display_name": "R",
   "language": "R",
   "name": "ir"
  },
  "language_info": {
   "codemirror_mode": "r",
   "file_extension": ".r",
   "mimetype": "text/x-r-source",
   "name": "R",
   "pygments_lexer": "r",
   "version": "3.6.1"
  }
 },
 "nbformat": 4,
 "nbformat_minor": 4
}
