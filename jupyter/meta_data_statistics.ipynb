{
 "cells": [
  {
   "cell_type": "code",
   "execution_count": 1,
   "metadata": {},
   "outputs": [
    {
     "name": "stderr",
     "output_type": "stream",
     "text": [
      "\n",
      "Attaching package: ‘dplyr’\n",
      "\n",
      "The following objects are masked from ‘package:stats’:\n",
      "\n",
      "    filter, lag\n",
      "\n",
      "The following objects are masked from ‘package:base’:\n",
      "\n",
      "    intersect, setdiff, setequal, union\n",
      "\n",
      "Loading required package: sp\n",
      "rgdal: version: 1.4-7, (SVN revision 845)\n",
      " Geospatial Data Abstraction Library extensions to R successfully loaded\n",
      " Loaded GDAL runtime: GDAL 2.4.3, released 2019/10/28\n",
      " Path to GDAL shared files: /usr/share/gdal\n",
      " GDAL binary built with GEOS: TRUE \n",
      " Loaded PROJ.4 runtime: Rel. 6.2.1, November 1st, 2019, [PJ_VERSION: 620]\n",
      " Path to PROJ.4 shared files: (autodetected)\n",
      " Linking to sp version: 1.3-1 \n"
     ]
    },
    {
     "name": "stdout",
     "output_type": "stream",
     "text": [
      "OGR data source with driver: ESRI Shapefile \n",
      "Source: \"/home/greg/data/GD_gregmaurer/droughtnet_precipsens_data/NEONdomains\", layer: \"NEON_Domains\"\n",
      "with 22 features\n",
      "It has 6 fields\n"
     ]
    },
    {
     "name": "stderr",
     "output_type": "stream",
     "text": [
      "Regions defined for each Polygons\n"
     ]
    }
   ],
   "source": [
    "source('common_stats_functions.r')"
   ]
  },
  {
   "cell_type": "code",
   "execution_count": 2,
   "metadata": {},
   "outputs": [
    {
     "name": "stdout",
     "output_type": "stream",
     "text": [
      "[1] \"Loading ~/GD_gregmaurer/droughtnet_precipsens_data/USHCN_derived/allyr_ushcn_calcs_allstations.csv\"\n"
     ]
    },
    {
     "name": "stderr",
     "output_type": "stream",
     "text": [
      "Parsed with column specification:\n",
      "cols(\n",
      "  .default = col_double(),\n",
      "  stationid = \u001b[31mcol_character()\u001b[39m,\n",
      "  elev = \u001b[31mcol_character()\u001b[39m,\n",
      "  state = \u001b[31mcol_character()\u001b[39m,\n",
      "  name = \u001b[31mcol_character()\u001b[39m,\n",
      "  flag1 = \u001b[31mcol_character()\u001b[39m,\n",
      "  flag2 = \u001b[31mcol_character()\u001b[39m,\n",
      "  flag3 = \u001b[31mcol_character()\u001b[39m\n",
      ")\n",
      "See spec(...) for full column specifications.\n"
     ]
    },
    {
     "name": "stdout",
     "output_type": "stream",
     "text": [
      "[1] \"1218 USHCN sites total\"\n",
      "[1] \"Maximum percent of record missing (all stations) = 15.2551878855861\"\n",
      "[1] \"Maximum years of data missing (all stations) = 22.6666666666667\"\n",
      "[1] \"Minimum number of years in record (all stations) = 106.25\"\n",
      "[1] \"0 sites have 12mo SPEI trends assigned NA\"\n",
      "[1] \"252 non-significant 12mo SPEI trends (alpha=0.05)\"\n",
      "[1] \"475 non-significant 12mo SPEI trends (alpha=0.05,Bonferroni corrected)\"\n",
      "[1] \"0 sites have 12mo SPEI CV trends assigned NA\"\n",
      "[1] \"148 non-significant 12mo SPEI CV trends (alpha=0.05)\"\n",
      "[1] \"345 non-significant 12mo SPEI CV trends (alpha=0.05,Bonferroni corrected)\"\n"
     ]
    }
   ],
   "source": [
    "calcsUSHCN <- get_locCalcs_and_stats()"
   ]
  },
  {
   "cell_type": "code",
   "execution_count": 3,
   "metadata": {},
   "outputs": [
    {
     "name": "stdout",
     "output_type": "stream",
     "text": [
      "[1] \"Loading ~/GD_gregmaurer/droughtnet_precipsens_data/USHCN_derived/annual_ushcn_spei_allstations.csv\"\n"
     ]
    },
    {
     "name": "stderr",
     "output_type": "stream",
     "text": [
      "Parsed with column specification:\n",
      "cols(\n",
      "  .default = col_double(),\n",
      "  stationid = \u001b[31mcol_character()\u001b[39m\n",
      ")\n",
      "See spec(...) for full column specifications.\n"
     ]
    },
    {
     "name": "stdout",
     "output_type": "stream",
     "text": [
      "[1] \"Earliest/latest year in USHCN (all stations) = 1869 / 2017\"\n",
      "[1] \"Latest station record starting year = 1911\"\n",
      "[1] \"Earliest station record ending year = 2017\"\n",
      "[1] \"Shortest USHCN record is 106 years\"\n"
     ]
    }
   ],
   "source": [
    "annSPEI <- get_annSPEI_and_stats()"
   ]
  }
 ],
 "metadata": {
  "kernelspec": {
   "display_name": "R",
   "language": "R",
   "name": "ir"
  },
  "language_info": {
   "codemirror_mode": "r",
   "file_extension": ".r",
   "mimetype": "text/x-r-source",
   "name": "R",
   "pygments_lexer": "r",
   "version": "3.6.1"
  }
 },
 "nbformat": 4,
 "nbformat_minor": 4
}
