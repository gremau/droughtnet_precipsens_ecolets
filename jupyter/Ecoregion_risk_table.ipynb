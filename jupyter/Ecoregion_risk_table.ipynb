{
 "cells": [
  {
   "cell_type": "code",
   "execution_count": 1,
   "metadata": {},
   "outputs": [
    {
     "name": "stderr",
     "output_type": "stream",
     "text": [
      "\n",
      "Attaching package: ‘dplyr’\n",
      "\n",
      "The following objects are masked from ‘package:stats’:\n",
      "\n",
      "    filter, lag\n",
      "\n",
      "The following objects are masked from ‘package:base’:\n",
      "\n",
      "    intersect, setdiff, setequal, union\n",
      "\n",
      "Loading required package: sp\n",
      "rgdal: version: 1.4-7, (SVN revision 845)\n",
      " Geospatial Data Abstraction Library extensions to R successfully loaded\n",
      " Loaded GDAL runtime: GDAL 2.4.3, released 2019/10/28\n",
      " Path to GDAL shared files: /usr/share/gdal\n",
      " GDAL binary built with GEOS: TRUE \n",
      " Loaded PROJ.4 runtime: Rel. 6.2.1, November 1st, 2019, [PJ_VERSION: 620]\n",
      " Path to PROJ.4 shared files: (autodetected)\n",
      " Linking to sp version: 1.3-1 \n"
     ]
    }
   ],
   "source": [
    "library('readr')\n",
    "library('dplyr')\n",
    "library('reshape2')\n",
    "library('ggplot2')\n",
    "library('rgdal')\n",
    "library('repr')"
   ]
  },
  {
   "cell_type": "code",
   "execution_count": 2,
   "metadata": {},
   "outputs": [
    {
     "name": "stdout",
     "output_type": "stream",
     "text": [
      "OGR data source with driver: ESRI Shapefile \n",
      "Source: \"/home/greg/data/GD_gregmaurer/droughtnet_precipsens_data/NEONdomains\", layer: \"NEON_Domains\"\n",
      "with 22 features\n",
      "It has 6 fields\n"
     ]
    },
    {
     "name": "stderr",
     "output_type": "stream",
     "text": [
      "Regions defined for each Polygons\n"
     ]
    }
   ],
   "source": [
    "source('common_stats_functions.r')"
   ]
  },
  {
   "cell_type": "code",
   "execution_count": 3,
   "metadata": {},
   "outputs": [
    {
     "name": "stderr",
     "output_type": "stream",
     "text": [
      "Parsed with column specification:\n",
      "cols(\n",
      "  neonDomainName = \u001b[31mcol_character()\u001b[39m,\n",
      "  MAP = \u001b[32mcol_double()\u001b[39m,\n",
      "  MAT = \u001b[32mcol_double()\u001b[39m,\n",
      "  spei12mo_trend = \u001b[32mcol_double()\u001b[39m,\n",
      "  spei12mo_cv5yr_trend = \u001b[32mcol_double()\u001b[39m,\n",
      "  ndvi_prcp_Intcpt = \u001b[32mcol_double()\u001b[39m,\n",
      "  ndvi_prcp_Slope = \u001b[32mcol_double()\u001b[39m,\n",
      "  zndvi_prcp_Intcpt = \u001b[32mcol_double()\u001b[39m,\n",
      "  zndvi_prcp_Slope = \u001b[32mcol_double()\u001b[39m,\n",
      "  zndvi_spei_Intcpt = \u001b[32mcol_double()\u001b[39m,\n",
      "  zndvi_spei_Slope = \u001b[32mcol_double()\u001b[39m,\n",
      "  MAPdom = \u001b[32mcol_double()\u001b[39m,\n",
      "  MATdom = \u001b[32mcol_double()\u001b[39m,\n",
      "  spei12mo_trend_all = \u001b[32mcol_double()\u001b[39m,\n",
      "  spei12mo_cv5yr_trend_all = \u001b[32mcol_double()\u001b[39m\n",
      ")\n"
     ]
    },
    {
     "data": {
      "text/html": [
       "<table>\n",
       "<caption>A tibble: 6 × 15</caption>\n",
       "<thead>\n",
       "\t<tr><th scope=col>neonDomainName</th><th scope=col>MAP</th><th scope=col>MAT</th><th scope=col>spei12mo_trend</th><th scope=col>spei12mo_cv5yr_trend</th><th scope=col>ndvi_prcp_Intcpt</th><th scope=col>ndvi_prcp_Slope</th><th scope=col>zndvi_prcp_Intcpt</th><th scope=col>zndvi_prcp_Slope</th><th scope=col>zndvi_spei_Intcpt</th><th scope=col>zndvi_spei_Slope</th><th scope=col>MAPdom</th><th scope=col>MATdom</th><th scope=col>spei12mo_trend_all</th><th scope=col>spei12mo_cv5yr_trend_all</th></tr>\n",
       "\t<tr><th scope=col>&lt;chr&gt;</th><th scope=col>&lt;dbl&gt;</th><th scope=col>&lt;dbl&gt;</th><th scope=col>&lt;dbl&gt;</th><th scope=col>&lt;dbl&gt;</th><th scope=col>&lt;dbl&gt;</th><th scope=col>&lt;dbl&gt;</th><th scope=col>&lt;dbl&gt;</th><th scope=col>&lt;dbl&gt;</th><th scope=col>&lt;dbl&gt;</th><th scope=col>&lt;dbl&gt;</th><th scope=col>&lt;dbl&gt;</th><th scope=col>&lt;dbl&gt;</th><th scope=col>&lt;dbl&gt;</th><th scope=col>&lt;dbl&gt;</th></tr>\n",
       "</thead>\n",
       "<tbody>\n",
       "\t<tr><td>Appalachians / Cumberland Plateau</td><td>1229.8583</td><td>12.876123</td><td> 2.640105e-04</td><td>-2.193997e-05</td><td> 1.523425</td><td>-0.0004447813</td><td> 1.25126637</td><td>-0.0031918669</td><td>-0.6730206</td><td>-1.4337369</td><td>1169.2229</td><td>12.564964</td><td> 2.643023e-04</td><td>-2.199088e-05</td></tr>\n",
       "\t<tr><td>Atlantic Neotropical             </td><td>1502.0000</td><td>24.170295</td><td>-4.750003e-04</td><td> 2.047066e-05</td><td> 0.883240</td><td>-0.0003521494</td><td>-0.02203213</td><td>-0.0023277159</td><td>-0.2036000</td><td>-0.6563070</td><td>1491.3328</td><td>23.380670</td><td>-4.803523e-04</td><td> 2.114857e-05</td></tr>\n",
       "\t<tr><td>Central Plains                   </td><td> 497.7514</td><td>12.285118</td><td>-9.022957e-05</td><td> 2.109924e-05</td><td>-1.935213</td><td> 0.0008730305</td><td>-3.39650714</td><td> 0.0069627378</td><td> 0.1885613</td><td> 1.6487782</td><td> 494.1643</td><td>11.554669</td><td>-9.058289e-05</td><td> 2.109136e-05</td></tr>\n",
       "\t<tr><td>Desert Southwest                 </td><td> 225.0551</td><td>19.144803</td><td>-8.694542e-04</td><td> 1.476098e-04</td><td>-2.839278</td><td> 0.0009170556</td><td>-1.78918699</td><td> 0.0126031203</td><td> 4.3377347</td><td> 4.2406899</td><td> 245.7367</td><td>18.052197</td><td>-8.690439e-04</td><td> 1.473590e-04</td></tr>\n",
       "\t<tr><td>FixedEffects                     </td><td>       NA</td><td>       NA</td><td>           NA</td><td>           NA</td><td> 5.558747</td><td> 0.0005392970</td><td>-1.94772449</td><td> 0.0037721184</td><td> 0.7402265</td><td> 1.3858123</td><td>       NA</td><td>       NA</td><td>           NA</td><td>           NA</td></tr>\n",
       "\t<tr><td>Great Basin                      </td><td> 308.4206</td><td> 9.069863</td><td>-3.262137e-04</td><td> 6.795495e-05</td><td>-1.577245</td><td> 0.0002376465</td><td> 0.72017901</td><td> 0.0002978784</td><td> 0.2635135</td><td> 0.3043271</td><td> 320.9593</td><td> 8.297809</td><td>-3.250286e-04</td><td> 6.755575e-05</td></tr>\n",
       "</tbody>\n",
       "</table>\n"
      ],
      "text/latex": [
       "A tibble: 6 × 15\n",
       "\\begin{tabular}{r|lllllllllllllll}\n",
       " neonDomainName & MAP & MAT & spei12mo\\_trend & spei12mo\\_cv5yr\\_trend & ndvi\\_prcp\\_Intcpt & ndvi\\_prcp\\_Slope & zndvi\\_prcp\\_Intcpt & zndvi\\_prcp\\_Slope & zndvi\\_spei\\_Intcpt & zndvi\\_spei\\_Slope & MAPdom & MATdom & spei12mo\\_trend\\_all & spei12mo\\_cv5yr\\_trend\\_all\\\\\n",
       " <chr> & <dbl> & <dbl> & <dbl> & <dbl> & <dbl> & <dbl> & <dbl> & <dbl> & <dbl> & <dbl> & <dbl> & <dbl> & <dbl> & <dbl>\\\\\n",
       "\\hline\n",
       "\t Appalachians / Cumberland Plateau & 1229.8583 & 12.876123 &  2.640105e-04 & -2.193997e-05 &  1.523425 & -0.0004447813 &  1.25126637 & -0.0031918669 & -0.6730206 & -1.4337369 & 1169.2229 & 12.564964 &  2.643023e-04 & -2.199088e-05\\\\\n",
       "\t Atlantic Neotropical              & 1502.0000 & 24.170295 & -4.750003e-04 &  2.047066e-05 &  0.883240 & -0.0003521494 & -0.02203213 & -0.0023277159 & -0.2036000 & -0.6563070 & 1491.3328 & 23.380670 & -4.803523e-04 &  2.114857e-05\\\\\n",
       "\t Central Plains                    &  497.7514 & 12.285118 & -9.022957e-05 &  2.109924e-05 & -1.935213 &  0.0008730305 & -3.39650714 &  0.0069627378 &  0.1885613 &  1.6487782 &  494.1643 & 11.554669 & -9.058289e-05 &  2.109136e-05\\\\\n",
       "\t Desert Southwest                  &  225.0551 & 19.144803 & -8.694542e-04 &  1.476098e-04 & -2.839278 &  0.0009170556 & -1.78918699 &  0.0126031203 &  4.3377347 &  4.2406899 &  245.7367 & 18.052197 & -8.690439e-04 &  1.473590e-04\\\\\n",
       "\t FixedEffects                      &        NA &        NA &            NA &            NA &  5.558747 &  0.0005392970 & -1.94772449 &  0.0037721184 &  0.7402265 &  1.3858123 &        NA &        NA &            NA &            NA\\\\\n",
       "\t Great Basin                       &  308.4206 &  9.069863 & -3.262137e-04 &  6.795495e-05 & -1.577245 &  0.0002376465 &  0.72017901 &  0.0002978784 &  0.2635135 &  0.3043271 &  320.9593 &  8.297809 & -3.250286e-04 &  6.755575e-05\\\\\n",
       "\\end{tabular}\n"
      ],
      "text/markdown": [
       "\n",
       "A tibble: 6 × 15\n",
       "\n",
       "| neonDomainName &lt;chr&gt; | MAP &lt;dbl&gt; | MAT &lt;dbl&gt; | spei12mo_trend &lt;dbl&gt; | spei12mo_cv5yr_trend &lt;dbl&gt; | ndvi_prcp_Intcpt &lt;dbl&gt; | ndvi_prcp_Slope &lt;dbl&gt; | zndvi_prcp_Intcpt &lt;dbl&gt; | zndvi_prcp_Slope &lt;dbl&gt; | zndvi_spei_Intcpt &lt;dbl&gt; | zndvi_spei_Slope &lt;dbl&gt; | MAPdom &lt;dbl&gt; | MATdom &lt;dbl&gt; | spei12mo_trend_all &lt;dbl&gt; | spei12mo_cv5yr_trend_all &lt;dbl&gt; |\n",
       "|---|---|---|---|---|---|---|---|---|---|---|---|---|---|---|\n",
       "| Appalachians / Cumberland Plateau | 1229.8583 | 12.876123 |  2.640105e-04 | -2.193997e-05 |  1.523425 | -0.0004447813 |  1.25126637 | -0.0031918669 | -0.6730206 | -1.4337369 | 1169.2229 | 12.564964 |  2.643023e-04 | -2.199088e-05 |\n",
       "| Atlantic Neotropical              | 1502.0000 | 24.170295 | -4.750003e-04 |  2.047066e-05 |  0.883240 | -0.0003521494 | -0.02203213 | -0.0023277159 | -0.2036000 | -0.6563070 | 1491.3328 | 23.380670 | -4.803523e-04 |  2.114857e-05 |\n",
       "| Central Plains                    |  497.7514 | 12.285118 | -9.022957e-05 |  2.109924e-05 | -1.935213 |  0.0008730305 | -3.39650714 |  0.0069627378 |  0.1885613 |  1.6487782 |  494.1643 | 11.554669 | -9.058289e-05 |  2.109136e-05 |\n",
       "| Desert Southwest                  |  225.0551 | 19.144803 | -8.694542e-04 |  1.476098e-04 | -2.839278 |  0.0009170556 | -1.78918699 |  0.0126031203 |  4.3377347 |  4.2406899 |  245.7367 | 18.052197 | -8.690439e-04 |  1.473590e-04 |\n",
       "| FixedEffects                      |        NA |        NA |            NA |            NA |  5.558747 |  0.0005392970 | -1.94772449 |  0.0037721184 |  0.7402265 |  1.3858123 |        NA |        NA |            NA |            NA |\n",
       "| Great Basin                       |  308.4206 |  9.069863 | -3.262137e-04 |  6.795495e-05 | -1.577245 |  0.0002376465 |  0.72017901 |  0.0002978784 |  0.2635135 |  0.3043271 |  320.9593 |  8.297809 | -3.250286e-04 |  6.755575e-05 |\n",
       "\n"
      ],
      "text/plain": [
       "  neonDomainName                    MAP       MAT       spei12mo_trend\n",
       "1 Appalachians / Cumberland Plateau 1229.8583 12.876123  2.640105e-04 \n",
       "2 Atlantic Neotropical              1502.0000 24.170295 -4.750003e-04 \n",
       "3 Central Plains                     497.7514 12.285118 -9.022957e-05 \n",
       "4 Desert Southwest                   225.0551 19.144803 -8.694542e-04 \n",
       "5 FixedEffects                             NA        NA            NA \n",
       "6 Great Basin                        308.4206  9.069863 -3.262137e-04 \n",
       "  spei12mo_cv5yr_trend ndvi_prcp_Intcpt ndvi_prcp_Slope zndvi_prcp_Intcpt\n",
       "1 -2.193997e-05         1.523425        -0.0004447813    1.25126637      \n",
       "2  2.047066e-05         0.883240        -0.0003521494   -0.02203213      \n",
       "3  2.109924e-05        -1.935213         0.0008730305   -3.39650714      \n",
       "4  1.476098e-04        -2.839278         0.0009170556   -1.78918699      \n",
       "5            NA         5.558747         0.0005392970   -1.94772449      \n",
       "6  6.795495e-05        -1.577245         0.0002376465    0.72017901      \n",
       "  zndvi_prcp_Slope zndvi_spei_Intcpt zndvi_spei_Slope MAPdom    MATdom   \n",
       "1 -0.0031918669    -0.6730206        -1.4337369       1169.2229 12.564964\n",
       "2 -0.0023277159    -0.2036000        -0.6563070       1491.3328 23.380670\n",
       "3  0.0069627378     0.1885613         1.6487782        494.1643 11.554669\n",
       "4  0.0126031203     4.3377347         4.2406899        245.7367 18.052197\n",
       "5  0.0037721184     0.7402265         1.3858123              NA        NA\n",
       "6  0.0002978784     0.2635135         0.3043271        320.9593  8.297809\n",
       "  spei12mo_trend_all spei12mo_cv5yr_trend_all\n",
       "1  2.643023e-04      -2.199088e-05           \n",
       "2 -4.803523e-04       2.114857e-05           \n",
       "3 -9.058289e-05       2.109136e-05           \n",
       "4 -8.690439e-04       1.473590e-04           \n",
       "5            NA                 NA           \n",
       "6 -3.250286e-04       6.755575e-05           "
      ]
     },
     "metadata": {},
     "output_type": "display_data"
    }
   ],
   "source": [
    "fname <- paste0(dn_path, 'sensitivity_analysis/fixed_randomDomain_effects.csv')\n",
    "\n",
    "dom <- read_csv(fname)\n",
    "head(dom)"
   ]
  },
  {
   "cell_type": "code",
   "execution_count": 4,
   "metadata": {},
   "outputs": [],
   "source": [
    "dom2 <- dom"
   ]
  },
  {
   "cell_type": "code",
   "execution_count": 5,
   "metadata": {},
   "outputs": [],
   "source": [
    "fixed <- dom2[5,6:11]\n",
    "for (i in 1:dim(dom2)[1]){\n",
    "    #print(i)\n",
    "    dom2[i,6:11] <- dom2[i,6:11] + fixed\n",
    "}\n"
   ]
  },
  {
   "cell_type": "code",
   "execution_count": 6,
   "metadata": {},
   "outputs": [
    {
     "data": {
      "text/html": [
       "<table>\n",
       "<caption>A tibble: 17 × 5</caption>\n",
       "<thead>\n",
       "\t<tr><th scope=col>neonDomainName</th><th scope=col>MAPdom</th><th scope=col>MATdom</th><th scope=col>ndvi_prcp_Slope</th><th scope=col>zndvi_spei_Slope</th></tr>\n",
       "\t<tr><th scope=col>&lt;chr&gt;</th><th scope=col>&lt;dbl&gt;</th><th scope=col>&lt;dbl&gt;</th><th scope=col>&lt;dbl&gt;</th><th scope=col>&lt;dbl&gt;</th></tr>\n",
       "</thead>\n",
       "<tbody>\n",
       "\t<tr><td>Appalachians / Cumberland Plateau  </td><td>1169.2229</td><td>12.564964</td><td> 0.09451571</td><td>-0.047924517</td></tr>\n",
       "\t<tr><td>Atlantic Neotropical               </td><td>1491.3328</td><td>23.380670</td><td> 0.18714757</td><td> 0.729505367</td></tr>\n",
       "\t<tr><td>Central Plains                     </td><td> 494.1643</td><td>11.554669</td><td> 1.41232749</td><td> 3.034590556</td></tr>\n",
       "\t<tr><td>Desert Southwest                   </td><td> 245.7367</td><td>18.052197</td><td> 1.45635260</td><td> 5.626502229</td></tr>\n",
       "\t<tr><td>Great Basin                        </td><td> 320.9593</td><td> 8.297809</td><td> 0.77694343</td><td> 1.690139429</td></tr>\n",
       "\t<tr><td>Great Lakes                        </td><td> 816.6060</td><td> 6.732131</td><td> 0.10796510</td><td>-0.003089592</td></tr>\n",
       "\t<tr><td>Mid Atlantic                       </td><td>1140.3229</td><td>14.047997</td><td> 0.16357645</td><td> 0.184205491</td></tr>\n",
       "\t<tr><td>Northeast                          </td><td>1035.8177</td><td> 7.976203</td><td>-0.09438470</td><td>-0.231207749</td></tr>\n",
       "\t<tr><td>Northern Plains                    </td><td> 438.3639</td><td> 6.080188</td><td> 1.34675589</td><td> 1.571764986</td></tr>\n",
       "\t<tr><td>Northern Rockies                   </td><td> 444.7923</td><td> 5.451894</td><td> 0.70514926</td><td> 0.482933306</td></tr>\n",
       "\t<tr><td>Ozarks Complex                     </td><td>1241.8157</td><td>16.027917</td><td> 0.14453118</td><td> 0.430443953</td></tr>\n",
       "\t<tr><td>Pacific Northwest                  </td><td>1284.8193</td><td>10.133432</td><td>-0.08550077</td><td>-0.567991748</td></tr>\n",
       "\t<tr><td>Pacific Southwest                  </td><td> 593.5586</td><td>14.895990</td><td> 0.38088306</td><td> 2.333301508</td></tr>\n",
       "\t<tr><td>Prairie Peninsula                  </td><td> 867.3632</td><td> 9.846355</td><td> 0.28687210</td><td> 0.234985137</td></tr>\n",
       "\t<tr><td>Southeast                          </td><td>1368.2617</td><td>19.400804</td><td> 0.24058461</td><td> 0.858308023</td></tr>\n",
       "\t<tr><td>Southern Plains                    </td><td> 753.6716</td><td>17.735482</td><td> 1.02995585</td><td> 4.506094258</td></tr>\n",
       "\t<tr><td>Southern Rockies / Colorado Plateau</td><td> 328.9915</td><td> 9.130984</td><td> 1.01437360</td><td> 2.726249165</td></tr>\n",
       "</tbody>\n",
       "</table>\n"
      ],
      "text/latex": [
       "A tibble: 17 × 5\n",
       "\\begin{tabular}{r|lllll}\n",
       " neonDomainName & MAPdom & MATdom & ndvi\\_prcp\\_Slope & zndvi\\_spei\\_Slope\\\\\n",
       " <chr> & <dbl> & <dbl> & <dbl> & <dbl>\\\\\n",
       "\\hline\n",
       "\t Appalachians / Cumberland Plateau   & 1169.2229 & 12.564964 &  0.09451571 & -0.047924517\\\\\n",
       "\t Atlantic Neotropical                & 1491.3328 & 23.380670 &  0.18714757 &  0.729505367\\\\\n",
       "\t Central Plains                      &  494.1643 & 11.554669 &  1.41232749 &  3.034590556\\\\\n",
       "\t Desert Southwest                    &  245.7367 & 18.052197 &  1.45635260 &  5.626502229\\\\\n",
       "\t Great Basin                         &  320.9593 &  8.297809 &  0.77694343 &  1.690139429\\\\\n",
       "\t Great Lakes                         &  816.6060 &  6.732131 &  0.10796510 & -0.003089592\\\\\n",
       "\t Mid Atlantic                        & 1140.3229 & 14.047997 &  0.16357645 &  0.184205491\\\\\n",
       "\t Northeast                           & 1035.8177 &  7.976203 & -0.09438470 & -0.231207749\\\\\n",
       "\t Northern Plains                     &  438.3639 &  6.080188 &  1.34675589 &  1.571764986\\\\\n",
       "\t Northern Rockies                    &  444.7923 &  5.451894 &  0.70514926 &  0.482933306\\\\\n",
       "\t Ozarks Complex                      & 1241.8157 & 16.027917 &  0.14453118 &  0.430443953\\\\\n",
       "\t Pacific Northwest                   & 1284.8193 & 10.133432 & -0.08550077 & -0.567991748\\\\\n",
       "\t Pacific Southwest                   &  593.5586 & 14.895990 &  0.38088306 &  2.333301508\\\\\n",
       "\t Prairie Peninsula                   &  867.3632 &  9.846355 &  0.28687210 &  0.234985137\\\\\n",
       "\t Southeast                           & 1368.2617 & 19.400804 &  0.24058461 &  0.858308023\\\\\n",
       "\t Southern Plains                     &  753.6716 & 17.735482 &  1.02995585 &  4.506094258\\\\\n",
       "\t Southern Rockies / Colorado Plateau &  328.9915 &  9.130984 &  1.01437360 &  2.726249165\\\\\n",
       "\\end{tabular}\n"
      ],
      "text/markdown": [
       "\n",
       "A tibble: 17 × 5\n",
       "\n",
       "| neonDomainName &lt;chr&gt; | MAPdom &lt;dbl&gt; | MATdom &lt;dbl&gt; | ndvi_prcp_Slope &lt;dbl&gt; | zndvi_spei_Slope &lt;dbl&gt; |\n",
       "|---|---|---|---|---|\n",
       "| Appalachians / Cumberland Plateau   | 1169.2229 | 12.564964 |  0.09451571 | -0.047924517 |\n",
       "| Atlantic Neotropical                | 1491.3328 | 23.380670 |  0.18714757 |  0.729505367 |\n",
       "| Central Plains                      |  494.1643 | 11.554669 |  1.41232749 |  3.034590556 |\n",
       "| Desert Southwest                    |  245.7367 | 18.052197 |  1.45635260 |  5.626502229 |\n",
       "| Great Basin                         |  320.9593 |  8.297809 |  0.77694343 |  1.690139429 |\n",
       "| Great Lakes                         |  816.6060 |  6.732131 |  0.10796510 | -0.003089592 |\n",
       "| Mid Atlantic                        | 1140.3229 | 14.047997 |  0.16357645 |  0.184205491 |\n",
       "| Northeast                           | 1035.8177 |  7.976203 | -0.09438470 | -0.231207749 |\n",
       "| Northern Plains                     |  438.3639 |  6.080188 |  1.34675589 |  1.571764986 |\n",
       "| Northern Rockies                    |  444.7923 |  5.451894 |  0.70514926 |  0.482933306 |\n",
       "| Ozarks Complex                      | 1241.8157 | 16.027917 |  0.14453118 |  0.430443953 |\n",
       "| Pacific Northwest                   | 1284.8193 | 10.133432 | -0.08550077 | -0.567991748 |\n",
       "| Pacific Southwest                   |  593.5586 | 14.895990 |  0.38088306 |  2.333301508 |\n",
       "| Prairie Peninsula                   |  867.3632 |  9.846355 |  0.28687210 |  0.234985137 |\n",
       "| Southeast                           | 1368.2617 | 19.400804 |  0.24058461 |  0.858308023 |\n",
       "| Southern Plains                     |  753.6716 | 17.735482 |  1.02995585 |  4.506094258 |\n",
       "| Southern Rockies / Colorado Plateau |  328.9915 |  9.130984 |  1.01437360 |  2.726249165 |\n",
       "\n"
      ],
      "text/plain": [
       "   neonDomainName                      MAPdom    MATdom    ndvi_prcp_Slope\n",
       "1  Appalachians / Cumberland Plateau   1169.2229 12.564964  0.09451571    \n",
       "2  Atlantic Neotropical                1491.3328 23.380670  0.18714757    \n",
       "3  Central Plains                       494.1643 11.554669  1.41232749    \n",
       "4  Desert Southwest                     245.7367 18.052197  1.45635260    \n",
       "5  Great Basin                          320.9593  8.297809  0.77694343    \n",
       "6  Great Lakes                          816.6060  6.732131  0.10796510    \n",
       "7  Mid Atlantic                        1140.3229 14.047997  0.16357645    \n",
       "8  Northeast                           1035.8177  7.976203 -0.09438470    \n",
       "9  Northern Plains                      438.3639  6.080188  1.34675589    \n",
       "10 Northern Rockies                     444.7923  5.451894  0.70514926    \n",
       "11 Ozarks Complex                      1241.8157 16.027917  0.14453118    \n",
       "12 Pacific Northwest                   1284.8193 10.133432 -0.08550077    \n",
       "13 Pacific Southwest                    593.5586 14.895990  0.38088306    \n",
       "14 Prairie Peninsula                    867.3632  9.846355  0.28687210    \n",
       "15 Southeast                           1368.2617 19.400804  0.24058461    \n",
       "16 Southern Plains                      753.6716 17.735482  1.02995585    \n",
       "17 Southern Rockies / Colorado Plateau  328.9915  9.130984  1.01437360    \n",
       "   zndvi_spei_Slope\n",
       "1  -0.047924517    \n",
       "2   0.729505367    \n",
       "3   3.034590556    \n",
       "4   5.626502229    \n",
       "5   1.690139429    \n",
       "6  -0.003089592    \n",
       "7   0.184205491    \n",
       "8  -0.231207749    \n",
       "9   1.571764986    \n",
       "10  0.482933306    \n",
       "11  0.430443953    \n",
       "12 -0.567991748    \n",
       "13  2.333301508    \n",
       "14  0.234985137    \n",
       "15  0.858308023    \n",
       "16  4.506094258    \n",
       "17  2.726249165    "
      ]
     },
     "metadata": {},
     "output_type": "display_data"
    }
   ],
   "source": [
    "df <- dom2[c(1:4,6:18),c('neonDomainName','MAPdom', 'MATdom', 'ndvi_prcp_Slope', 'zndvi_spei_Slope')]\n",
    "df$ndvi_prcp_Slope <- df$ndvi_prcp_Slope * 1000\n",
    "df"
   ]
  },
  {
   "cell_type": "code",
   "execution_count": 7,
   "metadata": {},
   "outputs": [
    {
     "name": "stderr",
     "output_type": "stream",
     "text": [
      "Parsed with column specification:\n",
      "cols(\n",
      "  .default = col_double(),\n",
      "  stationid = \u001b[31mcol_character()\u001b[39m,\n",
      "  elev = \u001b[31mcol_character()\u001b[39m,\n",
      "  state = \u001b[31mcol_character()\u001b[39m,\n",
      "  name = \u001b[31mcol_character()\u001b[39m,\n",
      "  flag1 = \u001b[31mcol_character()\u001b[39m,\n",
      "  flag2 = \u001b[31mcol_character()\u001b[39m,\n",
      "  flag3 = \u001b[31mcol_character()\u001b[39m\n",
      ")\n",
      "See spec(...) for full column specifications.\n"
     ]
    },
    {
     "data": {
      "text/html": [
       "<table>\n",
       "<caption>A tibble: 6 × 28</caption>\n",
       "<thead>\n",
       "\t<tr><th scope=col>stationid</th><th scope=col>latitude</th><th scope=col>longitude</th><th scope=col>elev</th><th scope=col>state</th><th scope=col>name</th><th scope=col>flag1</th><th scope=col>flag2</th><th scope=col>flag3</th><th scope=col>utcoffset</th><th scope=col>⋯</th><th scope=col>prcp_cv5yr_trend</th><th scope=col>prcp_cv5yr_trend_sig</th><th scope=col>spei12mo_trend</th><th scope=col>spei12mo_trend_sig</th><th scope=col>spei12mo_cv5yr_trend</th><th scope=col>spei12mo_cv5yr_trend_sig</th><th scope=col>spi12mo_trend</th><th scope=col>spi12mo_trend_sig</th><th scope=col>spi12mo_cv5yr_trend</th><th scope=col>spi12mo_cv5yr_trend_sig</th></tr>\n",
       "\t<tr><th scope=col>&lt;chr&gt;</th><th scope=col>&lt;dbl&gt;</th><th scope=col>&lt;dbl&gt;</th><th scope=col>&lt;chr&gt;</th><th scope=col>&lt;chr&gt;</th><th scope=col>&lt;chr&gt;</th><th scope=col>&lt;chr&gt;</th><th scope=col>&lt;chr&gt;</th><th scope=col>&lt;chr&gt;</th><th scope=col>&lt;dbl&gt;</th><th scope=col>⋯</th><th scope=col>&lt;dbl&gt;</th><th scope=col>&lt;dbl&gt;</th><th scope=col>&lt;dbl&gt;</th><th scope=col>&lt;dbl&gt;</th><th scope=col>&lt;dbl&gt;</th><th scope=col>&lt;dbl&gt;</th><th scope=col>&lt;dbl&gt;</th><th scope=col>&lt;dbl&gt;</th><th scope=col>&lt;dbl&gt;</th><th scope=col>&lt;dbl&gt;</th></tr>\n",
       "</thead>\n",
       "<tbody>\n",
       "\t<tr><td>USH00011084</td><td>31.0581</td><td>-87.0547</td><td>25.9 </td><td>AL</td><td>BREWTON 3 SSE   </td><td>------</td><td>------</td><td>------</td><td>6</td><td>⋯</td><td>-3.082635e-06</td><td>5.181877e-01</td><td> 4.948660e-04</td><td>4.281059e-17</td><td>-5.418599e-05</td><td>1.450005e-23</td><td>3.475070e-04</td><td>4.515042e-09</td><td>-2.761315e-05</td><td>1.117645e-08</td></tr>\n",
       "\t<tr><td>USH00012813</td><td>30.5467</td><td>-87.8808</td><td>7.0  </td><td>AL</td><td>FAIRHOPE 2 NE   </td><td>------</td><td>------</td><td>------</td><td>6</td><td>⋯</td><td> 5.832594e-05</td><td>1.395250e-27</td><td> 2.871429e-04</td><td>1.332174e-06</td><td> 1.828267e-05</td><td>7.089053e-04</td><td>3.154710e-04</td><td>1.066194e-07</td><td> 1.294170e-05</td><td>1.344355e-02</td></tr>\n",
       "\t<tr><td>USH00013160</td><td>32.8347</td><td>-88.1342</td><td>38.1 </td><td>AL</td><td>GAINESVILLE LOCK</td><td>011694</td><td>------</td><td>------</td><td>6</td><td>⋯</td><td>-1.006481e-04</td><td>1.951328e-83</td><td> 2.030824e-04</td><td>6.633134e-04</td><td>-2.064144e-05</td><td>8.391407e-05</td><td>2.282740e-04</td><td>1.295231e-04</td><td>-3.163045e-05</td><td>8.261308e-10</td></tr>\n",
       "\t<tr><td>USH00013511</td><td>32.7017</td><td>-87.5808</td><td>67.1 </td><td>AL</td><td>GREENSBORO      </td><td>------</td><td>------</td><td>------</td><td>6</td><td>⋯</td><td>-4.603313e-05</td><td>1.517411e-34</td><td>-5.681463e-06</td><td>9.233457e-01</td><td>-1.147154e-05</td><td>5.703395e-02</td><td>8.473712e-05</td><td>1.509880e-01</td><td>-2.727170e-05</td><td>4.638926e-06</td></tr>\n",
       "\t<tr><td>USH00013816</td><td>31.8700</td><td>-86.2542</td><td>132.0</td><td>AL</td><td>HIGHLAND HOME   </td><td>------</td><td>------</td><td>------</td><td>6</td><td>⋯</td><td>-4.880355e-05</td><td>4.188936e-25</td><td> 3.157518e-04</td><td>1.032076e-07</td><td>-3.465651e-06</td><td>5.319998e-01</td><td>1.730071e-04</td><td>3.667829e-03</td><td> 1.637979e-05</td><td>3.540241e-03</td></tr>\n",
       "\t<tr><td>USH00015749</td><td>34.7442</td><td>-87.5997</td><td>164.6</td><td>AL</td><td>MUSCLE SHOALS AP</td><td>------</td><td>------</td><td>------</td><td>6</td><td>⋯</td><td>-1.990534e-05</td><td>5.019340e-05</td><td> 4.272818e-04</td><td>1.014964e-12</td><td> 1.449213e-06</td><td>8.349459e-01</td><td>5.983068e-04</td><td>7.816069e-24</td><td>-4.647953e-05</td><td>5.760756e-15</td></tr>\n",
       "</tbody>\n",
       "</table>\n"
      ],
      "text/latex": [
       "A tibble: 6 × 28\n",
       "\\begin{tabular}{r|llllllllllllllllllllllllllll}\n",
       " stationid & latitude & longitude & elev & state & name & flag1 & flag2 & flag3 & utcoffset & nyears & pctmissing & tavg\\_trend & tavg\\_trend\\_sig & tavg\\_cv5yr\\_trend & tavg\\_cv5yr\\_trend\\_sig & prcp\\_trend & prcp\\_trend\\_sig & prcp\\_cv5yr\\_trend & prcp\\_cv5yr\\_trend\\_sig & spei12mo\\_trend & spei12mo\\_trend\\_sig & spei12mo\\_cv5yr\\_trend & spei12mo\\_cv5yr\\_trend\\_sig & spi12mo\\_trend & spi12mo\\_trend\\_sig & spi12mo\\_cv5yr\\_trend & spi12mo\\_cv5yr\\_trend\\_sig\\\\\n",
       " <chr> & <dbl> & <dbl> & <chr> & <chr> & <chr> & <chr> & <chr> & <chr> & <dbl> & <dbl> & <dbl> & <dbl> & <dbl> & <dbl> & <dbl> & <dbl> & <dbl> & <dbl> & <dbl> & <dbl> & <dbl> & <dbl> & <dbl> & <dbl> & <dbl> & <dbl> & <dbl>\\\\\n",
       "\\hline\n",
       "\t USH00011084 & 31.0581 & -87.0547 & 25.9  & AL & BREWTON 3 SSE    & ------ & ------ & ------ & 6 & 125.50 & 0.59760956 & -4.033498e-04 & 0.2971987 & -2.703984e-06 & 1.202858e-01 & 0.007407076 & 0.122336672 & -3.082635e-06 & 5.181877e-01 &  4.948660e-04 & 4.281059e-17 & -5.418599e-05 & 1.450005e-23 & 3.475070e-04 & 4.515042e-09 & -2.761315e-05 & 1.117645e-08\\\\\n",
       "\t USH00012813 & 30.5467 & -87.8808 & 7.0   & AL & FAIRHOPE 2 NE    & ------ & ------ & ------ & 6 & 125.50 & 1.92563081 &  2.963990e-05 & 0.9355661 &  1.010278e-05 & 1.281271e-09 & 0.007558879 & 0.162899308 &  5.832594e-05 & 1.395250e-27 &  2.871429e-04 & 1.332174e-06 &  1.828267e-05 & 7.089053e-04 & 3.154710e-04 & 1.066194e-07 &  1.294170e-05 & 1.344355e-02\\\\\n",
       "\t USH00013160 & 32.8347 & -88.1342 & 38.1  & AL & GAINESVILLE LOCK & 011694 & ------ & ------ & 6 & 125.50 & 0.26560425 &  1.377049e-05 & 0.9746365 &  8.031531e-06 & 2.611654e-09 & 0.002058185 & 0.642148317 & -1.006481e-04 & 1.951328e-83 &  2.030824e-04 & 6.633134e-04 & -2.064144e-05 & 8.391407e-05 & 2.282740e-04 & 1.295231e-04 & -3.163045e-05 & 8.261308e-10\\\\\n",
       "\t USH00013511 & 32.7017 & -87.5808 & 67.1  & AL & GREENSBORO       & ------ & ------ & ------ & 6 & 126.25 & 0.19801980 &  1.816064e-04 & 0.6685475 &  3.182095e-06 & 4.269485e-02 & 0.000834427 & 0.837831176 & -4.603313e-05 & 1.517411e-34 & -5.681463e-06 & 9.233457e-01 & -1.147154e-05 & 5.703395e-02 & 8.473712e-05 & 1.509880e-01 & -2.727170e-05 & 4.638926e-06\\\\\n",
       "\t USH00013816 & 31.8700 & -86.2542 & 132.0 & AL & HIGHLAND HOME    & ------ & ------ & ------ & 6 & 125.50 & 0.33200531 & -5.655125e-04 & 0.1545664 &  2.205609e-05 & 2.272027e-45 & 0.002505540 & 0.556667383 & -4.880355e-05 & 4.188936e-25 &  3.157518e-04 & 1.032076e-07 & -3.465651e-06 & 5.319998e-01 & 1.730071e-04 & 3.667829e-03 &  1.637979e-05 & 3.540241e-03\\\\\n",
       "\t USH00015749 & 34.7442 & -87.5997 & 164.6 & AL & MUSCLE SHOALS AP & ------ & ------ & ------ & 6 & 124.25 & 0.06706908 &  4.429720e-04 & 0.3566392 & -1.497508e-05 & 1.954945e-31 & 0.011524128 & 0.001802504 & -1.990534e-05 & 5.019340e-05 &  4.272818e-04 & 1.014964e-12 &  1.449213e-06 & 8.349459e-01 & 5.983068e-04 & 7.816069e-24 & -4.647953e-05 & 5.760756e-15\\\\\n",
       "\\end{tabular}\n"
      ],
      "text/markdown": [
       "\n",
       "A tibble: 6 × 28\n",
       "\n",
       "| stationid &lt;chr&gt; | latitude &lt;dbl&gt; | longitude &lt;dbl&gt; | elev &lt;chr&gt; | state &lt;chr&gt; | name &lt;chr&gt; | flag1 &lt;chr&gt; | flag2 &lt;chr&gt; | flag3 &lt;chr&gt; | utcoffset &lt;dbl&gt; | ⋯ ⋯ | prcp_cv5yr_trend &lt;dbl&gt; | prcp_cv5yr_trend_sig &lt;dbl&gt; | spei12mo_trend &lt;dbl&gt; | spei12mo_trend_sig &lt;dbl&gt; | spei12mo_cv5yr_trend &lt;dbl&gt; | spei12mo_cv5yr_trend_sig &lt;dbl&gt; | spi12mo_trend &lt;dbl&gt; | spi12mo_trend_sig &lt;dbl&gt; | spi12mo_cv5yr_trend &lt;dbl&gt; | spi12mo_cv5yr_trend_sig &lt;dbl&gt; |\n",
       "|---|---|---|---|---|---|---|---|---|---|---|---|---|---|---|---|---|---|---|---|---|\n",
       "| USH00011084 | 31.0581 | -87.0547 | 25.9  | AL | BREWTON 3 SSE    | ------ | ------ | ------ | 6 | ⋯ | -3.082635e-06 | 5.181877e-01 |  4.948660e-04 | 4.281059e-17 | -5.418599e-05 | 1.450005e-23 | 3.475070e-04 | 4.515042e-09 | -2.761315e-05 | 1.117645e-08 |\n",
       "| USH00012813 | 30.5467 | -87.8808 | 7.0   | AL | FAIRHOPE 2 NE    | ------ | ------ | ------ | 6 | ⋯ |  5.832594e-05 | 1.395250e-27 |  2.871429e-04 | 1.332174e-06 |  1.828267e-05 | 7.089053e-04 | 3.154710e-04 | 1.066194e-07 |  1.294170e-05 | 1.344355e-02 |\n",
       "| USH00013160 | 32.8347 | -88.1342 | 38.1  | AL | GAINESVILLE LOCK | 011694 | ------ | ------ | 6 | ⋯ | -1.006481e-04 | 1.951328e-83 |  2.030824e-04 | 6.633134e-04 | -2.064144e-05 | 8.391407e-05 | 2.282740e-04 | 1.295231e-04 | -3.163045e-05 | 8.261308e-10 |\n",
       "| USH00013511 | 32.7017 | -87.5808 | 67.1  | AL | GREENSBORO       | ------ | ------ | ------ | 6 | ⋯ | -4.603313e-05 | 1.517411e-34 | -5.681463e-06 | 9.233457e-01 | -1.147154e-05 | 5.703395e-02 | 8.473712e-05 | 1.509880e-01 | -2.727170e-05 | 4.638926e-06 |\n",
       "| USH00013816 | 31.8700 | -86.2542 | 132.0 | AL | HIGHLAND HOME    | ------ | ------ | ------ | 6 | ⋯ | -4.880355e-05 | 4.188936e-25 |  3.157518e-04 | 1.032076e-07 | -3.465651e-06 | 5.319998e-01 | 1.730071e-04 | 3.667829e-03 |  1.637979e-05 | 3.540241e-03 |\n",
       "| USH00015749 | 34.7442 | -87.5997 | 164.6 | AL | MUSCLE SHOALS AP | ------ | ------ | ------ | 6 | ⋯ | -1.990534e-05 | 5.019340e-05 |  4.272818e-04 | 1.014964e-12 |  1.449213e-06 | 8.349459e-01 | 5.983068e-04 | 7.816069e-24 | -4.647953e-05 | 5.760756e-15 |\n",
       "\n"
      ],
      "text/plain": [
       "  stationid   latitude longitude elev  state name             flag1  flag2 \n",
       "1 USH00011084 31.0581  -87.0547  25.9  AL    BREWTON 3 SSE    ------ ------\n",
       "2 USH00012813 30.5467  -87.8808  7.0   AL    FAIRHOPE 2 NE    ------ ------\n",
       "3 USH00013160 32.8347  -88.1342  38.1  AL    GAINESVILLE LOCK 011694 ------\n",
       "4 USH00013511 32.7017  -87.5808  67.1  AL    GREENSBORO       ------ ------\n",
       "5 USH00013816 31.8700  -86.2542  132.0 AL    HIGHLAND HOME    ------ ------\n",
       "6 USH00015749 34.7442  -87.5997  164.6 AL    MUSCLE SHOALS AP ------ ------\n",
       "  flag3  utcoffset ⋯ prcp_cv5yr_trend prcp_cv5yr_trend_sig spei12mo_trend\n",
       "1 ------ 6         ⋯ -3.082635e-06    5.181877e-01          4.948660e-04 \n",
       "2 ------ 6         ⋯  5.832594e-05    1.395250e-27          2.871429e-04 \n",
       "3 ------ 6         ⋯ -1.006481e-04    1.951328e-83          2.030824e-04 \n",
       "4 ------ 6         ⋯ -4.603313e-05    1.517411e-34         -5.681463e-06 \n",
       "5 ------ 6         ⋯ -4.880355e-05    4.188936e-25          3.157518e-04 \n",
       "6 ------ 6         ⋯ -1.990534e-05    5.019340e-05          4.272818e-04 \n",
       "  spei12mo_trend_sig spei12mo_cv5yr_trend spei12mo_cv5yr_trend_sig\n",
       "1 4.281059e-17       -5.418599e-05        1.450005e-23            \n",
       "2 1.332174e-06        1.828267e-05        7.089053e-04            \n",
       "3 6.633134e-04       -2.064144e-05        8.391407e-05            \n",
       "4 9.233457e-01       -1.147154e-05        5.703395e-02            \n",
       "5 1.032076e-07       -3.465651e-06        5.319998e-01            \n",
       "6 1.014964e-12        1.449213e-06        8.349459e-01            \n",
       "  spi12mo_trend spi12mo_trend_sig spi12mo_cv5yr_trend spi12mo_cv5yr_trend_sig\n",
       "1 3.475070e-04  4.515042e-09      -2.761315e-05       1.117645e-08           \n",
       "2 3.154710e-04  1.066194e-07       1.294170e-05       1.344355e-02           \n",
       "3 2.282740e-04  1.295231e-04      -3.163045e-05       8.261308e-10           \n",
       "4 8.473712e-05  1.509880e-01      -2.727170e-05       4.638926e-06           \n",
       "5 1.730071e-04  3.667829e-03       1.637979e-05       3.540241e-03           \n",
       "6 5.983068e-04  7.816069e-24      -4.647953e-05       5.760756e-15           "
      ]
     },
     "metadata": {},
     "output_type": "display_data"
    }
   ],
   "source": [
    "fname <- paste0(dn_path, 'USHCN_derived/allyr_ushcn_calcs_allstations.csv')\n",
    "\n",
    "#classes <- gsub('logical','float', classes)\n",
    "calcs <- read_csv(fname)\n",
    "head(calcs)"
   ]
  },
  {
   "cell_type": "code",
   "execution_count": 8,
   "metadata": {},
   "outputs": [],
   "source": [
    "# Remove bad sites and calculate missing data\n",
    "calcs$spei12mo_trend_scale <- calcs$spei12mo_trend\n",
    "test <- calcs$spei12mo_trend_sig > 0.05\n",
    "calcs$spei12mo_trend_scale[test] <- NA\n",
    "\n",
    "# CV - this is is the 5 year rolling CV of 12 month SPEI plotted across the continental US\n",
    "calcs$spei12mo_cv5yr_trend_scale <- calcs$spei12mo_cv5yr_trend\n",
    "test <- calcs$spei12mo_cv5yr_trend_sig > 0.05\n",
    "calcs$spei12mo_cv5yr_trend_scale[test] <- NA"
   ]
  },
  {
   "cell_type": "code",
   "execution_count": 9,
   "metadata": {},
   "outputs": [
    {
     "data": {
      "text/html": [
       "<ol class=list-inline>\n",
       "\t<li>1218</li>\n",
       "\t<li>30</li>\n",
       "</ol>\n"
      ],
      "text/latex": [
       "\\begin{enumerate*}\n",
       "\\item 1218\n",
       "\\item 30\n",
       "\\end{enumerate*}\n"
      ],
      "text/markdown": [
       "1. 1218\n",
       "2. 30\n",
       "\n",
       "\n"
      ],
      "text/plain": [
       "[1] 1218   30"
      ]
     },
     "metadata": {},
     "output_type": "display_data"
    },
    {
     "name": "stdout",
     "output_type": "stream",
     "text": [
      "OGR data source with driver: ESRI Shapefile \n",
      "Source: \"/home/greg/sftp/data/NEONdomains\", layer: \"NEON_Domains\"\n",
      "with 22 features\n",
      "It has 6 fields\n"
     ]
    },
    {
     "data": {
      "text/html": [
       "<ol class=list-inline>\n",
       "\t<li>1218</li>\n",
       "\t<li>31</li>\n",
       "</ol>\n"
      ],
      "text/latex": [
       "\\begin{enumerate*}\n",
       "\\item 1218\n",
       "\\item 31\n",
       "\\end{enumerate*}\n"
      ],
      "text/markdown": [
       "1. 1218\n",
       "2. 31\n",
       "\n",
       "\n"
      ],
      "text/plain": [
       "[1] 1218   31"
      ]
     },
     "metadata": {},
     "output_type": "display_data"
    }
   ],
   "source": [
    "dim(calcs)\n",
    "\n",
    "# Assign NEON domain names to each stationid in the calcs dataframe\n",
    "neonDomains <- readOGR(\"/home/greg/sftp/data/NEONdomains/\",\"NEON_Domains\")\n",
    "neonDomains <- spTransform(neonDomains, CRS(\"+proj=longlat +datum=WGS84\"))\n",
    "\n",
    "neonDomains<- subset(neonDomains, DomainID!=18 & DomainID!=19 & \n",
    "                     DomainID!=20)\n",
    "ushcnpoints <- SpatialPoints(calcs[,c('longitude', 'latitude')],\n",
    "                             proj4string = CRS(\"+proj=longlat +datum=WGS84\"))\n",
    "\n",
    "pt.in.poly <- over(ushcnpoints, neonDomains, returnlist=TRUE)\n",
    "calcs$neonDomainName <- pt.in.poly$DomainName\n",
    "dim(calcs)"
   ]
  },
  {
   "cell_type": "code",
   "execution_count": 10,
   "metadata": {},
   "outputs": [
    {
     "data": {
      "text/html": [
       "<ol class=list-inline>\n",
       "\t<li>1218</li>\n",
       "\t<li>31</li>\n",
       "</ol>\n"
      ],
      "text/latex": [
       "\\begin{enumerate*}\n",
       "\\item 1218\n",
       "\\item 31\n",
       "\\end{enumerate*}\n"
      ],
      "text/markdown": [
       "1. 1218\n",
       "2. 31\n",
       "\n",
       "\n"
      ],
      "text/plain": [
       "[1] 1218   31"
      ]
     },
     "metadata": {},
     "output_type": "display_data"
    },
    {
     "data": {
      "text/html": [
       "<ol class=list-inline>\n",
       "\t<li>1208</li>\n",
       "\t<li>31</li>\n",
       "</ol>\n"
      ],
      "text/latex": [
       "\\begin{enumerate*}\n",
       "\\item 1208\n",
       "\\item 31\n",
       "\\end{enumerate*}\n"
      ],
      "text/markdown": [
       "1. 1208\n",
       "2. 31\n",
       "\n",
       "\n"
      ],
      "text/plain": [
       "[1] 1208   31"
      ]
     },
     "metadata": {},
     "output_type": "display_data"
    }
   ],
   "source": [
    "# for some reason some observations have no neon domain\n",
    "# and are assigned NA. Remove them\n",
    "dim(calcs)\n",
    "calcs2 <- subset(calcs, !is.na(neonDomainName))\n",
    "dim(calcs2)"
   ]
  },
  {
   "cell_type": "code",
   "execution_count": 11,
   "metadata": {},
   "outputs": [],
   "source": [
    "calcs2$spei12mo_trend_scale <- (calcs2$spei12mo_trend_scale * 12 * calcs2$nyears)/10\n",
    "calcs2$spei12mo_cv5yr_trend_scale <- (calcs2$spei12mo_cv5yr_trend_scale * 12 * calcs2$nyears)/10\n",
    "out <- calcs2 %>% group_by(neonDomainName) %>%\n",
    "    summarise(spei12mo_trend_scale=mean(spei12mo_trend_scale, na.rm=TRUE),\n",
    "              spei12mo_cv5yr_trend_scale=mean(spei12mo_cv5yr_trend_scale, na.rm=TRUE))"
   ]
  },
  {
   "cell_type": "code",
   "execution_count": 12,
   "metadata": {},
   "outputs": [
    {
     "data": {
      "text/html": [
       "<table>\n",
       "<caption>A tibble: 17 × 3</caption>\n",
       "<thead>\n",
       "\t<tr><th scope=col>neonDomainName</th><th scope=col>spei12mo_trend_scale</th><th scope=col>spei12mo_cv5yr_trend_scale</th></tr>\n",
       "\t<tr><th scope=col>&lt;fct&gt;</th><th scope=col>&lt;dbl&gt;</th><th scope=col>&lt;dbl&gt;</th></tr>\n",
       "</thead>\n",
       "<tbody>\n",
       "\t<tr><td>Appalachians / Cumberland Plateau  </td><td> 0.052921377</td><td>-0.003551187</td></tr>\n",
       "\t<tr><td>Atlantic Neotropical               </td><td>-0.067803496</td><td> 0.002968371</td></tr>\n",
       "\t<tr><td>Central Plains                     </td><td>-0.019304661</td><td> 0.003834096</td></tr>\n",
       "\t<tr><td>Desert Southwest                   </td><td>-0.129484582</td><td> 0.021448645</td></tr>\n",
       "\t<tr><td>Great Basin                        </td><td>-0.061047741</td><td> 0.010919175</td></tr>\n",
       "\t<tr><td>Great Lakes                        </td><td> 0.033527011</td><td>-0.003742819</td></tr>\n",
       "\t<tr><td>Mid Atlantic                       </td><td>-0.013820239</td><td> 0.007773787</td></tr>\n",
       "\t<tr><td>Northeast                          </td><td> 0.039714018</td><td>-0.000939747</td></tr>\n",
       "\t<tr><td>Northern Plains                    </td><td>-0.002234935</td><td> 0.004561564</td></tr>\n",
       "\t<tr><td>Northern Rockies                   </td><td>-0.021883682</td><td> 0.005479932</td></tr>\n",
       "\t<tr><td>Ozarks Complex                     </td><td> 0.058133403</td><td>-0.003537152</td></tr>\n",
       "\t<tr><td>Pacific Northwest                  </td><td>-0.026684780</td><td> 0.008506548</td></tr>\n",
       "\t<tr><td>Pacific Southwest                  </td><td>-0.067710422</td><td> 0.017910538</td></tr>\n",
       "\t<tr><td>Prairie Peninsula                  </td><td> 0.055955434</td><td>-0.003935844</td></tr>\n",
       "\t<tr><td>Southeast                          </td><td> 0.006463910</td><td> 0.004436247</td></tr>\n",
       "\t<tr><td>Southern Plains                    </td><td> 0.046716450</td><td>-0.002216100</td></tr>\n",
       "\t<tr><td>Southern Rockies / Colorado Plateau</td><td>-0.062419230</td><td> 0.010578045</td></tr>\n",
       "</tbody>\n",
       "</table>\n"
      ],
      "text/latex": [
       "A tibble: 17 × 3\n",
       "\\begin{tabular}{r|lll}\n",
       " neonDomainName & spei12mo\\_trend\\_scale & spei12mo\\_cv5yr\\_trend\\_scale\\\\\n",
       " <fct> & <dbl> & <dbl>\\\\\n",
       "\\hline\n",
       "\t Appalachians / Cumberland Plateau   &  0.052921377 & -0.003551187\\\\\n",
       "\t Atlantic Neotropical                & -0.067803496 &  0.002968371\\\\\n",
       "\t Central Plains                      & -0.019304661 &  0.003834096\\\\\n",
       "\t Desert Southwest                    & -0.129484582 &  0.021448645\\\\\n",
       "\t Great Basin                         & -0.061047741 &  0.010919175\\\\\n",
       "\t Great Lakes                         &  0.033527011 & -0.003742819\\\\\n",
       "\t Mid Atlantic                        & -0.013820239 &  0.007773787\\\\\n",
       "\t Northeast                           &  0.039714018 & -0.000939747\\\\\n",
       "\t Northern Plains                     & -0.002234935 &  0.004561564\\\\\n",
       "\t Northern Rockies                    & -0.021883682 &  0.005479932\\\\\n",
       "\t Ozarks Complex                      &  0.058133403 & -0.003537152\\\\\n",
       "\t Pacific Northwest                   & -0.026684780 &  0.008506548\\\\\n",
       "\t Pacific Southwest                   & -0.067710422 &  0.017910538\\\\\n",
       "\t Prairie Peninsula                   &  0.055955434 & -0.003935844\\\\\n",
       "\t Southeast                           &  0.006463910 &  0.004436247\\\\\n",
       "\t Southern Plains                     &  0.046716450 & -0.002216100\\\\\n",
       "\t Southern Rockies / Colorado Plateau & -0.062419230 &  0.010578045\\\\\n",
       "\\end{tabular}\n"
      ],
      "text/markdown": [
       "\n",
       "A tibble: 17 × 3\n",
       "\n",
       "| neonDomainName &lt;fct&gt; | spei12mo_trend_scale &lt;dbl&gt; | spei12mo_cv5yr_trend_scale &lt;dbl&gt; |\n",
       "|---|---|---|\n",
       "| Appalachians / Cumberland Plateau   |  0.052921377 | -0.003551187 |\n",
       "| Atlantic Neotropical                | -0.067803496 |  0.002968371 |\n",
       "| Central Plains                      | -0.019304661 |  0.003834096 |\n",
       "| Desert Southwest                    | -0.129484582 |  0.021448645 |\n",
       "| Great Basin                         | -0.061047741 |  0.010919175 |\n",
       "| Great Lakes                         |  0.033527011 | -0.003742819 |\n",
       "| Mid Atlantic                        | -0.013820239 |  0.007773787 |\n",
       "| Northeast                           |  0.039714018 | -0.000939747 |\n",
       "| Northern Plains                     | -0.002234935 |  0.004561564 |\n",
       "| Northern Rockies                    | -0.021883682 |  0.005479932 |\n",
       "| Ozarks Complex                      |  0.058133403 | -0.003537152 |\n",
       "| Pacific Northwest                   | -0.026684780 |  0.008506548 |\n",
       "| Pacific Southwest                   | -0.067710422 |  0.017910538 |\n",
       "| Prairie Peninsula                   |  0.055955434 | -0.003935844 |\n",
       "| Southeast                           |  0.006463910 |  0.004436247 |\n",
       "| Southern Plains                     |  0.046716450 | -0.002216100 |\n",
       "| Southern Rockies / Colorado Plateau | -0.062419230 |  0.010578045 |\n",
       "\n"
      ],
      "text/plain": [
       "   neonDomainName                      spei12mo_trend_scale\n",
       "1  Appalachians / Cumberland Plateau    0.052921377        \n",
       "2  Atlantic Neotropical                -0.067803496        \n",
       "3  Central Plains                      -0.019304661        \n",
       "4  Desert Southwest                    -0.129484582        \n",
       "5  Great Basin                         -0.061047741        \n",
       "6  Great Lakes                          0.033527011        \n",
       "7  Mid Atlantic                        -0.013820239        \n",
       "8  Northeast                            0.039714018        \n",
       "9  Northern Plains                     -0.002234935        \n",
       "10 Northern Rockies                    -0.021883682        \n",
       "11 Ozarks Complex                       0.058133403        \n",
       "12 Pacific Northwest                   -0.026684780        \n",
       "13 Pacific Southwest                   -0.067710422        \n",
       "14 Prairie Peninsula                    0.055955434        \n",
       "15 Southeast                            0.006463910        \n",
       "16 Southern Plains                      0.046716450        \n",
       "17 Southern Rockies / Colorado Plateau -0.062419230        \n",
       "   spei12mo_cv5yr_trend_scale\n",
       "1  -0.003551187              \n",
       "2   0.002968371              \n",
       "3   0.003834096              \n",
       "4   0.021448645              \n",
       "5   0.010919175              \n",
       "6  -0.003742819              \n",
       "7   0.007773787              \n",
       "8  -0.000939747              \n",
       "9   0.004561564              \n",
       "10  0.005479932              \n",
       "11 -0.003537152              \n",
       "12  0.008506548              \n",
       "13  0.017910538              \n",
       "14 -0.003935844              \n",
       "15  0.004436247              \n",
       "16 -0.002216100              \n",
       "17  0.010578045              "
      ]
     },
     "metadata": {},
     "output_type": "display_data"
    }
   ],
   "source": [
    "out"
   ]
  },
  {
   "cell_type": "code",
   "execution_count": 13,
   "metadata": {},
   "outputs": [],
   "source": [
    "library('forcats')\n",
    "df <- merge(df, out, by='neonDomainName', all=TRUE)\n",
    "colnames(df) <- c('Domain', 'MAP', 'MAT', 'NPP_Precip', 'NPP_SPEI', 'SPEI_trend', 'SPEI_CV_trend')\n",
    "df <- transform(df, Domain=reorder(Domain, MAP))\n",
    "df <- df %>% mutate(Domain = fct_recode(Domain,\n",
    "            \"S Rockies/Col. Plat.\" = \"Southern Rockies / Colorado Plateau\",\n",
    "            \"Applachians/C. Plat.\" = \"Appalachians / Cumberland Plateau\"))\n",
    "\n",
    "df_out <- df\n",
    "colnames(df_out) <- c('Domain', 'MAP', 'MAT', 'NPP:Precip', 'NPP:SPEI', 'SPEI trend', 'SPEI CV trend')"
   ]
  },
  {
   "cell_type": "code",
   "execution_count": 14,
   "metadata": {},
   "outputs": [
    {
     "data": {
      "text/html": [
       "<table>\n",
       "<caption>A data.frame: 17 × 7</caption>\n",
       "<thead>\n",
       "\t<tr><th></th><th scope=col>Domain</th><th scope=col>MAP</th><th scope=col>MAT</th><th scope=col>NPP:Precip</th><th scope=col>NPP:SPEI</th><th scope=col>SPEI trend</th><th scope=col>SPEI CV trend</th></tr>\n",
       "\t<tr><th></th><th scope=col>&lt;fct&gt;</th><th scope=col>&lt;dbl&gt;</th><th scope=col>&lt;dbl&gt;</th><th scope=col>&lt;dbl&gt;</th><th scope=col>&lt;dbl&gt;</th><th scope=col>&lt;dbl&gt;</th><th scope=col>&lt;dbl&gt;</th></tr>\n",
       "</thead>\n",
       "<tbody>\n",
       "\t<tr><th scope=row>4</th><td>Desert Southwest    </td><td> 245.7367</td><td>18.052197</td><td> 1.45635260</td><td> 5.626502229</td><td>-0.129484582</td><td> 0.021448645</td></tr>\n",
       "\t<tr><th scope=row>5</th><td>Great Basin         </td><td> 320.9593</td><td> 8.297809</td><td> 0.77694343</td><td> 1.690139429</td><td>-0.061047741</td><td> 0.010919175</td></tr>\n",
       "\t<tr><th scope=row>17</th><td>S Rockies/Col. Plat.</td><td> 328.9915</td><td> 9.130984</td><td> 1.01437360</td><td> 2.726249165</td><td>-0.062419230</td><td> 0.010578045</td></tr>\n",
       "\t<tr><th scope=row>9</th><td>Northern Plains     </td><td> 438.3639</td><td> 6.080188</td><td> 1.34675589</td><td> 1.571764986</td><td>-0.002234935</td><td> 0.004561564</td></tr>\n",
       "\t<tr><th scope=row>10</th><td>Northern Rockies    </td><td> 444.7923</td><td> 5.451894</td><td> 0.70514926</td><td> 0.482933306</td><td>-0.021883682</td><td> 0.005479932</td></tr>\n",
       "\t<tr><th scope=row>3</th><td>Central Plains      </td><td> 494.1643</td><td>11.554669</td><td> 1.41232749</td><td> 3.034590556</td><td>-0.019304661</td><td> 0.003834096</td></tr>\n",
       "\t<tr><th scope=row>13</th><td>Pacific Southwest   </td><td> 593.5586</td><td>14.895990</td><td> 0.38088306</td><td> 2.333301508</td><td>-0.067710422</td><td> 0.017910538</td></tr>\n",
       "\t<tr><th scope=row>16</th><td>Southern Plains     </td><td> 753.6716</td><td>17.735482</td><td> 1.02995585</td><td> 4.506094258</td><td> 0.046716450</td><td>-0.002216100</td></tr>\n",
       "\t<tr><th scope=row>6</th><td>Great Lakes         </td><td> 816.6060</td><td> 6.732131</td><td> 0.10796510</td><td>-0.003089592</td><td> 0.033527011</td><td>-0.003742819</td></tr>\n",
       "\t<tr><th scope=row>14</th><td>Prairie Peninsula   </td><td> 867.3632</td><td> 9.846355</td><td> 0.28687210</td><td> 0.234985137</td><td> 0.055955434</td><td>-0.003935844</td></tr>\n",
       "\t<tr><th scope=row>8</th><td>Northeast           </td><td>1035.8177</td><td> 7.976203</td><td>-0.09438470</td><td>-0.231207749</td><td> 0.039714018</td><td>-0.000939747</td></tr>\n",
       "\t<tr><th scope=row>7</th><td>Mid Atlantic        </td><td>1140.3229</td><td>14.047997</td><td> 0.16357645</td><td> 0.184205491</td><td>-0.013820239</td><td> 0.007773787</td></tr>\n",
       "\t<tr><th scope=row>1</th><td>Applachians/C. Plat.</td><td>1169.2229</td><td>12.564964</td><td> 0.09451571</td><td>-0.047924517</td><td> 0.052921377</td><td>-0.003551187</td></tr>\n",
       "\t<tr><th scope=row>11</th><td>Ozarks Complex      </td><td>1241.8157</td><td>16.027917</td><td> 0.14453118</td><td> 0.430443953</td><td> 0.058133403</td><td>-0.003537152</td></tr>\n",
       "\t<tr><th scope=row>12</th><td>Pacific Northwest   </td><td>1284.8193</td><td>10.133432</td><td>-0.08550077</td><td>-0.567991748</td><td>-0.026684780</td><td> 0.008506548</td></tr>\n",
       "\t<tr><th scope=row>15</th><td>Southeast           </td><td>1368.2617</td><td>19.400804</td><td> 0.24058461</td><td> 0.858308023</td><td> 0.006463910</td><td> 0.004436247</td></tr>\n",
       "\t<tr><th scope=row>2</th><td>Atlantic Neotropical</td><td>1491.3328</td><td>23.380670</td><td> 0.18714757</td><td> 0.729505367</td><td>-0.067803496</td><td> 0.002968371</td></tr>\n",
       "</tbody>\n",
       "</table>\n"
      ],
      "text/latex": [
       "A data.frame: 17 × 7\n",
       "\\begin{tabular}{r|lllllll}\n",
       "  & Domain & MAP & MAT & NPP:Precip & NPP:SPEI & SPEI trend & SPEI CV trend\\\\\n",
       "  & <fct> & <dbl> & <dbl> & <dbl> & <dbl> & <dbl> & <dbl>\\\\\n",
       "\\hline\n",
       "\t4 & Desert Southwest     &  245.7367 & 18.052197 &  1.45635260 &  5.626502229 & -0.129484582 &  0.021448645\\\\\n",
       "\t5 & Great Basin          &  320.9593 &  8.297809 &  0.77694343 &  1.690139429 & -0.061047741 &  0.010919175\\\\\n",
       "\t17 & S Rockies/Col. Plat. &  328.9915 &  9.130984 &  1.01437360 &  2.726249165 & -0.062419230 &  0.010578045\\\\\n",
       "\t9 & Northern Plains      &  438.3639 &  6.080188 &  1.34675589 &  1.571764986 & -0.002234935 &  0.004561564\\\\\n",
       "\t10 & Northern Rockies     &  444.7923 &  5.451894 &  0.70514926 &  0.482933306 & -0.021883682 &  0.005479932\\\\\n",
       "\t3 & Central Plains       &  494.1643 & 11.554669 &  1.41232749 &  3.034590556 & -0.019304661 &  0.003834096\\\\\n",
       "\t13 & Pacific Southwest    &  593.5586 & 14.895990 &  0.38088306 &  2.333301508 & -0.067710422 &  0.017910538\\\\\n",
       "\t16 & Southern Plains      &  753.6716 & 17.735482 &  1.02995585 &  4.506094258 &  0.046716450 & -0.002216100\\\\\n",
       "\t6 & Great Lakes          &  816.6060 &  6.732131 &  0.10796510 & -0.003089592 &  0.033527011 & -0.003742819\\\\\n",
       "\t14 & Prairie Peninsula    &  867.3632 &  9.846355 &  0.28687210 &  0.234985137 &  0.055955434 & -0.003935844\\\\\n",
       "\t8 & Northeast            & 1035.8177 &  7.976203 & -0.09438470 & -0.231207749 &  0.039714018 & -0.000939747\\\\\n",
       "\t7 & Mid Atlantic         & 1140.3229 & 14.047997 &  0.16357645 &  0.184205491 & -0.013820239 &  0.007773787\\\\\n",
       "\t1 & Applachians/C. Plat. & 1169.2229 & 12.564964 &  0.09451571 & -0.047924517 &  0.052921377 & -0.003551187\\\\\n",
       "\t11 & Ozarks Complex       & 1241.8157 & 16.027917 &  0.14453118 &  0.430443953 &  0.058133403 & -0.003537152\\\\\n",
       "\t12 & Pacific Northwest    & 1284.8193 & 10.133432 & -0.08550077 & -0.567991748 & -0.026684780 &  0.008506548\\\\\n",
       "\t15 & Southeast            & 1368.2617 & 19.400804 &  0.24058461 &  0.858308023 &  0.006463910 &  0.004436247\\\\\n",
       "\t2 & Atlantic Neotropical & 1491.3328 & 23.380670 &  0.18714757 &  0.729505367 & -0.067803496 &  0.002968371\\\\\n",
       "\\end{tabular}\n"
      ],
      "text/markdown": [
       "\n",
       "A data.frame: 17 × 7\n",
       "\n",
       "| <!--/--> | Domain &lt;fct&gt; | MAP &lt;dbl&gt; | MAT &lt;dbl&gt; | NPP:Precip &lt;dbl&gt; | NPP:SPEI &lt;dbl&gt; | SPEI trend &lt;dbl&gt; | SPEI CV trend &lt;dbl&gt; |\n",
       "|---|---|---|---|---|---|---|---|\n",
       "| 4 | Desert Southwest     |  245.7367 | 18.052197 |  1.45635260 |  5.626502229 | -0.129484582 |  0.021448645 |\n",
       "| 5 | Great Basin          |  320.9593 |  8.297809 |  0.77694343 |  1.690139429 | -0.061047741 |  0.010919175 |\n",
       "| 17 | S Rockies/Col. Plat. |  328.9915 |  9.130984 |  1.01437360 |  2.726249165 | -0.062419230 |  0.010578045 |\n",
       "| 9 | Northern Plains      |  438.3639 |  6.080188 |  1.34675589 |  1.571764986 | -0.002234935 |  0.004561564 |\n",
       "| 10 | Northern Rockies     |  444.7923 |  5.451894 |  0.70514926 |  0.482933306 | -0.021883682 |  0.005479932 |\n",
       "| 3 | Central Plains       |  494.1643 | 11.554669 |  1.41232749 |  3.034590556 | -0.019304661 |  0.003834096 |\n",
       "| 13 | Pacific Southwest    |  593.5586 | 14.895990 |  0.38088306 |  2.333301508 | -0.067710422 |  0.017910538 |\n",
       "| 16 | Southern Plains      |  753.6716 | 17.735482 |  1.02995585 |  4.506094258 |  0.046716450 | -0.002216100 |\n",
       "| 6 | Great Lakes          |  816.6060 |  6.732131 |  0.10796510 | -0.003089592 |  0.033527011 | -0.003742819 |\n",
       "| 14 | Prairie Peninsula    |  867.3632 |  9.846355 |  0.28687210 |  0.234985137 |  0.055955434 | -0.003935844 |\n",
       "| 8 | Northeast            | 1035.8177 |  7.976203 | -0.09438470 | -0.231207749 |  0.039714018 | -0.000939747 |\n",
       "| 7 | Mid Atlantic         | 1140.3229 | 14.047997 |  0.16357645 |  0.184205491 | -0.013820239 |  0.007773787 |\n",
       "| 1 | Applachians/C. Plat. | 1169.2229 | 12.564964 |  0.09451571 | -0.047924517 |  0.052921377 | -0.003551187 |\n",
       "| 11 | Ozarks Complex       | 1241.8157 | 16.027917 |  0.14453118 |  0.430443953 |  0.058133403 | -0.003537152 |\n",
       "| 12 | Pacific Northwest    | 1284.8193 | 10.133432 | -0.08550077 | -0.567991748 | -0.026684780 |  0.008506548 |\n",
       "| 15 | Southeast            | 1368.2617 | 19.400804 |  0.24058461 |  0.858308023 |  0.006463910 |  0.004436247 |\n",
       "| 2 | Atlantic Neotropical | 1491.3328 | 23.380670 |  0.18714757 |  0.729505367 | -0.067803496 |  0.002968371 |\n",
       "\n"
      ],
      "text/plain": [
       "   Domain               MAP       MAT       NPP:Precip  NPP:SPEI    \n",
       "4  Desert Southwest      245.7367 18.052197  1.45635260  5.626502229\n",
       "5  Great Basin           320.9593  8.297809  0.77694343  1.690139429\n",
       "17 S Rockies/Col. Plat.  328.9915  9.130984  1.01437360  2.726249165\n",
       "9  Northern Plains       438.3639  6.080188  1.34675589  1.571764986\n",
       "10 Northern Rockies      444.7923  5.451894  0.70514926  0.482933306\n",
       "3  Central Plains        494.1643 11.554669  1.41232749  3.034590556\n",
       "13 Pacific Southwest     593.5586 14.895990  0.38088306  2.333301508\n",
       "16 Southern Plains       753.6716 17.735482  1.02995585  4.506094258\n",
       "6  Great Lakes           816.6060  6.732131  0.10796510 -0.003089592\n",
       "14 Prairie Peninsula     867.3632  9.846355  0.28687210  0.234985137\n",
       "8  Northeast            1035.8177  7.976203 -0.09438470 -0.231207749\n",
       "7  Mid Atlantic         1140.3229 14.047997  0.16357645  0.184205491\n",
       "1  Applachians/C. Plat. 1169.2229 12.564964  0.09451571 -0.047924517\n",
       "11 Ozarks Complex       1241.8157 16.027917  0.14453118  0.430443953\n",
       "12 Pacific Northwest    1284.8193 10.133432 -0.08550077 -0.567991748\n",
       "15 Southeast            1368.2617 19.400804  0.24058461  0.858308023\n",
       "2  Atlantic Neotropical 1491.3328 23.380670  0.18714757  0.729505367\n",
       "   SPEI trend   SPEI CV trend\n",
       "4  -0.129484582  0.021448645 \n",
       "5  -0.061047741  0.010919175 \n",
       "17 -0.062419230  0.010578045 \n",
       "9  -0.002234935  0.004561564 \n",
       "10 -0.021883682  0.005479932 \n",
       "3  -0.019304661  0.003834096 \n",
       "13 -0.067710422  0.017910538 \n",
       "16  0.046716450 -0.002216100 \n",
       "6   0.033527011 -0.003742819 \n",
       "14  0.055955434 -0.003935844 \n",
       "8   0.039714018 -0.000939747 \n",
       "7  -0.013820239  0.007773787 \n",
       "1   0.052921377 -0.003551187 \n",
       "11  0.058133403 -0.003537152 \n",
       "12 -0.026684780  0.008506548 \n",
       "15  0.006463910  0.004436247 \n",
       "2  -0.067803496  0.002968371 "
      ]
     },
     "metadata": {},
     "output_type": "display_data"
    }
   ],
   "source": [
    "df_out[order(df_out$Domain),]\n",
    "\n",
    "write_csv(df_out[order(df_out$Domain),], paste0(dn_path, 'sensitivity_analysis/ecoregion_risk_table.csv'))"
   ]
  },
  {
   "cell_type": "code",
   "execution_count": 15,
   "metadata": {},
   "outputs": [],
   "source": [
    "# Reorder dataframe by MAP\n",
    "df2 <- df\n",
    "\n",
    "# Also get a color scheme for domains sorted by map\n",
    "library('RColorBrewer')\n",
    "cols <- colorRampPalette(brewer.pal(11,\"Spectral\"))\n",
    "myPal <- cols(17)"
   ]
  },
  {
   "cell_type": "code",
   "execution_count": 16,
   "metadata": {},
   "outputs": [
    {
     "data": {
      "image/png": "[encoded data removed]",
      "text/plain": [
       "plot without title"
      ]
     },
     "metadata": {},
     "output_type": "display_data"
    }
   ],
   "source": [
    "options(repr.plot.width=8.5, repr.plot.height=5)\n",
    "\n",
    "ggplot(df2, aes(SPEI_trend, NPP_Precip)) +\n",
    "    geom_point(aes(fill=Domain), shape=21, col='black', size=3.5) +\n",
    "    scale_fill_manual(values=myPal) +\n",
    "    scale_x_reverse() + \n",
    "    theme_minimal() + theme(panel.grid.minor=element_blank(),axis.text=element_text(size=13),\n",
    "                            axis.title=element_text(size=14,face=\"bold\"),\n",
    "                            legend.title=element_text(size=14),legend.text=element_text(size=12)) +\n",
    "    guides(fill=guide_legend(title='NEON Domain')) +\n",
    "    xlab(expression(bold(\"Trend in aridity (more arid\" %->% \")\"))) + ylab(expression(bold(NDVI[int]*\" sensitivity (more sensitive\" %->% \")\"))) +\n",
    "    #geom_text(aes(label=Domain),hjust=0, vjust=0) +\n",
    "    geom_vline(xintercept = 0) + geom_hline(yintercept = 0)\n",
    "\n",
    "ggsave('../figs/NPP_precip_risk.pdf', width=8, height=5)\n",
    "ggsave('../figs/NPP_precip_risk.png', width=8, height=5, dpi=600)"
   ]
  }
 ],
 "metadata": {
  "kernelspec": {
   "display_name": "R",
   "language": "R",
   "name": "ir"
  },
  "language_info": {
   "codemirror_mode": "r",
   "file_extension": ".r",
   "mimetype": "text/x-r-source",
   "name": "R",
   "pygments_lexer": "r",
   "version": "3.6.1"
  }
 },
 "nbformat": 4,
 "nbformat_minor": 4
}
